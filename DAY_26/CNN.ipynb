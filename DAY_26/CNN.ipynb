{
 "cells": [
  {
   "cell_type": "markdown",
   "id": "06e9d479-0893-4a01-a10c-29d3674fbc20",
   "metadata": {},
   "source": [
    "# What is CNN ?(Convolutional Neural Network.)\n",
    "- cnn are sepical neural networks for img\n",
    "- they learn to detect patterns like\n",
    "1. edges,shapes\n",
    "2. texteus,objects\n",
    "3. insteted of feding of row img pixcels to a normaql ANN CNN uses filters (kernels) that slide over the img and extract features just like your eyes scaning an object"
   ]
  },
  {
   "cell_type": "markdown",
   "id": "5b0350c3-c8e1-49b5-ac81-d578da38aa33",
   "metadata": {},
   "source": [
    "# input image\n",
    "    ↓\n",
    "convoluction  → "
   ]
  },
  {
   "cell_type": "markdown",
   "id": "4798bdc9-ae65-41ff-aa21-e0a8c27a9b82",
   "metadata": {},
   "source": [
    "# dataset =  mnist (28*28 img of digits) 0-9"
   ]
  },
  {
   "cell_type": "markdown",
   "id": "fcbbc3b4-ef4c-4a8d-bb75-94b9c1f0f8dd",
   "metadata": {},
   "source": [
    "- Each img is 28*28 pixel\n",
    "- grays scale\n",
    "- labeled with the correct digit (0 to 9)"
   ]
  },
  {
   "cell_type": "code",
   "execution_count": 9,
   "id": "6bf97e0f-b722-47ff-8656-8ed9cfbcd403",
   "metadata": {},
   "outputs": [],
   "source": [
    "import matplotlib.pyplot as plt\n",
    "import tensorflow as tf\n",
    "from tensorflow.keras.datasets import mnist\n",
    "from tensorflow.keras.models import Sequential\n",
    "from tensorflow.keras.utils import to_categorical\n",
    "from tensorflow.keras.layers import Conv2D,MaxPooling2D,Flatten,Dense,Dropout"
   ]
  },
  {
   "cell_type": "code",
   "execution_count": 10,
   "id": "f2e8215d-22b6-49ec-9d47-c4ae4f2b349b",
   "metadata": {},
   "outputs": [
    {
     "name": "stdout",
     "output_type": "stream",
     "text": [
      "train shape (60000, 28, 28, 1)\n",
      "test shape (10000, 28, 28, 1)\n"
     ]
    }
   ],
   "source": [
    "# load dataset\n",
    "(X_train,y_train),(X_test,y_test) = mnist.load_data()\n",
    "\n",
    "# reshape for CNN :(samples,height , width , channel)\n",
    "X_train = X_train.reshape(-1,28,28,1).astype('float32')/255\n",
    "X_test = X_test.reshape(-1,28,28,1).astype('float32')/255\n",
    "\n",
    "# One-hot encode labels\n",
    "y_train = to_categorical(y_train)\n",
    "y_test = to_categorical(y_test)\n",
    "\n",
    "print(\"train shape\",X_train.shape)\n",
    "print(\"test shape\",X_test.shape)"
   ]
  },
  {
   "cell_type": "markdown",
   "id": "98204fbf-4502-4804-8b67-b5226466b67f",
   "metadata": {},
   "source": [
    "# Build CNN model"
   ]
  },
  {
   "cell_type": "code",
   "execution_count": 11,
   "id": "432d5e69-44e0-40d2-b83a-680d1d8008c6",
   "metadata": {},
   "outputs": [
    {
     "name": "stderr",
     "output_type": "stream",
     "text": [
      "C:\\Users\\vaibh\\AppData\\Local\\Programs\\Python\\Python313\\Lib\\site-packages\\keras\\src\\layers\\convolutional\\base_conv.py:113: UserWarning: Do not pass an `input_shape`/`input_dim` argument to a layer. When using Sequential models, prefer using an `Input(shape)` object as the first layer in the model instead.\n",
      "  super().__init__(activity_regularizer=activity_regularizer, **kwargs)\n"
     ]
    }
   ],
   "source": [
    "model = Sequential()\n",
    "\n",
    "# Conv Layer 1\n",
    "model.add(Conv2D(32,kernel_size=(3,3),activation='relu',input_shape = (28,28,1)))\n",
    "\n",
    "# Pooling Layer\n",
    "model.add(MaxPooling2D(pool_size=(2,2)))\n",
    "\n",
    "# Conv Layer 2\n",
    "model.add(Conv2D(64,kernel_size=(3,3),activation='relu'))\n",
    "model.add(MaxPooling2D(pool_size=(2,2)))\n",
    "\n",
    "# Flatten before Dense layers\n",
    "model.add(Flatten())\n",
    "\n",
    "# Fully connect layer \n",
    "model.add(Dense(128,activation = 'relu'))\n",
    "\n",
    "# output layer (10 digits)\n",
    "model.add(Dense(10,activation='softmax'))"
   ]
  },
  {
   "cell_type": "code",
   "execution_count": 12,
   "id": "8593d74d-7346-45a8-a57d-83fb814ea1b1",
   "metadata": {},
   "outputs": [],
   "source": [
    "# compile model.\n",
    "model.compile(optimizer='Adam',loss = 'categorical_crossentropy',metrics=['accuracy'])"
   ]
  },
  {
   "cell_type": "markdown",
   "id": "2c36b9a3-b61d-4a67-9410-a536e21a70d9",
   "metadata": {},
   "source": [
    "# train the model"
   ]
  },
  {
   "cell_type": "code",
   "execution_count": 13,
   "id": "e75865d4-c5fe-45ef-b399-9cb5a86bd6ce",
   "metadata": {},
   "outputs": [
    {
     "name": "stdout",
     "output_type": "stream",
     "text": [
      "Epoch 1/5\n",
      "\u001b[1m422/422\u001b[0m \u001b[32m━━━━━━━━━━━━━━━━━━━━\u001b[0m\u001b[37m\u001b[0m \u001b[1m35s\u001b[0m 76ms/step - accuracy: 0.9319 - loss: 0.2302 - val_accuracy: 0.9823 - val_loss: 0.0614\n",
      "Epoch 2/5\n",
      "\u001b[1m422/422\u001b[0m \u001b[32m━━━━━━━━━━━━━━━━━━━━\u001b[0m\u001b[37m\u001b[0m \u001b[1m37s\u001b[0m 87ms/step - accuracy: 0.9812 - loss: 0.0616 - val_accuracy: 0.9877 - val_loss: 0.0452\n",
      "Epoch 3/5\n",
      "\u001b[1m422/422\u001b[0m \u001b[32m━━━━━━━━━━━━━━━━━━━━\u001b[0m\u001b[37m\u001b[0m \u001b[1m42s\u001b[0m 89ms/step - accuracy: 0.9866 - loss: 0.0429 - val_accuracy: 0.9877 - val_loss: 0.0441\n",
      "Epoch 4/5\n",
      "\u001b[1m422/422\u001b[0m \u001b[32m━━━━━━━━━━━━━━━━━━━━\u001b[0m\u001b[37m\u001b[0m \u001b[1m84s\u001b[0m 199ms/step - accuracy: 0.9896 - loss: 0.0326 - val_accuracy: 0.9892 - val_loss: 0.0372\n",
      "Epoch 5/5\n",
      "\u001b[1m422/422\u001b[0m \u001b[32m━━━━━━━━━━━━━━━━━━━━\u001b[0m\u001b[37m\u001b[0m \u001b[1m13s\u001b[0m 31ms/step - accuracy: 0.9921 - loss: 0.0262 - val_accuracy: 0.9888 - val_loss: 0.0368\n"
     ]
    }
   ],
   "source": [
    "history = model.fit(X_train,y_train, epochs = 5, batch_size= 128,validation_split = 0.1)"
   ]
  },
  {
   "cell_type": "markdown",
   "id": "942acb62-5c07-4ae6-8c25-23fb427b3ff8",
   "metadata": {},
   "source": [
    "# Evaluate performance"
   ]
  },
  {
   "cell_type": "code",
   "execution_count": 14,
   "id": "efcc7a15-6a89-4eac-a511-10aaee358a7f",
   "metadata": {},
   "outputs": [
    {
     "name": "stdout",
     "output_type": "stream",
     "text": [
      "\u001b[1m313/313\u001b[0m \u001b[32m━━━━━━━━━━━━━━━━━━━━\u001b[0m\u001b[37m\u001b[0m \u001b[1m2s\u001b[0m 5ms/step - accuracy: 0.9895 - loss: 0.0285\n",
      "Test Accuracy:0.99\n"
     ]
    }
   ],
   "source": [
    "test_loss,test_acc = model.evaluate(X_test,y_test)\n",
    "print(f\"Test Accuracy:{test_acc:.2f}\")"
   ]
  },
  {
   "cell_type": "code",
   "execution_count": 15,
   "id": "3e90e0dd-5d12-4e35-87b3-ea2734dbe410",
   "metadata": {},
   "outputs": [],
   "source": [
    "# Visualize Training Histroy"
   ]
  },
  {
   "cell_type": "code",
   "execution_count": null,
   "id": "a467f767-2c5f-4532-a3ee-c9ad1d643777",
   "metadata": {},
   "outputs": [],
   "source": [
    "plt.plot(history.histroy['accuracy'],label = \"Train Accuracy\")\n",
    "plt.plot(histroy.histroy['val_accuracy'],\n",
    "        label = \"validation Accuracy\")\n",
    "plt.xlabel(\"Epochs\")\n",
    "plt.ylabel(\"Accuracy\")\n",
    "plt.title(\"CNN Training Accuracy\")\n",
    "plt.legend()\n",
    "plt.show()"
   ]
  }
 ],
 "metadata": {
  "kernelspec": {
   "display_name": "Python 3 (ipykernel)",
   "language": "python",
   "name": "python3"
  },
  "language_info": {
   "codemirror_mode": {
    "name": "ipython",
    "version": 3
   },
   "file_extension": ".py",
   "mimetype": "text/x-python",
   "name": "python",
   "nbconvert_exporter": "python",
   "pygments_lexer": "ipython3",
   "version": "3.13.5"
  }
 },
 "nbformat": 4,
 "nbformat_minor": 5
}
