{
 "cells": [
  {
   "cell_type": "code",
   "execution_count": 1,
   "id": "71888f3d-ee91-46b6-a9dc-ae12e220e178",
   "metadata": {},
   "outputs": [],
   "source": [
    "import matplotlib.pyplot as plt\n",
    "import numpy as np"
   ]
  },
  {
   "cell_type": "code",
   "execution_count": 2,
   "id": "19b6509b-24ce-45d1-877b-e0071d2732e4",
   "metadata": {},
   "outputs": [
    {
     "ename": "NameError",
     "evalue": "name 'label' is not defined",
     "output_type": "error",
     "traceback": [
      "\u001b[31m---------------------------------------------------------------------------\u001b[39m",
      "\u001b[31mNameError\u001b[39m                                 Traceback (most recent call last)",
      "\u001b[36mCell\u001b[39m\u001b[36m \u001b[39m\u001b[32mIn[2]\u001b[39m\u001b[32m, line 4\u001b[39m\n\u001b[32m      2\u001b[39m y1 = np.sin(x)\n\u001b[32m      3\u001b[39m y2 = np.cos(x)\n\u001b[32m----> \u001b[39m\u001b[32m4\u001b[39m plt.plot(x,y1,\u001b[43mlabel\u001b[49m,\u001b[33m\"\u001b[39m\u001b[33msine wave\u001b[39m\u001b[33m\"\u001b[39m,color,\u001b[33m\"\u001b[39m\u001b[33mblue\u001b[39m\u001b[33m\"\u001b[39m,linestyle,\u001b[33m\"\u001b[39m\u001b[33m--\u001b[39m\u001b[33m\"\u001b[39m)\n\u001b[32m      5\u001b[39m plt.plot(x.y2,label,\u001b[33m\"\u001b[39m\u001b[33mco-sine wave\u001b[39m\u001b[33m\"\u001b[39m,color,\u001b[33m\"\u001b[39m\u001b[33mred\u001b[39m\u001b[33m\"\u001b[39m,linestyle,\u001b[33m\"\u001b[39m\u001b[33m*\u001b[39m\u001b[33m\"\u001b[39m)\n\u001b[32m      6\u001b[39m plt.title(\u001b[33m\"\u001b[39m\u001b[33msine wave\u001b[39m\u001b[33m\"\u001b[39m)\n",
      "\u001b[31mNameError\u001b[39m: name 'label' is not defined"
     ]
    }
   ],
   "source": [
    "x = np.linspace(0,2,200)\n",
    "y1 = np.sin(x)\n",
    "y2 = np.cos(x)\n",
    "plt.plot(x,y1,label,\"sine wave\",color,\"blue\",linestyle,\"--\")\n",
    "plt.plot(x.y2,label,\"co-sine wave\",color,\"red\",linestyle,\"*\")\n",
    "plt.title(\"sine wave\")\n",
    "plt.xlabel(\"X label\")\n",
    "plt.ylabel(\"Y label\")\n",
    "plt.leged()\n",
    "plt.grid()\n",
    "plt.show()"
   ]
  },
  {
   "cell_type": "code",
   "execution_count": null,
   "id": "74718300-9013-4210-a538-9279553f14d1",
   "metadata": {},
   "outputs": [],
   "source": []
  }
 ],
 "metadata": {
  "kernelspec": {
   "display_name": "Python 3 (ipykernel)",
   "language": "python",
   "name": "python3"
  },
  "language_info": {
   "codemirror_mode": {
    "name": "ipython",
    "version": 3
   },
   "file_extension": ".py",
   "mimetype": "text/x-python",
   "name": "python",
   "nbconvert_exporter": "python",
   "pygments_lexer": "ipython3",
   "version": "3.13.5"
  }
 },
 "nbformat": 4,
 "nbformat_minor": 5
}
