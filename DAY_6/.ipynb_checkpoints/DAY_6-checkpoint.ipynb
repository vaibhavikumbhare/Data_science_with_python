{
 "cells": [
  {
   "cell_type": "markdown",
   "id": "fb720f20-1a17-4d95-8138-10d87e1066c9",
   "metadata": {},
   "source": [
    "# Numpy Functions"
   ]
  },
  {
   "cell_type": "markdown",
   "id": "e7978e2f-6202-4e47-95c6-64fe83752685",
   "metadata": {},
   "source": [
    "#### sum"
   ]
  },
  {
   "cell_type": "code",
   "execution_count": 5,
   "id": "1bec6a18-0808-44e6-933c-d99d5f70d290",
   "metadata": {},
   "outputs": [],
   "source": [
    "import numpy as np"
   ]
  },
  {
   "cell_type": "code",
   "execution_count": 6,
   "id": "34be274b-88f0-498b-89a5-0337eff1ded2",
   "metadata": {},
   "outputs": [
    {
     "name": "stdout",
     "output_type": "stream",
     "text": [
      "69\n"
     ]
    }
   ],
   "source": [
    "array = np.array([12,2,34,21])\n",
    "print(array.sum())"
   ]
  },
  {
   "cell_type": "markdown",
   "id": "fa482aa3-f0a8-4a35-a1fd-78976c43b239",
   "metadata": {},
   "source": [
    "#### max"
   ]
  },
  {
   "cell_type": "code",
   "execution_count": 4,
   "id": "5cd0ded2-b5be-40dd-a952-ac86b71db5b5",
   "metadata": {},
   "outputs": [
    {
     "name": "stdout",
     "output_type": "stream",
     "text": [
      "34\n"
     ]
    }
   ],
   "source": [
    "print(array.max())"
   ]
  },
  {
   "cell_type": "markdown",
   "id": "1753dc81-879f-482c-9753-0073360883e9",
   "metadata": {},
   "source": [
    "#### min"
   ]
  },
  {
   "cell_type": "code",
   "execution_count": 7,
   "id": "b635ceba-a080-4198-a577-40316692180b",
   "metadata": {},
   "outputs": [
    {
     "name": "stdout",
     "output_type": "stream",
     "text": [
      "2\n"
     ]
    }
   ],
   "source": [
    "print(array.min())"
   ]
  },
  {
   "cell_type": "markdown",
   "id": "43a8dfc2-f5f2-42e8-a391-650d8a8102af",
   "metadata": {},
   "source": [
    "#### standerd Deviation"
   ]
  },
  {
   "cell_type": "markdown",
   "id": "3cf7dff8-2a15-4e19-9d1b-33d68b5821eb",
   "metadata": {},
   "source": [
    "####.std"
   ]
  },
  {
   "cell_type": "code",
   "execution_count": 11,
   "id": "7234bb15-bb71-4134-aa90-b408fa63d6d0",
   "metadata": {},
   "outputs": [
    {
     "name": "stdout",
     "output_type": "stream",
     "text": [
      "11.776565713313877\n"
     ]
    }
   ],
   "source": [
    "print(array.std())"
   ]
  },
  {
   "cell_type": "markdown",
   "id": "6a1bf558-47e9-4715-a660-6299b8e2343b",
   "metadata": {},
   "source": [
    "#### sorting"
   ]
  },
  {
   "cell_type": "code",
   "execution_count": 14,
   "id": "96e96ef2-60fb-4aad-828f-4ca0bf6d6cdd",
   "metadata": {},
   "outputs": [
    {
     "name": "stdout",
     "output_type": "stream",
     "text": [
      "[ 2 12 21 34]\n"
     ]
    }
   ],
   "source": [
    "print(np.sort(array))"
   ]
  },
  {
   "cell_type": "markdown",
   "id": "d9f93be7-0344-4e46-8ef1-aab581b3cb5c",
   "metadata": {},
   "source": []
  }
 ],
 "metadata": {
  "kernelspec": {
   "display_name": "Python 3 (ipykernel)",
   "language": "python",
   "name": "python3"
  },
  "language_info": {
   "codemirror_mode": {
    "name": "ipython",
    "version": 3
   },
   "file_extension": ".py",
   "mimetype": "text/x-python",
   "name": "python",
   "nbconvert_exporter": "python",
   "pygments_lexer": "ipython3",
   "version": "3.13.5"
  }
 },
 "nbformat": 4,
 "nbformat_minor": 5
}
