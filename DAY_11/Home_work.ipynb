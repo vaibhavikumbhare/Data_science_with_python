{
 "cells": [
  {
   "cell_type": "code",
   "execution_count": 2,
   "id": "6ec7fcb2-a944-47cd-ac0e-fed05597ef84",
   "metadata": {},
   "outputs": [],
   "source": [
    "import numpy as np\n",
    "import pandas as pd"
   ]
  },
  {
   "cell_type": "markdown",
   "id": "7f57b30b-a0d5-4523-8457-65069e3dffd0",
   "metadata": {},
   "source": [
    "#  NumPy"
   ]
  },
  {
   "cell_type": "markdown",
   "id": "214f0585-eba6-4085-8059-d557e5801f47",
   "metadata": {},
   "source": [
    "### 1. Create a NumPy array with numbers from 1 to 15 and reshape it into a 3x5 matrix. Print the shape and dimensions of the array."
   ]
  },
  {
   "cell_type": "code",
   "execution_count": 24,
   "id": "6faa28d7-dbdf-4c63-8ec8-0b31fa616576",
   "metadata": {},
   "outputs": [
    {
     "name": "stdout",
     "output_type": "stream",
     "text": [
      "Array =  [ 1  2  3  4  5  6  7  8  9 10 11 12 13 14 15]\n",
      "Re-shape  =  (3, 5)\n",
      "Shape =  (15,)\n",
      "Dimensions =  2\n"
     ]
    }
   ],
   "source": [
    "array = np.array([1,2,3,4,5,6,7,8,9,10,11,12,13,14,15])\n",
    "print(\"Array = \",array)\n",
    "print(\"Re-shape  = \",array.reshape(3,5).shape)\n",
    "print(\"Shape = \",array.shape)\n",
    "print(\"Dimensions = \",array.reshape(3,5).ndim)"
   ]
  },
  {
   "cell_type": "code",
   "execution_count": null,
   "id": "6ea8583e-b405-470f-a1dc-2ac81f498771",
   "metadata": {},
   "outputs": [],
   "source": []
  },
  {
   "cell_type": "markdown",
   "id": "0793317a-5751-46e0-8784-ee1a04afa735",
   "metadata": {},
   "source": [
    "### 2. Generate a 4x4 array with random integers from 10 to 99. Find and print the maximum value of each row."
   ]
  },
  {
   "cell_type": "code",
   "execution_count": 4,
   "id": "d378bf58-39d8-40da-9e59-9c61fba1144e",
   "metadata": {},
   "outputs": [
    {
     "name": "stdout",
     "output_type": "stream",
     "text": [
      "[[11 22 55 80]\n",
      " [72 23 45 10]\n",
      " [25 34 12 14]\n",
      " [14 18 69 67]]\n"
     ]
    }
   ],
   "source": [
    "array2 = np.array([[11,22,55,80],[72,23,45,10],[25,34,12,14],[14,18,69,67]])\n",
    "print(array2)"
   ]
  },
  {
   "cell_type": "code",
   "execution_count": 5,
   "id": "a1453623-82df-46e7-b8fe-c9604b9fa07e",
   "metadata": {},
   "outputs": [
    {
     "name": "stdout",
     "output_type": "stream",
     "text": [
      "80\n",
      "72\n",
      "34\n",
      "69\n"
     ]
    }
   ],
   "source": [
    "print(array2[0].max())\n",
    "print(array2[1].max())\n",
    "print(array2[2].max())\n",
    "print(array2[3].max())"
   ]
  },
  {
   "cell_type": "markdown",
   "id": "8fbf2a09-1df2-4455-9fbd-2c24eeb6dc32",
   "metadata": {},
   "source": [
    "### 3. Create two 2x2 arrays and perform both element-wise multiplication and matrix multiplication.\n"
   ]
  },
  {
   "cell_type": "code",
   "execution_count": 6,
   "id": "d6030586-96bf-474e-a083-2ca5c2a092c5",
   "metadata": {},
   "outputs": [
    {
     "name": "stdout",
     "output_type": "stream",
     "text": [
      "[[50 60]\n",
      " [18 20]]\n"
     ]
    }
   ],
   "source": [
    "array3 = np.array([[10,12],[3,2]])\n",
    "array4 = np.array([[5,5],[6,10]])\n",
    "print(array3*array4)#element wise multi"
   ]
  },
  {
   "cell_type": "code",
   "execution_count": 7,
   "id": "b6ce2624-d5f9-447a-972f-c90051065560",
   "metadata": {},
   "outputs": [
    {
     "name": "stdout",
     "output_type": "stream",
     "text": [
      "[[122 170]\n",
      " [ 27  35]]\n"
     ]
    }
   ],
   "source": [
    "#dot matrix\n",
    "print(array3@array4)"
   ]
  },
  {
   "cell_type": "markdown",
   "id": "ffc4bc24-a913-4b7a-b049-661a43d5f002",
   "metadata": {},
   "source": [
    "#  Pandas "
   ]
  },
  {
   "cell_type": "markdown",
   "id": "fe4e9f40-1699-4a4b-92ef-188687be169a",
   "metadata": {},
   "source": [
    "### 4. Create a DataFrame with columns: Name, Age, and City for 4 people. Display the first two rows.\n"
   ]
  },
  {
   "cell_type": "code",
   "execution_count": 8,
   "id": "d6789e54-6e4c-4cc8-b4ee-7efbcc8458eb",
   "metadata": {},
   "outputs": [
    {
     "name": "stdout",
     "output_type": "stream",
     "text": [
      "        Name  Age    City\n",
      "0   Vaibhavi   25    Pune\n",
      "1  Vaishnavi   30  Mumbai\n"
     ]
    }
   ],
   "source": [
    "info = {\n",
    "    'Name': ['Vaibhavi', 'Vaishnavi', 'komal', 'pooja'],\n",
    "    'Age': [25, 30, 22, 28],\n",
    "    'City': ['Pune', 'Mumbai', 'Delhi', 'solapur']\n",
    "}\n",
    "df = pd.DataFrame(info)\n",
    "print( df.head(2))"
   ]
  },
  {
   "cell_type": "markdown",
   "id": "8726aee2-e03e-427c-a578-fc2c2bb553ea",
   "metadata": {},
   "source": [
    "### 5. Filter the DataFrame to show only people whose age is greater than 25."
   ]
  },
  {
   "cell_type": "code",
   "execution_count": 9,
   "id": "6841b56d-9049-4df4-ada5-091f2c56edb7",
   "metadata": {},
   "outputs": [
    {
     "name": "stdout",
     "output_type": "stream",
     "text": [
      "        Name  Age     City\n",
      "0   Vaibhavi   25     Pune\n",
      "1  Vaishnavi   30   Mumbai\n",
      "3      pooja   28  solapur\n"
     ]
    }
   ],
   "source": [
    "Age = df[df['Age']>=25]\n",
    "print(Age)"
   ]
  },
  {
   "cell_type": "markdown",
   "id": "9bdda5f5-af88-4e77-9e93-a0353dee023c",
   "metadata": {},
   "source": [
    "### 6. Add a new column called Salary to the DataFrame and then sort it in descending order based on salary.\n"
   ]
  },
  {
   "cell_type": "code",
   "execution_count": 10,
   "id": "3d271190-f3aa-45d9-a7e3-e2739175138a",
   "metadata": {},
   "outputs": [
    {
     "name": "stdout",
     "output_type": "stream",
     "text": [
      "None\n",
      "        Name  Age     City  Salary\n",
      "3      pooja   28  solapur   70000\n",
      "1  Vaishnavi   30   Mumbai   60000\n",
      "0   Vaibhavi   25     Pune   50000\n",
      "2      komal   22    Delhi   45000\n"
     ]
    }
   ],
   "source": [
    "df['Salary'] = [50000, 60000, 45000, 70000]\n",
    "sort = df.sort_values(by='Salary',inplace = True,ascending=False)\n",
    "print(sort)\n",
    "print(df)"
   ]
  },
  {
   "cell_type": "markdown",
   "id": "582cfcad-dfc2-4f39-8e99-2c51a37142f8",
   "metadata": {},
   "source": [
    "#  Python Functions\n"
   ]
  },
  {
   "cell_type": "markdown",
   "id": "b1a04f9b-efdb-42f2-b63c-f8ae726301fb",
   "metadata": {},
   "source": [
    "### 7. Write a function that takes a number and returns True if it is even, otherwise False.\n"
   ]
  },
  {
   "cell_type": "code",
   "execution_count": 11,
   "id": "39fbf402-7265-4043-92cf-f147226c8f56",
   "metadata": {},
   "outputs": [
    {
     "name": "stdout",
     "output_type": "stream",
     "text": [
      "True\n"
     ]
    }
   ],
   "source": [
    "def Check_even(i):\n",
    "        if i%2==0:\n",
    "            print(\"True\")\n",
    "        else:\n",
    "            print(\"False\")\n",
    "Check_even(2)"
   ]
  },
  {
   "cell_type": "markdown",
   "id": "f8f09eb4-1469-423c-a9fe-cb32763ffcc7",
   "metadata": {},
   "source": [
    "### 8. Write a function that takes a list of numbers and returns the sum of all numbers.\n"
   ]
  },
  {
   "cell_type": "code",
   "execution_count": 12,
   "id": "90027533-afb9-4b03-b887-420e5a7414d4",
   "metadata": {},
   "outputs": [
    {
     "name": "stdout",
     "output_type": "stream",
     "text": [
      "10\n"
     ]
    }
   ],
   "source": [
    "def numbers(list):\n",
    "    total = sum(list)\n",
    "    print(total)\n",
    "numbers([1,2,3,4])"
   ]
  },
  {
   "cell_type": "markdown",
   "id": "5e42029d-63c2-40c4-b92c-e228cf497097",
   "metadata": {},
   "source": [
    "### 9. Write a function that takes a string and returns it reversed (without using slicing)"
   ]
  },
  {
   "cell_type": "code",
   "execution_count": 13,
   "id": "db9f0267-df1b-4c58-904e-34df3a6d3a06",
   "metadata": {},
   "outputs": [
    {
     "name": "stdout",
     "output_type": "stream",
     "text": [
      "olleH\n"
     ]
    }
   ],
   "source": [
    "def reverse_string_for_loop(s):\n",
    "    reversed_s = \"\"\n",
    "    for char in s:\n",
    "        reversed_s = char + reversed_s  # Prepend each character\n",
    "    return reversed_s\n",
    "\n",
    "# Example usage\n",
    "print(reverse_string_for_loop(\"Hello\"))  # Output: olleh"
   ]
  },
  {
   "cell_type": "markdown",
   "id": "29e4d108-10db-429e-9d6f-aa2515324d5f",
   "metadata": {},
   "source": [
    "# Write a function that takes a list of numbers and returns the greatest of all numbers.\n"
   ]
  },
  {
   "cell_type": "code",
   "execution_count": 14,
   "id": "2f7c05c0-8fc4-4c5c-bbae-f20e33e026bf",
   "metadata": {},
   "outputs": [
    {
     "name": "stdout",
     "output_type": "stream",
     "text": [
      "4\n"
     ]
    }
   ],
   "source": [
    "def numbers(list):\n",
    "    total = max(list)\n",
    "    print(total)\n",
    "numbers([1,2,3,4])"
   ]
  },
  {
   "cell_type": "code",
   "execution_count": 15,
   "id": "6c08c098-124f-4cd5-a6b6-d8f761a6eee5",
   "metadata": {},
   "outputs": [
    {
     "name": "stdout",
     "output_type": "stream",
     "text": [
      "12\n"
     ]
    }
   ],
   "source": [
    "def number(list):\n",
    "    greatest = list[0]\n",
    "    for i in list:\n",
    "        if i >= greatest:\n",
    "            greatest = i\n",
    "    print(greatest)\n",
    "\n",
    "number([2,4,7,9,12])\n",
    "        "
   ]
  },
  {
   "cell_type": "code",
   "execution_count": 16,
   "id": "93863c4a-54c1-4e78-adff-e187339aaa01",
   "metadata": {},
   "outputs": [
    {
     "name": "stdout",
     "output_type": "stream",
     "text": [
      "2\n",
      "4\n",
      "7\n",
      "9\n",
      "12\n"
     ]
    }
   ],
   "source": [
    "listtt = [2,4,7,9,12]\n",
    "for i in listtt:\n",
    "    print(i)"
   ]
  },
  {
   "cell_type": "markdown",
   "id": "a7bfc9e1-71c7-4adb-8936-9e778e120255",
   "metadata": {},
   "source": [
    "### Create a DataFrame with columns: Name, Age, Department, Salary, City.\n",
    "\n",
    "### Filter employees who:\n",
    "\n",
    "### Are older than 30\n",
    "\n",
    "### Earn more than ₹60,000\n",
    "\n",
    "### Work in either \"Engineering\" or \"Design\"\n",
    "\n",
    "### Live in cities starting with \"M\" or \"D\""
   ]
  },
  {
   "cell_type": "code",
   "execution_count": 17,
   "id": "c29c7112-8a74-498a-87eb-c7f095e2cbbb",
   "metadata": {},
   "outputs": [
    {
     "name": "stdout",
     "output_type": "stream",
     "text": [
      "        Name  Age         Dept     City  Salary\n",
      "0   Vaibhavi   45       Artist     Pune   80000\n",
      "1  Vaishnavi   30     Designer   Mumbai   30000\n",
      "2      komal   22        model    Delhi   45000\n",
      "3      pooja   28  Engineering  solapur   75000\n"
     ]
    }
   ],
   "source": [
    "info = {\n",
    "    'Name': ['Vaibhavi', 'Vaishnavi', 'komal', 'pooja'],\n",
    "    'Age': [45, 30, 22, 28],\n",
    "    'Dept':['Artist','Designer','model','Engineering'],\n",
    "    'City': ['Pune', 'Mumbai', 'Delhi', 'solapur'],\n",
    "    'Salary':[80000,30000,45000,75000]\n",
    "}\n",
    "df = pd.DataFrame(info)\n",
    "print(df)"
   ]
  },
  {
   "cell_type": "code",
   "execution_count": 18,
   "id": "e32ecfc1-9448-4021-8eb6-5d2d5983b986",
   "metadata": {},
   "outputs": [
    {
     "name": "stdout",
     "output_type": "stream",
     "text": [
      "        Name  Age      Dept    City  Salary\n",
      "0   Vaibhavi   45    Artist    Pune   80000\n",
      "1  Vaishnavi   30  Designer  Mumbai   30000\n"
     ]
    }
   ],
   "source": [
    "Age = df[df['Age']>=30]\n",
    "print(Age)"
   ]
  },
  {
   "cell_type": "code",
   "execution_count": 19,
   "id": "ed0ca8c5-a0e7-4d7e-b31a-3c9562978dd0",
   "metadata": {},
   "outputs": [
    {
     "name": "stdout",
     "output_type": "stream",
     "text": [
      "       Name  Age         Dept     City  Salary\n",
      "0  Vaibhavi   45       Artist     Pune   80000\n",
      "3     pooja   28  Engineering  solapur   75000\n"
     ]
    }
   ],
   "source": [
    "Salary = df[df['Salary']>60000]\n",
    "print(Salary)"
   ]
  },
  {
   "cell_type": "code",
   "execution_count": 20,
   "id": "995f9936-8c73-44d9-8dd6-958ff367d1e2",
   "metadata": {},
   "outputs": [
    {
     "name": "stdout",
     "output_type": "stream",
     "text": [
      "        Name  Age         Dept     City  Salary\n",
      "1  Vaishnavi   30     Designer   Mumbai   30000\n",
      "3      pooja   28  Engineering  solapur   75000\n"
     ]
    }
   ],
   "source": [
    "dept_check = df[df['Dept'].isin(['Engineering', 'Designer'])]\n",
    "\n",
    "print(dept_check)"
   ]
  },
  {
   "cell_type": "code",
   "execution_count": 21,
   "id": "775f31a1-9f39-430e-80cf-519271de3821",
   "metadata": {},
   "outputs": [
    {
     "name": "stdout",
     "output_type": "stream",
     "text": [
      "        Name  Age      Dept    City  Salary\n",
      "1  Vaishnavi   30  Designer  Mumbai   30000\n",
      "2      komal   22     model   Delhi   45000\n"
     ]
    }
   ],
   "source": [
    "city_check = df[df['City'].str.startswith(('M', 'D'))]\n",
    "print(city_check)\n"
   ]
  },
  {
   "cell_type": "code",
   "execution_count": 22,
   "id": "11f078ad-4760-4f85-a589-4a955f19a5dd",
   "metadata": {},
   "outputs": [
    {
     "name": "stdout",
     "output_type": "stream",
     "text": [
      "Adil\n",
      "Advaith\n"
     ]
    }
   ],
   "source": [
    "list = ['Vaibhavi','Adil','Advaith','vaishnavi']\n",
    "for items in list:\n",
    "    if items.startswith('A'):\n",
    "        print(items)"
   ]
  },
  {
   "cell_type": "code",
   "execution_count": 23,
   "id": "c2f6947c-a3a7-4ed5-8502-4755ca1e0b2a",
   "metadata": {},
   "outputs": [
    {
     "name": "stdout",
     "output_type": "stream",
     "text": [
      "45 2\n"
     ]
    }
   ],
   "source": [
    "def numbers(list):\n",
    "    max=list[0]\n",
    "    min=list[0]\n",
    "    for i in list:\n",
    "        if i>=max:\n",
    "            max=i\n",
    "        else:\n",
    "            min=i\n",
    "    print(max,min)\n",
    "numbers([19,27,45,2])"
   ]
  },
  {
   "cell_type": "code",
   "execution_count": null,
   "id": "e6f3a668-204a-46cc-979b-0fafe375bf12",
   "metadata": {},
   "outputs": [],
   "source": []
  }
 ],
 "metadata": {
  "kernelspec": {
   "display_name": "Python 3 (ipykernel)",
   "language": "python",
   "name": "python3"
  },
  "language_info": {
   "codemirror_mode": {
    "name": "ipython",
    "version": 3
   },
   "file_extension": ".py",
   "mimetype": "text/x-python",
   "name": "python",
   "nbconvert_exporter": "python",
   "pygments_lexer": "ipython3",
   "version": "3.13.5"
  }
 },
 "nbformat": 4,
 "nbformat_minor": 5
}
