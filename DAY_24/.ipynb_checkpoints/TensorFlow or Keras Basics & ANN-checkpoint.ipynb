{
 "cells": [
  {
   "cell_type": "markdown",
   "id": "1a3a0a07-e05a-4a75-a6c6-d3ab45d5d105",
   "metadata": {},
   "source": [
    "# Intro to Deep Learning with TensorFlow, Keras & ANN\n",
    "#### What is TensorFlow & Keras?\n",
    "- TensorFlow = Google's Deep Learning framework\n",
    "- Keras = User-friendly wrapper over TensorFlow, makes building neural networks super easy\n",
    "#### What is an ANN (Artificial Neural Network)?\n",
    "##### Imagine:\n",
    "- Input layer = Receives raw data\n",
    "- Hidden layers = Process & learn patterns\n",
    "- Output layer = Gives prediction"
   ]
  },
  {
   "cell_type": "code",
   "execution_count": null,
   "id": "405122a2-ca8e-4ef5-a923-57453f181f33",
   "metadata": {},
   "outputs": [],
   "source": [
    "import pandas as pd\n",
    "import numpy as np\n",
    "import seaborn as sns\n",
    "import matplotlib.pyplot as plt\n",
    "import tensorflow as tf\n",
    "from tensorflow.keras.models import Sequential\n",
    "from tensorflow.keras.layers import Dense\n",
    "from sklearn.model_selection import train_test_split\n",
    "from sklearn.preprocessing import LabelEncoder, StandardScaler"
   ]
  },
  {
   "cell_type": "code",
   "execution_count": null,
   "id": "54bd62c7-fe48-4a5c-8a9f-2ff03ef0df4a",
   "metadata": {},
   "outputs": [],
   "source": []
  }
 ],
 "metadata": {
  "kernelspec": {
   "display_name": "Python 3 (ipykernel)",
   "language": "python",
   "name": "python3"
  },
  "language_info": {
   "codemirror_mode": {
    "name": "ipython",
    "version": 3
   },
   "file_extension": ".py",
   "mimetype": "text/x-python",
   "name": "python",
   "nbconvert_exporter": "python",
   "pygments_lexer": "ipython3",
   "version": "3.13.5"
  }
 },
 "nbformat": 4,
 "nbformat_minor": 5
}
