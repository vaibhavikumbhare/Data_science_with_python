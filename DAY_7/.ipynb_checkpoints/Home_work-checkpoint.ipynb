{
 "cells": [
  {
   "cell_type": "markdown",
   "id": "58d0234a-b5f0-4292-9f88-e75c3852eeba",
   "metadata": {},
   "source": [
    "# Home Work1"
   ]
  },
  {
   "cell_type": "code",
   "execution_count": null,
   "id": "e4b9e1f2-0cea-4ce5-a11a-1a4f8cff4bb6",
   "metadata": {},
   "outputs": [],
   "source": [
    "import numpy as np\n",
    "import pandas as pd"
   ]
  },
  {
   "cell_type": "code",
   "execution_count": null,
   "id": "595bdecb-dd70-489a-8a5b-14e10018a528",
   "metadata": {},
   "outputs": [],
   "source": [
    "#1. Create a 1D NumPy array of 10 numbers from 1 to 10\n",
    "Array = np.array([10,20,30,40,50,60,70])\n",
    "print(Array)"
   ]
  },
  {
   "cell_type": "code",
   "execution_count": 6,
   "id": "5aab727d-cd1d-4e79-9e5d-ec5b655cca0b",
   "metadata": {},
   "outputs": [
    {
     "name": "stdout",
     "output_type": "stream",
     "text": [
      "[[1 2 3]\n",
      " [4 5 6]\n",
      " [7 8 9]]\n"
     ]
    }
   ],
   "source": [
    "#2. Create a 2D NumPy array with shape (3,3) filled with numbers from 1 to 9\n",
    "array2 = np.array([[1, 2, 3],[4, 5, 6],[7, 8, 9]])\n",
    "print(array2)"
   ]
  },
  {
   "cell_type": "code",
   "execution_count": 4,
   "id": "83841578-a6f8-4939-b45b-b74ce50de3ab",
   "metadata": {},
   "outputs": [],
   "source": [
    "#3.Create an array of 5 zeros and another of 5 ones\n",
    " "
   ]
  },
  {
   "cell_type": "code",
   "execution_count": 5,
   "id": "7b264144-b9be-4941-9556-95bcac4b7121",
   "metadata": {},
   "outputs": [],
   "source": [
    "#4. Create an array of even numbers between 10 and 30\n"
   ]
  },
  {
   "cell_type": "code",
   "execution_count": 1,
   "id": "16de4262-0443-4239-981e-6383c14ee5cf",
   "metadata": {},
   "outputs": [
    {
     "ename": "NameError",
     "evalue": "name 'np' is not defined",
     "output_type": "error",
     "traceback": [
      "\u001b[31m---------------------------------------------------------------------------\u001b[39m",
      "\u001b[31mNameError\u001b[39m                                 Traceback (most recent call last)",
      "\u001b[36mCell\u001b[39m\u001b[36m \u001b[39m\u001b[32mIn[1]\u001b[39m\u001b[32m, line 3\u001b[39m\n\u001b[32m      1\u001b[39m \u001b[38;5;66;03m#5. Add, subtract, multiply, and divide two NumPy arrays of the same shape\u001b[39;00m\n\u001b[32m----> \u001b[39m\u001b[32m3\u001b[39m a = \u001b[43mnp\u001b[49m.array([\u001b[32m10\u001b[39m, \u001b[32m20\u001b[39m, \u001b[32m30\u001b[39m])\n\u001b[32m      4\u001b[39m b = np.array([\u001b[32m1\u001b[39m, \u001b[32m2\u001b[39m, \u001b[32m3\u001b[39m])\n\u001b[32m      6\u001b[39m \u001b[38;5;28mprint\u001b[39m(\u001b[33m\"\u001b[39m\u001b[33mAdd:\u001b[39m\u001b[33m\"\u001b[39m, a + b)\n",
      "\u001b[31mNameError\u001b[39m: name 'np' is not defined"
     ]
    }
   ],
   "source": [
    "#5. Add, subtract, multiply, and divide two NumPy arrays of the same shape\n",
    "\n",
    "a = np.array([10, 20, 30])\n",
    "b = np.array([1, 2, 3])\n",
    "\n",
    "print(\"Add:\", a + b)\n",
    "print(\"Subtract:\", a - b)\n",
    "print(\"Multiply:\", a * b)\n",
    "print(\"Divide:\", a / b)"
   ]
  },
  {
   "cell_type": "code",
   "execution_count": 7,
   "id": "e456b967-b12c-473f-be77-f36e95892600",
   "metadata": {},
   "outputs": [
    {
     "name": "stdout",
     "output_type": "stream",
     "text": [
      "Mean: 4.8\n",
      "Sum: 24\n",
      "Min: 1\n",
      "Max: 9\n"
     ]
    }
   ],
   "source": [
    "#6. Find the mean, sum, min, and max of a NumPy array\n",
    "\n",
    "arr = np.array([4, 7, 1, 9, 3])\n",
    "\n",
    "print(\"Mean:\", arr.mean())\n",
    "print(\"Sum:\", arr.sum())\n",
    "print(\"Min:\", arr.min())\n",
    "print(\"Max:\", arr.max())\n"
   ]
  },
  {
   "cell_type": "code",
   "execution_count": 8,
   "id": "a13b5839-2c88-479a-a21d-cd3657f29417",
   "metadata": {},
   "outputs": [],
   "source": [
    "#7. Reshape a 1D array of 12 elements into a 3x4 2D array"
   ]
  },
  {
   "cell_type": "code",
   "execution_count": 9,
   "id": "d2784ebb-5488-4a5c-bdb5-5e4c3f50e64d",
   "metadata": {},
   "outputs": [
    {
     "name": "stdout",
     "output_type": "stream",
     "text": [
      "[ 5 10 15]\n"
     ]
    }
   ],
   "source": [
    "# 8. Slice an array to get the first 3 elements\n",
    "arr4 = np.array([5, 10, 15, 20, 25])\n",
    "print(arr4[:3])"
   ]
  },
  {
   "cell_type": "code",
   "execution_count": 10,
   "id": "e94c1343-31ef-4555-8f90-23c0d65d08dc",
   "metadata": {},
   "outputs": [],
   "source": [
    "#9. Generate a random integer array of size (2,3) between 0 and 50\n",
    "\n"
   ]
  },
  {
   "cell_type": "code",
   "execution_count": null,
   "id": "2ef95b49-ac71-4da1-8401-3a8562fc3c8b",
   "metadata": {},
   "outputs": [],
   "source": [
    "#1. Create a Pandas Series from a list: [10, 20, 30, 40, 50]\n",
    "array = [10,20,40,50]\n",
    "series = pd.Series(array)\n",
    "print(series)"
   ]
  },
  {
   "cell_type": "code",
   "execution_count": null,
   "id": "36503dc4-893a-45ef-9d26-a53a9d215865",
   "metadata": {},
   "outputs": [],
   "source": [
    "#2. Create a Series with custom index: ['a', 'b', 'c', 'd', 'e']\n",
    "custom_series = pd.Series(array,index = ['a','b','c','d'])\n",
    "print(custom_series)"
   ]
  },
  {
   "cell_type": "code",
   "execution_count": null,
   "id": "b9e2ec5b-3775-403e-b1c1-0f7249188758",
   "metadata": {},
   "outputs": [],
   "source": [
    "#3. Access the 3rd element from the Series\n",
    "print(series[2])\n"
   ]
  },
  {
   "cell_type": "code",
   "execution_count": null,
   "id": "23c7a389-81b2-4117-b952-ac58aeb6f8e7",
   "metadata": {},
   "outputs": [],
   "source": [
    "# 4. Perform basic operations like +10, 2 on the Series\n"
   ]
  },
  {
   "cell_type": "code",
   "execution_count": null,
   "id": "ace1e083-a71e-4061-98a8-0ed5cd3b3756",
   "metadata": {},
   "outputs": [],
   "source": [
    "#5. Create a DataFrame with 3 columns: Name, Age, City using a dictionary\n",
    "\n",
    "data = {\n",
    "    'Name': ['vaibhavi', 'Rakshita', 'Mrinal'],\n",
    "    'Age': [19, 20, 25],\n",
    "    'City': ['Pune', 'Solapur', 'Mumbai']\n",
    "}\n",
    "\n",
    "data_frame = pd.DataFrame(data)\n",
    "print(data_frame)"
   ]
  },
  {
   "cell_type": "code",
   "execution_count": null,
   "id": "35092cbd-337b-4da0-a8db-530b604daeec",
   "metadata": {},
   "outputs": [],
   "source": [
    "#6. Display first 3 rows using head() and last 2 rows using tail()\n",
    "data_frame.head(3)"
   ]
  },
  {
   "cell_type": "code",
   "execution_count": null,
   "id": "d0f1e247-f7be-45d7-8db2-43c81c770ee1",
   "metadata": {
    "scrolled": true
   },
   "outputs": [],
   "source": [
    "data_frame.tail(2)"
   ]
  },
  {
   "cell_type": "code",
   "execution_count": null,
   "id": "4e7f5424-d831-44e7-93a4-9eea624cff04",
   "metadata": {},
   "outputs": [],
   "source": [
    "#7. Use describe() to get summary statistics of a DataFrame with numeric values\n"
   ]
  },
  {
   "cell_type": "code",
   "execution_count": null,
   "id": "02a52b91-80ea-4575-94d8-83e8f1ee0796",
   "metadata": {},
   "outputs": [],
   "source": [
    "#8. Add a new column Gender to the existing DataFrame\n"
   ]
  },
  {
   "cell_type": "code",
   "execution_count": null,
   "id": "47b00967-79ff-4671-a7aa-56c18ffcdddb",
   "metadata": {},
   "outputs": [],
   "source": [
    "#9. Filter rows where Age > 25\n"
   ]
  },
  {
   "cell_type": "code",
   "execution_count": null,
   "id": "5791872d-926c-449a-a01d-5ceabdbd9f48",
   "metadata": {},
   "outputs": [],
   "source": [
    "#10. Sort the DataFrame by Age column in descending order"
   ]
  },
  {
   "cell_type": "markdown",
   "id": "0248e9d1-fa2f-4a87-8d2e-8375e1808446",
   "metadata": {},
   "source": [
    "# Home work 2"
   ]
  },
  {
   "cell_type": "code",
   "execution_count": null,
   "id": "bfbfdda3-a7ef-4928-a823-d14438ca48c7",
   "metadata": {},
   "outputs": [],
   "source": [
    "#1. Try to implement continue statement in for loops as well as while loop\n",
    "for i in range (1,11):\n",
    "    if i%2!=0:\n",
    "        continue\n",
    "    print(i)"
   ]
  },
  {
   "cell_type": "code",
   "execution_count": null,
   "id": "157c59db-42b1-4561-b371-534cc80be4ef",
   "metadata": {},
   "outputs": [],
   "source": [
    "# while loop\n",
    "i = 1\n",
    "while i <= 10:\n",
    "    i += 1\n",
    "    if i%2== 0:\n",
    "        continue\n",
    "    print(i)\n"
   ]
  },
  {
   "cell_type": "code",
   "execution_count": null,
   "id": "54c0efb2-4a16-4e9b-9455-4dcbbbd1c189",
   "metadata": {},
   "outputs": [],
   "source": [
    "# 2. Print even numbers from 1 to 50 using range and for loop\n",
    "for i in range(1, 51):\n",
    "    if i % 2 == 0:\n",
    "        print(i)\n"
   ]
  },
  {
   "cell_type": "code",
   "execution_count": null,
   "id": "0ad9824c-63a1-4a12-bf09-95cfd632b4a2",
   "metadata": {},
   "outputs": [],
   "source": [
    "#3 Take a number (e.g. 80) and print all odd numbers till that number using while loop\n",
    "i = 1\n",
    "while i <= 80:\n",
    "    if i % 2 != 0:\n",
    "        print(i)\n",
    "    i += 1\n"
   ]
  },
  {
   "cell_type": "code",
   "execution_count": null,
   "id": "4cc64dc0-1f32-427a-b966-ddf11e60d1c2",
   "metadata": {},
   "outputs": [],
   "source": []
  },
  {
   "cell_type": "code",
   "execution_count": null,
   "id": "ff55da07-fcc8-4921-a3f7-e8174d6a996c",
   "metadata": {},
   "outputs": [],
   "source": []
  },
  {
   "cell_type": "code",
   "execution_count": null,
   "id": "690a9247-a253-4c8e-8c75-12fb349a7165",
   "metadata": {},
   "outputs": [],
   "source": []
  },
  {
   "cell_type": "code",
   "execution_count": null,
   "id": "bc3d1b9d-8aeb-4fc0-b61d-a5216b2fc70a",
   "metadata": {},
   "outputs": [],
   "source": []
  },
  {
   "cell_type": "code",
   "execution_count": null,
   "id": "0d9099d1-19b1-4552-b834-ca83627b57c7",
   "metadata": {},
   "outputs": [],
   "source": []
  },
  {
   "cell_type": "code",
   "execution_count": null,
   "id": "e1cf9deb-7e5b-43b2-bfc5-6dec95857db9",
   "metadata": {},
   "outputs": [],
   "source": []
  },
  {
   "cell_type": "code",
   "execution_count": null,
   "id": "e5b46df0-bbeb-4e00-90a7-23920ef4f2ec",
   "metadata": {},
   "outputs": [],
   "source": []
  }
 ],
 "metadata": {
  "kernelspec": {
   "display_name": "Python 3 (ipykernel)",
   "language": "python",
   "name": "python3"
  },
  "language_info": {
   "codemirror_mode": {
    "name": "ipython",
    "version": 3
   },
   "file_extension": ".py",
   "mimetype": "text/x-python",
   "name": "python",
   "nbconvert_exporter": "python",
   "pygments_lexer": "ipython3",
   "version": "3.13.5"
  }
 },
 "nbformat": 4,
 "nbformat_minor": 5
}
