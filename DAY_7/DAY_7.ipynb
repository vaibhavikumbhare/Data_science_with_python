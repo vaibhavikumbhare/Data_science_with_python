{
 "cells": [
  {
   "cell_type": "markdown",
   "id": "ddb9ed29-a23f-466a-8d2e-ccdf15a68ca7",
   "metadata": {},
   "source": [
    "# pandas"
   ]
  },
  {
   "cell_type": "code",
   "execution_count": 2,
   "id": "dacfec99-9fc5-4421-93a5-f6054a164545",
   "metadata": {},
   "outputs": [],
   "source": [
    "import pandas as pd\n",
    "import numpy as np"
   ]
  },
  {
   "cell_type": "code",
   "execution_count": 3,
   "id": "bcc82f85-1b82-41dc-a211-4193ae7d37fe",
   "metadata": {},
   "outputs": [
    {
     "name": "stdout",
     "output_type": "stream",
     "text": [
      "0    10\n",
      "1    20\n",
      "2    40\n",
      "3    50\n",
      "4    60\n",
      "dtype: int64\n"
     ]
    }
   ],
   "source": [
    "array = [10,20,40,50,60]\n",
    "series = pd.Series(array)\n",
    "print(series)"
   ]
  },
  {
   "cell_type": "code",
   "execution_count": 4,
   "id": "934274c4-1a24-4588-b063-c9df74aa39ab",
   "metadata": {},
   "outputs": [
    {
     "name": "stdout",
     "output_type": "stream",
     "text": [
      "a     10\n",
      "b     20\n",
      "c     40\n",
      "10    50\n",
      "20    60\n",
      "dtype: int64\n"
     ]
    }
   ],
   "source": [
    "custom_series = pd.Series(array,index = ['a','b','c',10,20])\n",
    "print(custom_series)"
   ]
  },
  {
   "cell_type": "code",
   "execution_count": 5,
   "id": "68bb3a6d-42d7-4dfb-ad3c-0c3abe200885",
   "metadata": {},
   "outputs": [
    {
     "name": "stdout",
     "output_type": "stream",
     "text": [
      "        name dept  marks  passed\n",
      "0   vaibhavi   CS     97    True\n",
      "1  vaishnavi   IT     89    True\n",
      "2    advaith   CE     30   False\n",
      "3      arnav   CE     80    True\n"
     ]
    }
   ],
   "source": [
    "data = {\n",
    "    'name':['vaibhavi','vaishnavi','advaith','arnav'],\n",
    "    'dept':['CS','IT','CE','CE'],\n",
    "    'marks':[97,89,30,80],\n",
    "    'passed':[True,True,False,True],\n",
    "}\n",
    "data_framed = pd.DataFrame(data)\n",
    "print(data_framed)"
   ]
  },
  {
   "cell_type": "code",
   "execution_count": 6,
   "id": "7bb0f049-fe2f-45db-9955-21f98d724172",
   "metadata": {},
   "outputs": [
    {
     "data": {
      "text/html": [
       "<div>\n",
       "<style scoped>\n",
       "    .dataframe tbody tr th:only-of-type {\n",
       "        vertical-align: middle;\n",
       "    }\n",
       "\n",
       "    .dataframe tbody tr th {\n",
       "        vertical-align: top;\n",
       "    }\n",
       "\n",
       "    .dataframe thead th {\n",
       "        text-align: right;\n",
       "    }\n",
       "</style>\n",
       "<table border=\"1\" class=\"dataframe\">\n",
       "  <thead>\n",
       "    <tr style=\"text-align: right;\">\n",
       "      <th></th>\n",
       "      <th>name</th>\n",
       "      <th>dept</th>\n",
       "      <th>marks</th>\n",
       "      <th>passed</th>\n",
       "    </tr>\n",
       "  </thead>\n",
       "  <tbody>\n",
       "    <tr>\n",
       "      <th>0</th>\n",
       "      <td>vaibhavi</td>\n",
       "      <td>CS</td>\n",
       "      <td>97</td>\n",
       "      <td>True</td>\n",
       "    </tr>\n",
       "    <tr>\n",
       "      <th>1</th>\n",
       "      <td>vaishnavi</td>\n",
       "      <td>IT</td>\n",
       "      <td>89</td>\n",
       "      <td>True</td>\n",
       "    </tr>\n",
       "    <tr>\n",
       "      <th>2</th>\n",
       "      <td>advaith</td>\n",
       "      <td>CE</td>\n",
       "      <td>30</td>\n",
       "      <td>False</td>\n",
       "    </tr>\n",
       "  </tbody>\n",
       "</table>\n",
       "</div>"
      ],
      "text/plain": [
       "        name dept  marks  passed\n",
       "0   vaibhavi   CS     97    True\n",
       "1  vaishnavi   IT     89    True\n",
       "2    advaith   CE     30   False"
      ]
     },
     "execution_count": 6,
     "metadata": {},
     "output_type": "execute_result"
    }
   ],
   "source": [
    "data_framed.head(3) # by default 5 values are display"
   ]
  },
  {
   "cell_type": "code",
   "execution_count": 7,
   "id": "0098aec2-2841-43ac-be20-a56ff4ca2a47",
   "metadata": {},
   "outputs": [
    {
     "data": {
      "text/html": [
       "<div>\n",
       "<style scoped>\n",
       "    .dataframe tbody tr th:only-of-type {\n",
       "        vertical-align: middle;\n",
       "    }\n",
       "\n",
       "    .dataframe tbody tr th {\n",
       "        vertical-align: top;\n",
       "    }\n",
       "\n",
       "    .dataframe thead th {\n",
       "        text-align: right;\n",
       "    }\n",
       "</style>\n",
       "<table border=\"1\" class=\"dataframe\">\n",
       "  <thead>\n",
       "    <tr style=\"text-align: right;\">\n",
       "      <th></th>\n",
       "      <th>name</th>\n",
       "      <th>dept</th>\n",
       "      <th>marks</th>\n",
       "      <th>passed</th>\n",
       "    </tr>\n",
       "  </thead>\n",
       "  <tbody>\n",
       "    <tr>\n",
       "      <th>2</th>\n",
       "      <td>advaith</td>\n",
       "      <td>CE</td>\n",
       "      <td>30</td>\n",
       "      <td>False</td>\n",
       "    </tr>\n",
       "    <tr>\n",
       "      <th>3</th>\n",
       "      <td>arnav</td>\n",
       "      <td>CE</td>\n",
       "      <td>80</td>\n",
       "      <td>True</td>\n",
       "    </tr>\n",
       "  </tbody>\n",
       "</table>\n",
       "</div>"
      ],
      "text/plain": [
       "      name dept  marks  passed\n",
       "2  advaith   CE     30   False\n",
       "3    arnav   CE     80    True"
      ]
     },
     "execution_count": 7,
     "metadata": {},
     "output_type": "execute_result"
    }
   ],
   "source": [
    "data_framed.tail(2)"
   ]
  },
  {
   "cell_type": "markdown",
   "id": "f82d02d2-56d6-4b83-bd83-ba845414f046",
   "metadata": {},
   "source": [
    "# filtering the data"
   ]
  },
  {
   "cell_type": "code",
   "execution_count": 8,
   "id": "80eff68e-457e-4cba-a60f-25c8709accd2",
   "metadata": {},
   "outputs": [
    {
     "name": "stdout",
     "output_type": "stream",
     "text": [
      "        name dept  marks  passed\n",
      "0   vaibhavi   CS     97    True\n",
      "1  vaishnavi   IT     89    True\n"
     ]
    }
   ],
   "source": [
    "high_score = data_framed[data_framed['marks']>80]\n",
    "print(high_score)"
   ]
  },
  {
   "cell_type": "code",
   "execution_count": 9,
   "id": "814a33ab-48e5-41f6-bdb0-d0324ae8ba5f",
   "metadata": {},
   "outputs": [
    {
     "name": "stdout",
     "output_type": "stream",
     "text": [
      "        name dept  marks  passed\n",
      "0   vaibhavi   CS     97    True\n",
      "1  vaishnavi   IT     89    True\n",
      "3      arnav   CE     80    True\n"
     ]
    }
   ],
   "source": [
    "passed_check = data_framed[data_framed['passed'] == True]\n",
    "print(passed_check)"
   ]
  },
  {
   "cell_type": "code",
   "execution_count": 10,
   "id": "3c56f042-0dcb-4817-aa2f-e601c4d80de4",
   "metadata": {},
   "outputs": [
    {
     "name": "stdout",
     "output_type": "stream",
     "text": [
      "      name dept  marks  passed\n",
      "2  advaith   CE     30   False\n",
      "3    arnav   CE     80    True\n"
     ]
    }
   ],
   "source": [
    "dept_check = data_framed[data_framed['dept'] == 'CE']\n",
    "print(dept_check)"
   ]
  },
  {
   "cell_type": "markdown",
   "id": "8b4a675e-edad-453b-93b0-40c897363eed",
   "metadata": {},
   "source": [
    "# grouping"
   ]
  },
  {
   "cell_type": "code",
   "execution_count": 11,
   "id": "b6533d29-4898-4ed3-8fbd-d151a8c76564",
   "metadata": {},
   "outputs": [
    {
     "name": "stdout",
     "output_type": "stream",
     "text": [
      "dept\n",
      "CE    55.0\n",
      "CS    97.0\n",
      "IT    89.0\n",
      "Name: marks, dtype: float64\n"
     ]
    }
   ],
   "source": [
    "mean_marks = data_framed.groupby('dept')['marks'].mean()\n",
    "print(mean_marks)"
   ]
  },
  {
   "cell_type": "code",
   "execution_count": 12,
   "id": "f43bde17-656c-41f4-9096-a7c0e5fa730e",
   "metadata": {},
   "outputs": [
    {
     "name": "stdout",
     "output_type": "stream",
     "text": [
      "dept\n",
      "CE    2\n",
      "CS    1\n",
      "IT    1\n",
      "Name: name, dtype: int64\n"
     ]
    }
   ],
   "source": [
    "count_name = data_framed.groupby('dept')['name'].count()\n",
    "print(count_name)"
   ]
  },
  {
   "cell_type": "markdown",
   "id": "26787a10-083b-497f-941f-b2bb32979c35",
   "metadata": {},
   "source": [
    "## add new col based on condition"
   ]
  },
  {
   "cell_type": "code",
   "execution_count": 14,
   "id": "188c8692-b7fc-4a2b-9302-c8691ef9dc17",
   "metadata": {},
   "outputs": [
    {
     "name": "stdout",
     "output_type": "stream",
     "text": [
      "        name dept  marks  passed grades\n",
      "0   vaibhavi   CS     97    True      A\n",
      "1  vaishnavi   IT     89    True      A\n",
      "2    advaith   CE     30   False      B\n",
      "3      arnav   CE     80    True      B\n"
     ]
    }
   ],
   "source": [
    "data_framed[\"grades\"]=[\"A\" if mark >=85 else \"B\" for mark in data_framed[\"marks\"]]\n",
    "print(data_framed)"
   ]
  },
  {
   "cell_type": "code",
   "execution_count": 15,
   "id": "8e9f3dc4-8602-4838-b0c4-e94433726abd",
   "metadata": {},
   "outputs": [],
   "source": [
    "data_framed.to_csv(\"student_details.csv\",index = False) #import data"
   ]
  },
  {
   "cell_type": "code",
   "execution_count": 19,
   "id": "d51159ef-5bc8-435d-87cd-8ea6b1128e84",
   "metadata": {},
   "outputs": [
    {
     "name": "stdout",
     "output_type": "stream",
     "text": [
      "     Brand Processor  RAM (GB)  Price (INR)\n",
      "0     Acer   Ryzen 5        32        66302\n",
      "1    Apple   Ryzen 7         4       120239\n",
      "2       HP        i9         4        76728\n",
      "3    Apple   Ryzen 7         8        56251\n",
      "4     Asus        i5        16        39692\n",
      "..     ...       ...       ...          ...\n",
      "95    Acer        i9        16       143835\n",
      "96  Lenovo        i7         4        50528\n",
      "97     MSI   Ryzen 5         8       127506\n",
      "98   Apple        i9         8        34770\n",
      "99    Asus   Ryzen 5        16        79763\n",
      "\n",
      "[100 rows x 4 columns]\n"
     ]
    }
   ],
   "source": [
    "loaded_lap = pd.read_csv(\"laptop_data.csv\")\n",
    "print(loaded_lap) # export data"
   ]
  },
  {
   "cell_type": "code",
   "execution_count": 20,
   "id": "09c69fb5-dde0-4186-9709-ff8eb6d96396",
   "metadata": {},
   "outputs": [
    {
     "name": "stdout",
     "output_type": "stream",
     "text": [
      "     Brand Processor  RAM (GB)  Price (INR)\n",
      "11     MSI        i9        16        30956\n",
      "48     MSI        i5        16        31877\n",
      "54     MSI        i3        16        33286\n",
      "47    Acer   Ryzen 5         8        34432\n",
      "98   Apple        i9         8        34770\n",
      "..     ...       ...       ...          ...\n",
      "62   Apple   Ryzen 5        32       146557\n",
      "94  Lenovo   Ryzen 3         4       147457\n",
      "10    Acer        i3         8       148776\n",
      "28  Lenovo        i3         4       149688\n",
      "16     MSI        i7        32       149938\n",
      "\n",
      "[100 rows x 4 columns]\n"
     ]
    }
   ],
   "source": [
    "loaded_lap.sort_values(by = \"Price (INR)\",inplace = True)\n",
    "print(loaded_lap) # sort price in the col"
   ]
  },
  {
   "cell_type": "code",
   "execution_count": 21,
   "id": "d3aec1d6-0697-47a2-8333-020443ce1bbc",
   "metadata": {},
   "outputs": [
    {
     "data": {
      "text/html": [
       "<div>\n",
       "<style scoped>\n",
       "    .dataframe tbody tr th:only-of-type {\n",
       "        vertical-align: middle;\n",
       "    }\n",
       "\n",
       "    .dataframe tbody tr th {\n",
       "        vertical-align: top;\n",
       "    }\n",
       "\n",
       "    .dataframe thead th {\n",
       "        text-align: right;\n",
       "    }\n",
       "</style>\n",
       "<table border=\"1\" class=\"dataframe\">\n",
       "  <thead>\n",
       "    <tr style=\"text-align: right;\">\n",
       "      <th></th>\n",
       "      <th>Brand</th>\n",
       "      <th>RAM (GB)</th>\n",
       "      <th>Price (INR)</th>\n",
       "    </tr>\n",
       "  </thead>\n",
       "  <tbody>\n",
       "    <tr>\n",
       "      <th>11</th>\n",
       "      <td>MSI</td>\n",
       "      <td>16</td>\n",
       "      <td>30956</td>\n",
       "    </tr>\n",
       "    <tr>\n",
       "      <th>48</th>\n",
       "      <td>MSI</td>\n",
       "      <td>16</td>\n",
       "      <td>31877</td>\n",
       "    </tr>\n",
       "    <tr>\n",
       "      <th>54</th>\n",
       "      <td>MSI</td>\n",
       "      <td>16</td>\n",
       "      <td>33286</td>\n",
       "    </tr>\n",
       "    <tr>\n",
       "      <th>47</th>\n",
       "      <td>Acer</td>\n",
       "      <td>8</td>\n",
       "      <td>34432</td>\n",
       "    </tr>\n",
       "    <tr>\n",
       "      <th>98</th>\n",
       "      <td>Apple</td>\n",
       "      <td>8</td>\n",
       "      <td>34770</td>\n",
       "    </tr>\n",
       "    <tr>\n",
       "      <th>...</th>\n",
       "      <td>...</td>\n",
       "      <td>...</td>\n",
       "      <td>...</td>\n",
       "    </tr>\n",
       "    <tr>\n",
       "      <th>62</th>\n",
       "      <td>Apple</td>\n",
       "      <td>32</td>\n",
       "      <td>146557</td>\n",
       "    </tr>\n",
       "    <tr>\n",
       "      <th>94</th>\n",
       "      <td>Lenovo</td>\n",
       "      <td>4</td>\n",
       "      <td>147457</td>\n",
       "    </tr>\n",
       "    <tr>\n",
       "      <th>10</th>\n",
       "      <td>Acer</td>\n",
       "      <td>8</td>\n",
       "      <td>148776</td>\n",
       "    </tr>\n",
       "    <tr>\n",
       "      <th>28</th>\n",
       "      <td>Lenovo</td>\n",
       "      <td>4</td>\n",
       "      <td>149688</td>\n",
       "    </tr>\n",
       "    <tr>\n",
       "      <th>16</th>\n",
       "      <td>MSI</td>\n",
       "      <td>32</td>\n",
       "      <td>149938</td>\n",
       "    </tr>\n",
       "  </tbody>\n",
       "</table>\n",
       "<p>100 rows × 3 columns</p>\n",
       "</div>"
      ],
      "text/plain": [
       "     Brand  RAM (GB)  Price (INR)\n",
       "11     MSI        16        30956\n",
       "48     MSI        16        31877\n",
       "54     MSI        16        33286\n",
       "47    Acer         8        34432\n",
       "98   Apple         8        34770\n",
       "..     ...       ...          ...\n",
       "62   Apple        32       146557\n",
       "94  Lenovo         4       147457\n",
       "10    Acer         8       148776\n",
       "28  Lenovo         4       149688\n",
       "16     MSI        32       149938\n",
       "\n",
       "[100 rows x 3 columns]"
      ]
     },
     "execution_count": 21,
     "metadata": {},
     "output_type": "execute_result"
    }
   ],
   "source": [
    "loaded_lap.drop(\"Processor\",axis=1) # col axis = 1 row axis = 0"
   ]
  },
  {
   "cell_type": "code",
   "execution_count": 22,
   "id": "d0771cdd-f0fb-48f4-a620-cc99bc9f7f36",
   "metadata": {},
   "outputs": [
    {
     "name": "stdout",
     "output_type": "stream",
     "text": [
      "60.7\n"
     ]
    }
   ],
   "source": [
    "marks  = [35,50,40,80,90,70,65,78,61,38]\n",
    "mean = np.mean(marks)\n",
    "print(mean)"
   ]
  },
  {
   "cell_type": "code",
   "execution_count": 23,
   "id": "768c2274-4071-4306-8a0b-02aea75f9c06",
   "metadata": {},
   "outputs": [
    {
     "name": "stdout",
     "output_type": "stream",
     "text": [
      "63.0\n"
     ]
    }
   ],
   "source": [
    "median = np.median(marks)\n",
    "print(median)"
   ]
  },
  {
   "cell_type": "code",
   "execution_count": 31,
   "id": "35a3b2a5-f9fe-4744-a9f3-dcdb85494fa8",
   "metadata": {},
   "outputs": [
    {
     "name": "stdout",
     "output_type": "stream",
     "text": [
      "     Brand Processor  RAM (GB)  Price (INR)\n",
      "16     MSI        i7        32       149938\n",
      "28  Lenovo        i3         4       149688\n",
      "10    Acer        i3         8       148776\n",
      "94  Lenovo   Ryzen 3         4       147457\n",
      "62   Apple   Ryzen 5        32       146557\n",
      "..     ...       ...       ...          ...\n",
      "98   Apple        i9         8        34770\n",
      "47    Acer   Ryzen 5         8        34432\n",
      "54     MSI        i3        16        33286\n",
      "48     MSI        i5        16        31877\n",
      "11     MSI        i9        16        30956\n",
      "\n",
      "[100 rows x 4 columns]\n"
     ]
    }
   ],
   "source": [
    "loaded_lap.sort_values(by = \"Price (INR)\", inplace = True, ascending = False)\n",
    "print(loaded_lap) "
   ]
  },
  {
   "cell_type": "code",
   "execution_count": null,
   "id": "08a33bec-6421-4933-88de-35683190cfee",
   "metadata": {},
   "outputs": [],
   "source": []
  },
  {
   "cell_type": "code",
   "execution_count": null,
   "id": "adebb386-38a7-4b33-91a7-a934e01902ff",
   "metadata": {},
   "outputs": [],
   "source": []
  }
 ],
 "metadata": {
  "kernelspec": {
   "display_name": "Python 3 (ipykernel)",
   "language": "python",
   "name": "python3"
  },
  "language_info": {
   "codemirror_mode": {
    "name": "ipython",
    "version": 3
   },
   "file_extension": ".py",
   "mimetype": "text/x-python",
   "name": "python",
   "nbconvert_exporter": "python",
   "pygments_lexer": "ipython3",
   "version": "3.13.5"
  }
 },
 "nbformat": 4,
 "nbformat_minor": 5
}
