{
 "cells": [
  {
   "cell_type": "markdown",
   "id": "ddb9ed29-a23f-466a-8d2e-ccdf15a68ca7",
   "metadata": {},
   "source": [
    "# pandas"
   ]
  },
  {
   "cell_type": "code",
   "execution_count": 1,
   "id": "dacfec99-9fc5-4421-93a5-f6054a164545",
   "metadata": {},
   "outputs": [],
   "source": [
    "import pandas as pd\n",
    "import numpy as np"
   ]
  },
  {
   "cell_type": "code",
   "execution_count": 6,
   "id": "bcc82f85-1b82-41dc-a211-4193ae7d37fe",
   "metadata": {},
   "outputs": [
    {
     "name": "stdout",
     "output_type": "stream",
     "text": [
      "0    10\n",
      "1    20\n",
      "2    40\n",
      "3    50\n",
      "4    60\n",
      "dtype: int64\n"
     ]
    }
   ],
   "source": [
    "array = [10,20,40,50,60]\n",
    "series = pd.Series(array)\n",
    "print(series)"
   ]
  },
  {
   "cell_type": "code",
   "execution_count": 14,
   "id": "934274c4-1a24-4588-b063-c9df74aa39ab",
   "metadata": {},
   "outputs": [
    {
     "name": "stdout",
     "output_type": "stream",
     "text": [
      "a     10\n",
      "b     20\n",
      "c     40\n",
      "10    50\n",
      "20    60\n",
      "dtype: int64\n"
     ]
    }
   ],
   "source": [
    "custom_series = pd.Series(array,index = ['a','b','c',10,20])\n",
    "print(custom_series)"
   ]
  },
  {
   "cell_type": "code",
   "execution_count": 40,
   "id": "68bb3a6d-42d7-4dfb-ad3c-0c3abe200885",
   "metadata": {},
   "outputs": [
    {
     "name": "stdout",
     "output_type": "stream",
     "text": [
      "        name dept  marks  passed\n",
      "0   vaibhavi   CS     97    True\n",
      "1  vaishnavi   IT     89    True\n",
      "2    advaith   CE     30   False\n",
      "3      arnav   CE     80    True\n"
     ]
    }
   ],
   "source": [
    "data = {\n",
    "    'name':['vaibhavi','vaishnavi','advaith','arnav'],\n",
    "    'dept':['CS','IT','CE','CE'],\n",
    "    'marks':[97,89,30,80],\n",
    "    'passed':[True,True,False,True],\n",
    "}\n",
    "data_framed = pd.DataFrame(data)\n",
    "print(data_framed)"
   ]
  },
  {
   "cell_type": "code",
   "execution_count": 41,
   "id": "7bb0f049-fe2f-45db-9955-21f98d724172",
   "metadata": {},
   "outputs": [
    {
     "data": {
      "text/html": [
       "<div>\n",
       "<style scoped>\n",
       "    .dataframe tbody tr th:only-of-type {\n",
       "        vertical-align: middle;\n",
       "    }\n",
       "\n",
       "    .dataframe tbody tr th {\n",
       "        vertical-align: top;\n",
       "    }\n",
       "\n",
       "    .dataframe thead th {\n",
       "        text-align: right;\n",
       "    }\n",
       "</style>\n",
       "<table border=\"1\" class=\"dataframe\">\n",
       "  <thead>\n",
       "    <tr style=\"text-align: right;\">\n",
       "      <th></th>\n",
       "      <th>name</th>\n",
       "      <th>dept</th>\n",
       "      <th>marks</th>\n",
       "      <th>passed</th>\n",
       "    </tr>\n",
       "  </thead>\n",
       "  <tbody>\n",
       "    <tr>\n",
       "      <th>0</th>\n",
       "      <td>vaibhavi</td>\n",
       "      <td>CS</td>\n",
       "      <td>97</td>\n",
       "      <td>True</td>\n",
       "    </tr>\n",
       "    <tr>\n",
       "      <th>1</th>\n",
       "      <td>vaishnavi</td>\n",
       "      <td>IT</td>\n",
       "      <td>89</td>\n",
       "      <td>True</td>\n",
       "    </tr>\n",
       "    <tr>\n",
       "      <th>2</th>\n",
       "      <td>advaith</td>\n",
       "      <td>CE</td>\n",
       "      <td>30</td>\n",
       "      <td>False</td>\n",
       "    </tr>\n",
       "  </tbody>\n",
       "</table>\n",
       "</div>"
      ],
      "text/plain": [
       "        name dept  marks  passed\n",
       "0   vaibhavi   CS     97    True\n",
       "1  vaishnavi   IT     89    True\n",
       "2    advaith   CE     30   False"
      ]
     },
     "execution_count": 41,
     "metadata": {},
     "output_type": "execute_result"
    }
   ],
   "source": [
    "data_framed.head(3) # by default 5 values are display"
   ]
  },
  {
   "cell_type": "code",
   "execution_count": 42,
   "id": "0098aec2-2841-43ac-be20-a56ff4ca2a47",
   "metadata": {},
   "outputs": [
    {
     "data": {
      "text/html": [
       "<div>\n",
       "<style scoped>\n",
       "    .dataframe tbody tr th:only-of-type {\n",
       "        vertical-align: middle;\n",
       "    }\n",
       "\n",
       "    .dataframe tbody tr th {\n",
       "        vertical-align: top;\n",
       "    }\n",
       "\n",
       "    .dataframe thead th {\n",
       "        text-align: right;\n",
       "    }\n",
       "</style>\n",
       "<table border=\"1\" class=\"dataframe\">\n",
       "  <thead>\n",
       "    <tr style=\"text-align: right;\">\n",
       "      <th></th>\n",
       "      <th>name</th>\n",
       "      <th>dept</th>\n",
       "      <th>marks</th>\n",
       "      <th>passed</th>\n",
       "    </tr>\n",
       "  </thead>\n",
       "  <tbody>\n",
       "    <tr>\n",
       "      <th>2</th>\n",
       "      <td>advaith</td>\n",
       "      <td>CE</td>\n",
       "      <td>30</td>\n",
       "      <td>False</td>\n",
       "    </tr>\n",
       "    <tr>\n",
       "      <th>3</th>\n",
       "      <td>arnav</td>\n",
       "      <td>CE</td>\n",
       "      <td>80</td>\n",
       "      <td>True</td>\n",
       "    </tr>\n",
       "  </tbody>\n",
       "</table>\n",
       "</div>"
      ],
      "text/plain": [
       "      name dept  marks  passed\n",
       "2  advaith   CE     30   False\n",
       "3    arnav   CE     80    True"
      ]
     },
     "execution_count": 42,
     "metadata": {},
     "output_type": "execute_result"
    }
   ],
   "source": [
    "data_framed.tail(2)"
   ]
  },
  {
   "cell_type": "markdown",
   "id": "f82d02d2-56d6-4b83-bd83-ba845414f046",
   "metadata": {},
   "source": [
    "# filtering the data"
   ]
  },
  {
   "cell_type": "code",
   "execution_count": 43,
   "id": "80eff68e-457e-4cba-a60f-25c8709accd2",
   "metadata": {},
   "outputs": [
    {
     "name": "stdout",
     "output_type": "stream",
     "text": [
      "        name dept  marks  passed\n",
      "0   vaibhavi   CS     97    True\n",
      "1  vaishnavi   IT     89    True\n"
     ]
    }
   ],
   "source": [
    "high_score = data_framed[data_framed['marks']>80]\n",
    "print(high_score)"
   ]
  },
  {
   "cell_type": "code",
   "execution_count": 44,
   "id": "814a33ab-48e5-41f6-bdb0-d0324ae8ba5f",
   "metadata": {},
   "outputs": [
    {
     "name": "stdout",
     "output_type": "stream",
     "text": [
      "        name dept  marks  passed\n",
      "0   vaibhavi   CS     97    True\n",
      "1  vaishnavi   IT     89    True\n",
      "3      arnav   CE     80    True\n"
     ]
    }
   ],
   "source": [
    "passed_check = data_framed[data_framed['passed'] == True]\n",
    "print(passed_check)"
   ]
  },
  {
   "cell_type": "code",
   "execution_count": 52,
   "id": "3c56f042-0dcb-4817-aa2f-e601c4d80de4",
   "metadata": {},
   "outputs": [
    {
     "name": "stdout",
     "output_type": "stream",
     "text": [
      "      name dept  marks  passed\n",
      "2  advaith   CE     30   False\n",
      "3    arnav   CE     80    True\n"
     ]
    }
   ],
   "source": [
    "dept_check = data_framed[data_framed['dept'] == 'CE']\n",
    "print(dept_check)"
   ]
  },
  {
   "cell_type": "markdown",
   "id": "8b4a675e-edad-453b-93b0-40c897363eed",
   "metadata": {},
   "source": [
    "# grouping"
   ]
  },
  {
   "cell_type": "code",
   "execution_count": 53,
   "id": "b6533d29-4898-4ed3-8fbd-d151a8c76564",
   "metadata": {},
   "outputs": [
    {
     "name": "stdout",
     "output_type": "stream",
     "text": [
      "dept\n",
      "CE    55.0\n",
      "CS    97.0\n",
      "IT    89.0\n",
      "Name: marks, dtype: float64\n"
     ]
    }
   ],
   "source": [
    "mean_marks = data_framed.groupby('dept')['marks'].mean()\n",
    "print(mean_marks)"
   ]
  },
  {
   "cell_type": "code",
   "execution_count": 54,
   "id": "f43bde17-656c-41f4-9096-a7c0e5fa730e",
   "metadata": {},
   "outputs": [
    {
     "name": "stdout",
     "output_type": "stream",
     "text": [
      "dept\n",
      "CE    2\n",
      "CS    1\n",
      "IT    1\n",
      "Name: name, dtype: int64\n"
     ]
    }
   ],
   "source": [
    "count_name = data_framed.groupby('dept')['name'].count()\n",
    "print(count_name)"
   ]
  },
  {
   "cell_type": "code",
   "execution_count": null,
   "id": "b9dc92a6-eead-4094-9c18-999428d9fa33",
   "metadata": {},
   "outputs": [],
   "source": []
  }
 ],
 "metadata": {
  "kernelspec": {
   "display_name": "Python 3 (ipykernel)",
   "language": "python",
   "name": "python3"
  },
  "language_info": {
   "codemirror_mode": {
    "name": "ipython",
    "version": 3
   },
   "file_extension": ".py",
   "mimetype": "text/x-python",
   "name": "python",
   "nbconvert_exporter": "python",
   "pygments_lexer": "ipython3",
   "version": "3.13.5"
  }
 },
 "nbformat": 4,
 "nbformat_minor": 5
}
