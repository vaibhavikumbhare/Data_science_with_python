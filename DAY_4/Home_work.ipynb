{
 "cells": [
  {
   "cell_type": "code",
   "execution_count": 8,
   "id": "5f2570f2-1a56-42b8-8d4e-bea138e3056e",
   "metadata": {},
   "outputs": [],
   "source": [
    "fruits = {\"apple\":50,\"banana\":30,\"Orange\":40}"
   ]
  },
  {
   "cell_type": "code",
   "execution_count": 9,
   "id": "4b7649ba-0479-4cbf-b7fa-65b01f29a181",
   "metadata": {},
   "outputs": [
    {
     "data": {
      "text/plain": [
       "30"
      ]
     },
     "execution_count": 9,
     "metadata": {},
     "output_type": "execute_result"
    }
   ],
   "source": [
    "# Print the Price Of \"banana\"\n",
    "fruits.get(\"banana\")"
   ]
  },
  {
   "cell_type": "code",
   "execution_count": 14,
   "id": "5ec50147-8432-4d92-84f7-5e68d151968c",
   "metadata": {},
   "outputs": [
    {
     "name": "stdout",
     "output_type": "stream",
     "text": [
      "{'apple': 50, 'banana': 30, 'Orange': 40, 'grapes': 60}\n"
     ]
    }
   ],
   "source": [
    "# Add a new fruit \"grapes\" with Price 60\n",
    "fruits[\"grapes\"]=60\n",
    "print(fruits)"
   ]
  },
  {
   "cell_type": "code",
   "execution_count": 15,
   "id": "4db65ad4-b0bb-4072-8185-8952670d9e3d",
   "metadata": {},
   "outputs": [
    {
     "name": "stdout",
     "output_type": "stream",
     "text": [
      "{'apple': 55, 'banana': 30, 'Orange': 40, 'grapes': 60}\n"
     ]
    }
   ],
   "source": [
    "#Update the price of \"apple\" to 55\n",
    "fruits[\"apple\"]=55\n",
    "print(fruits)"
   ]
  },
  {
   "cell_type": "code",
   "execution_count": 20,
   "id": "7eb2bc72-6bd9-49e5-8006-fa247f0930fc",
   "metadata": {},
   "outputs": [
    {
     "name": "stdout",
     "output_type": "stream",
     "text": [
      "{'apple': 55, 'banana': 30, 'grapes': 60}\n"
     ]
    }
   ],
   "source": [
    "# delet \"orange\" from the dictionary\n",
    "del fruits[\"Orange\"]\n",
    "print(fruits)"
   ]
  },
  {
   "cell_type": "code",
   "execution_count": 21,
   "id": "cf2526f4-aa7f-4ce7-ae24-9ba5f1b74971",
   "metadata": {},
   "outputs": [
    {
     "name": "stdout",
     "output_type": "stream",
     "text": [
      "{'apple': 55, 'banana': 30, 'grapes': 60}\n"
     ]
    }
   ],
   "source": [
    "# Print final dictionary\n",
    "print(fruits)"
   ]
  },
  {
   "cell_type": "code",
   "execution_count": 1,
   "id": "a07e19a7-b9c5-4dff-924f-1dffe879d9c2",
   "metadata": {},
   "outputs": [
    {
     "name": "stdout",
     "output_type": "stream",
     "text": [
      "[1, 8, 9, 5, 3, 2]\n"
     ]
    }
   ],
   "source": [
    "#DAY_5\n",
    "List=[1,8,9,5,3,2]\n",
    "print(List)"
   ]
  },
  {
   "cell_type": "code",
   "execution_count": 2,
   "id": "8fb7805b-a40e-4528-8d9c-d024bcc48326",
   "metadata": {},
   "outputs": [
    {
     "name": "stdout",
     "output_type": "stream",
     "text": [
      "[1, 8, 9, 5, 3, 2, 4]\n"
     ]
    }
   ],
   "source": [
    "List.append(4)\n",
    "print(List)"
   ]
  },
  {
   "cell_type": "code",
   "execution_count": 3,
   "id": "eeed1e4c-6a99-4ae6-b7d3-60dfa2d3bda1",
   "metadata": {},
   "outputs": [
    {
     "name": "stdout",
     "output_type": "stream",
     "text": [
      "[1, 8, 10, 9, 5, 3, 2, 4]\n"
     ]
    }
   ],
   "source": [
    "List.insert(2,10)\n",
    "print(List)"
   ]
  },
  {
   "cell_type": "code",
   "execution_count": 20,
   "id": "5b13777b-441d-423c-9c96-7f2077cc8101",
   "metadata": {},
   "outputs": [
    {
     "name": "stdout",
     "output_type": "stream",
     "text": [
      "[1, 8, 5, 5, 6]\n"
     ]
    }
   ],
   "source": [
    "List.insert(3,5)\n",
    "print(List)"
   ]
  },
  {
   "cell_type": "code",
   "execution_count": 14,
   "id": "cb134b37-1c5d-44dd-a1a2-93c030572ca3",
   "metadata": {},
   "outputs": [
    {
     "name": "stdout",
     "output_type": "stream",
     "text": [
      "[1, 8, 10, 5, 6, 9]\n"
     ]
    }
   ],
   "source": [
    "List.remove(5)\n",
    "print(List)"
   ]
  },
  {
   "cell_type": "code",
   "execution_count": 16,
   "id": "5fca1b9b-bc86-4575-9148-d2305d502dff",
   "metadata": {},
   "outputs": [
    {
     "name": "stdout",
     "output_type": "stream",
     "text": [
      "[1, 8, 5, 6]\n"
     ]
    }
   ],
   "source": [
    "List.pop()\n",
    "print(List)"
   ]
  },
  {
   "cell_type": "code",
   "execution_count": 17,
   "id": "f8caaba1-d1ce-48c6-9e08-cb0ea3f78d4a",
   "metadata": {},
   "outputs": [
    {
     "name": "stdout",
     "output_type": "stream",
     "text": [
      "1\n"
     ]
    }
   ],
   "source": [
    "print(List.index(8))"
   ]
  },
  {
   "cell_type": "code",
   "execution_count": 21,
   "id": "a1c2ee04-1bca-4221-9d86-fefd5270faae",
   "metadata": {},
   "outputs": [
    {
     "name": "stdout",
     "output_type": "stream",
     "text": [
      "2\n"
     ]
    }
   ],
   "source": [
    "print(List.count(5))"
   ]
  },
  {
   "cell_type": "code",
   "execution_count": 32,
   "id": "65739ec5-2882-4a29-8b1f-16f1ccaf4f44",
   "metadata": {},
   "outputs": [
    {
     "name": "stdout",
     "output_type": "stream",
     "text": [
      "[42, 36, 10, 5]\n"
     ]
    }
   ],
   "source": [
    "List1 = [5,10,36,42]\n",
    "List1.reverse()\n",
    "print(List1)"
   ]
  },
  {
   "cell_type": "code",
   "execution_count": 33,
   "id": "03f872fb-7511-407c-b582-d8135cc32f87",
   "metadata": {},
   "outputs": [
    {
     "name": "stdout",
     "output_type": "stream",
     "text": [
      "[5, 10, 36, 42]\n"
     ]
    }
   ],
   "source": [
    "List1.sort()\n",
    "print(List1)"
   ]
  },
  {
   "cell_type": "code",
   "execution_count": 36,
   "id": "bb56a6f8-df02-47be-b400-358ddcb13024",
   "metadata": {},
   "outputs": [
    {
     "data": {
      "text/plain": [
       "4"
      ]
     },
     "execution_count": 36,
     "metadata": {},
     "output_type": "execute_result"
    }
   ],
   "source": [
    "len(List1)"
   ]
  },
  {
   "cell_type": "markdown",
   "id": "694072c8-58a8-435e-a9ab-4fc3343f0b7c",
   "metadata": {},
   "source": [
    "# Tuple"
   ]
  },
  {
   "cell_type": "code",
   "execution_count": 39,
   "id": "fcb3c0a5-d54e-42c9-88b4-fecacd10ee75",
   "metadata": {},
   "outputs": [
    {
     "name": "stdout",
     "output_type": "stream",
     "text": [
      "(10, 20, 40, 30, 50, 60, 60)\n"
     ]
    }
   ],
   "source": [
    "tuple = (10,20,40,30,50,60,60)\n",
    "print(tuple)"
   ]
  },
  {
   "cell_type": "code",
   "execution_count": 41,
   "id": "b4614762-eb0d-412a-b560-0ede3a965b84",
   "metadata": {},
   "outputs": [
    {
     "name": "stdout",
     "output_type": "stream",
     "text": [
      "2\n"
     ]
    }
   ],
   "source": [
    "print(tuple.count(60))"
   ]
  },
  {
   "cell_type": "code",
   "execution_count": 42,
   "id": "401b7696-b381-483d-afee-32a0cc5d032b",
   "metadata": {},
   "outputs": [
    {
     "name": "stdout",
     "output_type": "stream",
     "text": [
      "2\n"
     ]
    }
   ],
   "source": [
    "print(tuple.index(40))"
   ]
  },
  {
   "cell_type": "code",
   "execution_count": 43,
   "id": "e6006d87-1908-45ce-9869-d4b05401675f",
   "metadata": {},
   "outputs": [
    {
     "data": {
      "text/plain": [
       "7"
      ]
     },
     "execution_count": 43,
     "metadata": {},
     "output_type": "execute_result"
    }
   ],
   "source": [
    "len(tuple)"
   ]
  },
  {
   "cell_type": "markdown",
   "id": "e93604cb-1675-4bc4-8560-655433c29157",
   "metadata": {},
   "source": [
    "# sets"
   ]
  },
  {
   "cell_type": "code",
   "execution_count": 46,
   "id": "339e11ff-369a-4fbc-8697-e6fafaff769d",
   "metadata": {},
   "outputs": [
    {
     "name": "stdout",
     "output_type": "stream",
     "text": [
      "{'apple', 'fig', 'banana', 'mango'}\n"
     ]
    }
   ],
   "source": [
    "set = {\"mango\",\"fig\",\"apple\",\"banana\",\"apple\"}\n",
    "print(set)"
   ]
  },
  {
   "cell_type": "code",
   "execution_count": 48,
   "id": "11cd1f39-28ba-4718-bd0c-241adfee512b",
   "metadata": {},
   "outputs": [
    {
     "name": "stdout",
     "output_type": "stream",
     "text": [
      "{'apple', 'mango', 'kiwi', 'fig', 'banana'}\n"
     ]
    }
   ],
   "source": [
    "set.add(\"kiwi\")\n",
    "print(set)"
   ]
  },
  {
   "cell_type": "code",
   "execution_count": 49,
   "id": "84b0d3a3-b4b9-43e9-8e58-83dc03c3249f",
   "metadata": {},
   "outputs": [
    {
     "name": "stdout",
     "output_type": "stream",
     "text": [
      "{'apple', 'mango', 'kiwi', 'fig'}\n"
     ]
    }
   ],
   "source": [
    "set.remove(\"banana\")\n",
    "print(set)"
   ]
  },
  {
   "cell_type": "code",
   "execution_count": 50,
   "id": "7df4fd26-eb77-4d9f-8080-81a927fb4889",
   "metadata": {},
   "outputs": [
    {
     "name": "stdout",
     "output_type": "stream",
     "text": [
      "{1, 2, 3, 4, 5, 6, 7, 8}\n"
     ]
    }
   ],
   "source": [
    "set1={1,2,3,4}\n",
    "set2={5,6,7,8}\n",
    "set3=set2.union(set1)\n",
    "print(set3)"
   ]
  },
  {
   "cell_type": "code",
   "execution_count": 52,
   "id": "03b02c49-1845-4324-b91f-906b70c8837a",
   "metadata": {},
   "outputs": [
    {
     "name": "stdout",
     "output_type": "stream",
     "text": [
      "{2, 5}\n"
     ]
    }
   ],
   "source": [
    "set1={1,2,3,4,5}\n",
    "set2={5,6,7,8,2}\n",
    "set3=set2.intersection(set1)\n",
    "print(set3)"
   ]
  },
  {
   "cell_type": "code",
   "execution_count": 53,
   "id": "b9097aa3-0361-43b5-9d2f-899b439c7813",
   "metadata": {},
   "outputs": [
    {
     "name": "stdout",
     "output_type": "stream",
     "text": [
      "{8, 5, 6, 7}\n"
     ]
    }
   ],
   "source": [
    "set1={1,2,3,4}\n",
    "set2={5,6,7,8}\n",
    "set3=set2.difference(set1)\n",
    "print(set3)"
   ]
  },
  {
   "cell_type": "code",
   "execution_count": 54,
   "id": "99067ed1-b9c8-4afd-9d19-26becbb14e2f",
   "metadata": {},
   "outputs": [
    {
     "data": {
      "text/plain": [
       "4"
      ]
     },
     "execution_count": 54,
     "metadata": {},
     "output_type": "execute_result"
    }
   ],
   "source": [
    "len(set2)"
   ]
  },
  {
   "cell_type": "code",
   "execution_count": null,
   "id": "31025ee7-bc4b-4e33-8917-1d187ab6a8f0",
   "metadata": {},
   "outputs": [],
   "source": []
  }
 ],
 "metadata": {
  "kernelspec": {
   "display_name": "Python 3 (ipykernel)",
   "language": "python",
   "name": "python3"
  },
  "language_info": {
   "codemirror_mode": {
    "name": "ipython",
    "version": 3
   },
   "file_extension": ".py",
   "mimetype": "text/x-python",
   "name": "python",
   "nbconvert_exporter": "python",
   "pygments_lexer": "ipython3",
   "version": "3.13.5"
  }
 },
 "nbformat": 4,
 "nbformat_minor": 5
}
