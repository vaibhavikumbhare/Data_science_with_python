{
 "cells": [
  {
   "cell_type": "code",
   "execution_count": 6,
   "id": "308547c1-aace-4565-9085-45b31b1a1452",
   "metadata": {},
   "outputs": [
    {
     "name": "stdout",
     "output_type": "stream",
     "text": [
      "{'x': 1, 'y': 2, 'z': 3}\n"
     ]
    }
   ],
   "source": [
    "Dict = {\"x\":1,\"y\":2,\"z\":3}\n",
    "print(Dict)"
   ]
  },
  {
   "cell_type": "code",
   "execution_count": 7,
   "id": "41c53d8e-6e56-46bc-938f-f773d3823af7",
   "metadata": {},
   "outputs": [
    {
     "data": {
      "text/plain": [
       "dict_keys(['x', 'y', 'z'])"
      ]
     },
     "execution_count": 7,
     "metadata": {},
     "output_type": "execute_result"
    }
   ],
   "source": [
    "Dict.keys()"
   ]
  },
  {
   "cell_type": "code",
   "execution_count": 8,
   "id": "00968fcd-dcff-466d-9bcc-a413ea2a8d1d",
   "metadata": {},
   "outputs": [
    {
     "data": {
      "text/plain": [
       "dict_values([1, 2, 3])"
      ]
     },
     "execution_count": 8,
     "metadata": {},
     "output_type": "execute_result"
    }
   ],
   "source": [
    "Dict.values()"
   ]
  },
  {
   "cell_type": "code",
   "execution_count": 9,
   "id": "fdd22b25-ef1d-4cc1-9560-d6cf0aedc84b",
   "metadata": {},
   "outputs": [
    {
     "data": {
      "text/plain": [
       "dict_items([('x', 1), ('y', 2), ('z', 3)])"
      ]
     },
     "execution_count": 9,
     "metadata": {},
     "output_type": "execute_result"
    }
   ],
   "source": [
    "Dict.items()"
   ]
  },
  {
   "cell_type": "code",
   "execution_count": 11,
   "id": "41bb6b56-c5e4-4cd6-a44c-04f37916caf8",
   "metadata": {},
   "outputs": [
    {
     "data": {
      "text/plain": [
       "3"
      ]
     },
     "execution_count": 11,
     "metadata": {},
     "output_type": "execute_result"
    }
   ],
   "source": [
    "Dict.get(\"z\")"
   ]
  },
  {
   "cell_type": "code",
   "execution_count": 13,
   "id": "c7317ce8-2eae-4da6-8a73-89d2f2ee0a2a",
   "metadata": {},
   "outputs": [
    {
     "name": "stdout",
     "output_type": "stream",
     "text": [
      "{'x': 10, 'y': 2, 'z': 3}\n"
     ]
    }
   ],
   "source": [
    "Dict[\"x\"]=10\n",
    "print(Dict)"
   ]
  },
  {
   "cell_type": "code",
   "execution_count": 18,
   "id": "8e09ef16-8527-4eae-affd-973e20d3eba7",
   "metadata": {},
   "outputs": [
    {
     "name": "stdout",
     "output_type": "stream",
     "text": [
      "{'x': 10, 'z': 3, 'w': 5}\n"
     ]
    }
   ],
   "source": [
    "Dict[\"w\"]=5\n",
    "print(Dict)"
   ]
  },
  {
   "cell_type": "code",
   "execution_count": 15,
   "id": "b5993e1c-4815-4959-b195-9febac3010e2",
   "metadata": {},
   "outputs": [
    {
     "name": "stdout",
     "output_type": "stream",
     "text": [
      "{'x': 10, 'z': 3, 'w': 5}\n"
     ]
    }
   ],
   "source": [
    "del Dict[\"y\"]\n",
    "print(Dict)"
   ]
  },
  {
   "cell_type": "code",
   "execution_count": 16,
   "id": "e00d5f30-e97a-4ada-8f32-d9fbff899f3e",
   "metadata": {},
   "outputs": [
    {
     "name": "stdout",
     "output_type": "stream",
     "text": [
      "{'x': 10, 'z': 3}\n"
     ]
    }
   ],
   "source": [
    "del Dict[\"w\"]\n",
    "print(Dict)"
   ]
  },
  {
   "cell_type": "code",
   "execution_count": 20,
   "id": "80c50bfc-55b7-424f-8a1b-bfab21778069",
   "metadata": {},
   "outputs": [
    {
     "name": "stdout",
     "output_type": "stream",
     "text": [
      "3\n",
      "{'x': 10, 'z': 3, 'w': 5}\n"
     ]
    }
   ],
   "source": [
    "print(len(Dict))\n",
    "print(Dict)"
   ]
  },
  {
   "cell_type": "code",
   "execution_count": 21,
   "id": "d2d7baa2-e380-4fd3-8fb0-2bea40aa511f",
   "metadata": {},
   "outputs": [
    {
     "name": "stdout",
     "output_type": "stream",
     "text": [
      "{}\n"
     ]
    }
   ],
   "source": [
    "Dict.clear()\n",
    "print(Dict)"
   ]
  },
  {
   "cell_type": "code",
   "execution_count": 25,
   "id": "334375c4-038b-4c4a-84e7-d70c59983797",
   "metadata": {},
   "outputs": [
    {
     "name": "stdout",
     "output_type": "stream",
     "text": [
      "7\n"
     ]
    }
   ],
   "source": [
    "def add(a,b=3):\n",
    "    print(a+b)\n",
    "\n",
    "add(2,5)"
   ]
  },
  {
   "cell_type": "code",
   "execution_count": 32,
   "id": "e5b48884-4761-4768-ab54-967dffbe1ca7",
   "metadata": {},
   "outputs": [
    {
     "name": "stdout",
     "output_type": "stream",
     "text": [
      "n is equal to 15\n"
     ]
    }
   ],
   "source": [
    "n=16\n",
    "if n !=15 or n<=10:\n",
    "    print(\"n is equal to 15\")\n",
    "else :\n",
    "    print(\"n is not equal to 15\")"
   ]
  },
  {
   "cell_type": "code",
   "execution_count": null,
   "id": "a929cb72-0aaa-4f7d-a289-0af671debbde",
   "metadata": {},
   "outputs": [],
   "source": []
  }
 ],
 "metadata": {
  "kernelspec": {
   "display_name": "Python 3 (ipykernel)",
   "language": "python",
   "name": "python3"
  },
  "language_info": {
   "codemirror_mode": {
    "name": "ipython",
    "version": 3
   },
   "file_extension": ".py",
   "mimetype": "text/x-python",
   "name": "python",
   "nbconvert_exporter": "python",
   "pygments_lexer": "ipython3",
   "version": "3.13.5"
  }
 },
 "nbformat": 4,
 "nbformat_minor": 5
}
