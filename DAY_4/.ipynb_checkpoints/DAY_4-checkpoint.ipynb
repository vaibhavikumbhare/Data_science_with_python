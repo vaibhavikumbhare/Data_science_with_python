{
 "cells": [
  {
   "cell_type": "markdown",
   "id": "4b5cf3d5-af42-4204-8fb8-2c2c378f27d9",
   "metadata": {},
   "source": [
    "# Dictionary"
   ]
  },
  {
   "cell_type": "markdown",
   "id": "7b1c5ee6-a4a6-4876-8685-5945c1e7b7c0",
   "metadata": {},
   "source": [
    "#### Defined using curly braces {} Keys and values are separated by colon : Items are separated by commas ,"
   ]
  },
  {
   "cell_type": "code",
   "execution_count": 6,
   "id": "308547c1-aace-4565-9085-45b31b1a1452",
   "metadata": {},
   "outputs": [
    {
     "name": "stdout",
     "output_type": "stream",
     "text": [
      "{'x': 1, 'y': 2, 'z': 3}\n"
     ]
    }
   ],
   "source": [
    "Dict = {\"x\":1,\"y\":2,\"z\":3}\n",
    "print(Dict)"
   ]
  },
  {
   "cell_type": "markdown",
   "id": "a2b9b4ad-ec44-4cc2-a298-f31f9bf836e8",
   "metadata": {},
   "source": [
    "#### returns all keys"
   ]
  },
  {
   "cell_type": "code",
   "execution_count": 7,
   "id": "41c53d8e-6e56-46bc-938f-f773d3823af7",
   "metadata": {},
   "outputs": [
    {
     "data": {
      "text/plain": [
       "dict_keys(['x', 'y', 'z'])"
      ]
     },
     "execution_count": 7,
     "metadata": {},
     "output_type": "execute_result"
    }
   ],
   "source": [
    "Dict.keys()"
   ]
  },
  {
   "cell_type": "markdown",
   "id": "69efd2d8-b128-4cfe-b499-cba8d6184749",
   "metadata": {},
   "source": [
    "#### returns all values"
   ]
  },
  {
   "cell_type": "code",
   "execution_count": 8,
   "id": "00968fcd-dcff-466d-9bcc-a413ea2a8d1d",
   "metadata": {},
   "outputs": [
    {
     "data": {
      "text/plain": [
       "dict_values([1, 2, 3])"
      ]
     },
     "execution_count": 8,
     "metadata": {},
     "output_type": "execute_result"
    }
   ],
   "source": [
    "Dict.values()"
   ]
  },
  {
   "cell_type": "markdown",
   "id": "43faf200-2fa1-40cf-9b09-67bdca3bde48",
   "metadata": {},
   "source": [
    "#### returns all key-value pairs as tuples"
   ]
  },
  {
   "cell_type": "code",
   "execution_count": 9,
   "id": "fdd22b25-ef1d-4cc1-9560-d6cf0aedc84b",
   "metadata": {},
   "outputs": [
    {
     "data": {
      "text/plain": [
       "dict_items([('x', 1), ('y', 2), ('z', 3)])"
      ]
     },
     "execution_count": 9,
     "metadata": {},
     "output_type": "execute_result"
    }
   ],
   "source": [
    "Dict.items()"
   ]
  },
  {
   "cell_type": "markdown",
   "id": "303cc2ef-18be-4abe-b59a-dd5153f4aadd",
   "metadata": {},
   "source": [
    "####  returns value for given key. give key in\"----\""
   ]
  },
  {
   "cell_type": "code",
   "execution_count": 11,
   "id": "41bb6b56-c5e4-4cd6-a44c-04f37916caf8",
   "metadata": {
    "scrolled": true
   },
   "outputs": [
    {
     "data": {
      "text/plain": [
       "3"
      ]
     },
     "execution_count": 11,
     "metadata": {},
     "output_type": "execute_result"
    }
   ],
   "source": [
    "Dict.get(\"z\")"
   ]
  },
  {
   "cell_type": "code",
   "execution_count": 13,
   "id": "c7317ce8-2eae-4da6-8a73-89d2f2ee0a2a",
   "metadata": {},
   "outputs": [
    {
     "name": "stdout",
     "output_type": "stream",
     "text": [
      "{'x': 10, 'y': 2, 'z': 3}\n"
     ]
    }
   ],
   "source": [
    "Dict[\"x\"]=10\n",
    "print(Dict)"
   ]
  },
  {
   "cell_type": "code",
   "execution_count": 18,
   "id": "8e09ef16-8527-4eae-affd-973e20d3eba7",
   "metadata": {},
   "outputs": [
    {
     "name": "stdout",
     "output_type": "stream",
     "text": [
      "{'x': 10, 'z': 3, 'w': 5}\n"
     ]
    }
   ],
   "source": [
    "Dict[\"w\"]=5\n",
    "print(Dict)"
   ]
  },
  {
   "cell_type": "code",
   "execution_count": null,
   "id": "db278295-caef-414a-8d2f-4ba2b9a4c605",
   "metadata": {},
   "outputs": [],
   "source": [
    "#### delet "
   ]
  },
  {
   "cell_type": "code",
   "execution_count": 15,
   "id": "b5993e1c-4815-4959-b195-9febac3010e2",
   "metadata": {},
   "outputs": [
    {
     "name": "stdout",
     "output_type": "stream",
     "text": [
      "{'x': 10, 'z': 3, 'w': 5}\n"
     ]
    }
   ],
   "source": [
    "del Dict[\"y\"]\n",
    "print(Dict)"
   ]
  },
  {
   "cell_type": "code",
   "execution_count": 16,
   "id": "e00d5f30-e97a-4ada-8f32-d9fbff899f3e",
   "metadata": {},
   "outputs": [
    {
     "name": "stdout",
     "output_type": "stream",
     "text": [
      "{'x': 10, 'z': 3}\n"
     ]
    }
   ],
   "source": [
    "del Dict[\"w\"]\n",
    "print(Dict)"
   ]
  },
  {
   "cell_type": "code",
   "execution_count": null,
   "id": "135c3f91-3ddb-4c5a-ac7d-36e722defd36",
   "metadata": {},
   "outputs": [],
   "source": [
    "# len"
   ]
  },
  {
   "cell_type": "code",
   "execution_count": 20,
   "id": "80c50bfc-55b7-424f-8a1b-bfab21778069",
   "metadata": {},
   "outputs": [
    {
     "name": "stdout",
     "output_type": "stream",
     "text": [
      "3\n",
      "{'x': 10, 'z': 3, 'w': 5}\n"
     ]
    }
   ],
   "source": [
    "print(len(Dict))\n",
    "print(Dict)"
   ]
  },
  {
   "cell_type": "code",
   "execution_count": 21,
   "id": "d2d7baa2-e380-4fd3-8fb0-2bea40aa511f",
   "metadata": {},
   "outputs": [
    {
     "name": "stdout",
     "output_type": "stream",
     "text": [
      "{}\n"
     ]
    }
   ],
   "source": [
    "Dict.clear()\n",
    "print(Dict)"
   ]
  },
  {
   "cell_type": "code",
   "execution_count": 25,
   "id": "334375c4-038b-4c4a-84e7-d70c59983797",
   "metadata": {},
   "outputs": [
    {
     "name": "stdout",
     "output_type": "stream",
     "text": [
      "7\n"
     ]
    }
   ],
   "source": [
    "def add(a,b=3):\n",
    "    print(a+b)\n",
    "\n",
    "add(2,5)"
   ]
  },
  {
   "cell_type": "code",
   "execution_count": 2,
   "id": "e5b48884-4761-4768-ab54-967dffbe1ca7",
   "metadata": {},
   "outputs": [
    {
     "ename": "NameError",
     "evalue": "name 'f' is not defined",
     "output_type": "error",
     "traceback": [
      "\u001b[31m---------------------------------------------------------------------------\u001b[39m",
      "\u001b[31mNameError\u001b[39m                                 Traceback (most recent call last)",
      "\u001b[36mCell\u001b[39m\u001b[36m \u001b[39m\u001b[32mIn[2]\u001b[39m\u001b[32m, line 3\u001b[39m\n\u001b[32m      1\u001b[39m n=\u001b[32m16\u001b[39m\n\u001b[32m      2\u001b[39m \u001b[38;5;28;01mif\u001b[39;00m n !=\u001b[32m15\u001b[39m \u001b[38;5;129;01mor\u001b[39;00m n<=\u001b[32m10\u001b[39m:\n\u001b[32m----> \u001b[39m\u001b[32m3\u001b[39m     \u001b[38;5;28mprint\u001b[39m(\u001b[43mf\u001b[49m,\u001b[33m\"\u001b[39m\u001b[33m is equal to 15\u001b[39m\u001b[33m\"\u001b[39m)\n\u001b[32m      4\u001b[39m \u001b[38;5;28;01melse\u001b[39;00m :\n\u001b[32m      5\u001b[39m     \u001b[38;5;28mprint\u001b[39m(f,\u001b[33m\"\u001b[39m\u001b[33m is not equal to 15\u001b[39m\u001b[33m\"\u001b[39m)\n",
      "\u001b[31mNameError\u001b[39m: name 'f' is not defined"
     ]
    }
   ],
   "source": [
    "n=16\n",
    "if n !=15 or n<=10:\n",
    "    print(f,\" is equal to 15\")\n",
    "else :\n",
    "    print(f,\" is not equal to 15\")"
   ]
  },
  {
   "cell_type": "code",
   "execution_count": null,
   "id": "a929cb72-0aaa-4f7d-a289-0af671debbde",
   "metadata": {},
   "outputs": [],
   "source": []
  }
 ],
 "metadata": {
  "kernelspec": {
   "display_name": "Python 3 (ipykernel)",
   "language": "python",
   "name": "python3"
  },
  "language_info": {
   "codemirror_mode": {
    "name": "ipython",
    "version": 3
   },
   "file_extension": ".py",
   "mimetype": "text/x-python",
   "name": "python",
   "nbconvert_exporter": "python",
   "pygments_lexer": "ipython3",
   "version": "3.13.5"
  }
 },
 "nbformat": 4,
 "nbformat_minor": 5
}
