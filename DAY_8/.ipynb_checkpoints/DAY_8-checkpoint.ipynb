{
 "cells": [
  {
   "cell_type": "code",
   "execution_count": 17,
   "id": "ee065ba7-6a67-494c-b6b6-edb65ca8ff20",
   "metadata": {},
   "outputs": [],
   "source": [
    "# probability and statistics"
   ]
  },
  {
   "cell_type": "code",
   "execution_count": 2,
   "id": "46d3397d-4ce1-4368-9dcf-3737841c5493",
   "metadata": {},
   "outputs": [],
   "source": [
    "import numpy as np\n",
    "import pandas as pd\n",
    "import matplotlib.pyplot as plt\n",
    "import seaborn as sns"
   ]
  },
  {
   "cell_type": "code",
   "execution_count": 3,
   "id": "a69e1fdd-19c6-4f38-a773-e59707b45382",
   "metadata": {},
   "outputs": [],
   "source": [
    "from collections import Counter"
   ]
  },
  {
   "cell_type": "code",
   "execution_count": 5,
   "id": "c107b109-a4c8-423b-8558-2a8ac53ac733",
   "metadata": {},
   "outputs": [],
   "source": [
    "sns.set(style=\"whitegrid\")"
   ]
  },
  {
   "cell_type": "code",
   "execution_count": 6,
   "id": "2e663f35-0e1c-4c93-be84-258e6776129e",
   "metadata": {},
   "outputs": [
    {
     "name": "stdout",
     "output_type": "stream",
     "text": [
      "[89, 45, 35, 80, 78, 67, 35, 87, 90, 67]\n"
     ]
    }
   ],
   "source": [
    "marks = [89,45,35,80,78,67,35,87,90,67]\n",
    "print(marks)"
   ]
  },
  {
   "cell_type": "code",
   "execution_count": 7,
   "id": "ce62b015-aeeb-4785-83bf-cfecd90e9ee6",
   "metadata": {},
   "outputs": [
    {
     "name": "stdout",
     "output_type": "stream",
     "text": [
      "   Marks\n",
      "0     89\n",
      "1     45\n",
      "2     35\n",
      "3     80\n",
      "4     78\n",
      "5     67\n",
      "6     35\n",
      "7     87\n",
      "8     90\n",
      "9     67\n"
     ]
    }
   ],
   "source": [
    "df = pd.DataFrame({\"Marks\":marks})\n",
    "print(df)"
   ]
  },
  {
   "cell_type": "markdown",
   "id": "66ffc481-726e-4f7b-9ea6-00b43c56e299",
   "metadata": {},
   "source": [
    "# mean"
   ]
  },
  {
   "cell_type": "code",
   "execution_count": 23,
   "id": "71b326c4-9332-473c-ad9e-d2a3108ab238",
   "metadata": {},
   "outputs": [
    {
     "name": "stdout",
     "output_type": "stream",
     "text": [
      "67.3\n"
     ]
    }
   ],
   "source": [
    "mean_value = np.mean(marks)\n",
    "print(mean_value)"
   ]
  },
  {
   "cell_type": "markdown",
   "id": "b9c7a00f-2b37-4caf-a09b-a6cf97106375",
   "metadata": {},
   "source": [
    "# median"
   ]
  },
  {
   "cell_type": "code",
   "execution_count": 24,
   "id": "d656ec68-c07c-49d4-8322-a1a5887400d9",
   "metadata": {},
   "outputs": [
    {
     "name": "stdout",
     "output_type": "stream",
     "text": [
      "72.5\n"
     ]
    }
   ],
   "source": [
    "median_value = np.median(marks)\n",
    "print(median_value)"
   ]
  },
  {
   "cell_type": "code",
   "execution_count": 25,
   "id": "6dc1d2c9-3d50-4612-bc93-f8339ea8f090",
   "metadata": {},
   "outputs": [],
   "source": [
    "# mode"
   ]
  },
  {
   "cell_type": "code",
   "execution_count": 26,
   "id": "10ade852-1a9e-4256-8ebc-82a417451a6a",
   "metadata": {},
   "outputs": [
    {
     "name": "stdout",
     "output_type": "stream",
     "text": [
      "67\n"
     ]
    }
   ],
   "source": [
    "mode_value = Counter(marks).most_common(2)[1][0]\n",
    "print(mode_value)"
   ]
  },
  {
   "cell_type": "code",
   "execution_count": 27,
   "id": "3985169a-991c-44dd-b0e5-3784464b3b41",
   "metadata": {},
   "outputs": [
    {
     "name": "stdout",
     "output_type": "stream",
     "text": [
      "[(35, 2), (67, 2)]\n"
     ]
    }
   ],
   "source": [
    "mode_value = Counter(marks).most_common(2)\n",
    "print(mode_value)"
   ]
  },
  {
   "cell_type": "code",
   "execution_count": 28,
   "id": "728ffba7-0d17-4cae-8389-97a41be6c852",
   "metadata": {},
   "outputs": [],
   "source": [
    "#var,std"
   ]
  },
  {
   "cell_type": "code",
   "execution_count": 30,
   "id": "3ae957d0-681a-4c23-a65d-0d3c8f69bf38",
   "metadata": {},
   "outputs": [
    {
     "name": "stdout",
     "output_type": "stream",
     "text": [
      "423.41\n"
     ]
    }
   ],
   "source": [
    "variance_value = np.var(marks)\n",
    "print(variance_value)"
   ]
  },
  {
   "cell_type": "code",
   "execution_count": 31,
   "id": "eadce83f-78da-42ac-b8dd-2d2197c02de3",
   "metadata": {},
   "outputs": [
    {
     "name": "stdout",
     "output_type": "stream",
     "text": [
      "20.57692882818036\n"
     ]
    }
   ],
   "source": [
    "std_deviation = np.std(marks)\n",
    "print(std_deviation)"
   ]
  },
  {
   "cell_type": "code",
   "execution_count": null,
   "id": "d640abae-362c-4232-8d2a-e4fd8ca48fae",
   "metadata": {},
   "outputs": [],
   "source": []
  },
  {
   "cell_type": "code",
   "execution_count": null,
   "id": "49d3b3f3-1ea3-4011-863b-be2fe6aad1a1",
   "metadata": {},
   "outputs": [],
   "source": []
  }
 ],
 "metadata": {
  "kernelspec": {
   "display_name": "Python 3 (ipykernel)",
   "language": "python",
   "name": "python3"
  },
  "language_info": {
   "codemirror_mode": {
    "name": "ipython",
    "version": 3
   },
   "file_extension": ".py",
   "mimetype": "text/x-python",
   "name": "python",
   "nbconvert_exporter": "python",
   "pygments_lexer": "ipython3",
   "version": "3.13.5"
  }
 },
 "nbformat": 4,
 "nbformat_minor": 5
}
