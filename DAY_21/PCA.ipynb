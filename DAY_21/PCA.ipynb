{
 "cells": [
  {
   "cell_type": "markdown",
   "id": "eddce566-b78c-43a0-a17d-193dcf247378",
   "metadata": {},
   "source": [
    "# PCA (pricple component anlysis) dimensinality reduction"
   ]
  },
  {
   "cell_type": "markdown",
   "id": "7b31943f-2de3-4737-8b75-96b5d6fbbc05",
   "metadata": {},
   "source": [
    "# what is dimensinality reduction?\n",
    "- imagine you have 100 columns(features) in your data\n",
    "- some features are repetative or not useful\n",
    "- you want to keep the most important information but reduce columns"
   ]
  },
  {
   "cell_type": "markdown",
   "id": "0e8de19b-9882-4167-902d-ca8e3b99bfd3",
   "metadata": {},
   "source": [
    "# real life examples \n",
    "- think to hues textbooks\n",
    "- you summierise key points on one page\n",
    "- PCA does the same redues many features to fewer"
   ]
  },
  {
   "cell_type": "markdown",
   "id": "35b0fe37-6b32-46a9-97ba-e896a6e6e053",
   "metadata": {},
   "source": [
    "# what is PCA ?\n",
    "- PCA simplfys your data by finding new hindden features called ` princple components`\n",
    "- this component captures the most variance(information)\n",
    "- helps visualize complex data in 2D And 3D"
   ]
  },
  {
   "cell_type": "markdown",
   "id": "26b06661-4e88-4047-b289-453781b50e9e",
   "metadata": {},
   "source": [
    "#### PCA is used for.\n",
    "- visualizing high dimensotional data\n",
    "- speeding up machine learing models.\n",
    "- reduesing noise(incomplete data)"
   ]
  },
  {
   "cell_type": "code",
   "execution_count": 6,
   "id": "338394ce-a177-41f2-af63-e8305d67d312",
   "metadata": {},
   "outputs": [],
   "source": [
    "import numpy as np\n",
    "import pandas as pd\n",
    "import matplotlib.pyplot as plt\n",
    "import seaborn as sns\n",
    "from sklearn.datasets import load_iris\n",
    "from sklearn.decomposition import PCA\n"
   ]
  },
  {
   "cell_type": "code",
   "execution_count": 7,
   "id": "639fb804-c2de-4ff9-b7b7-6942cd208d41",
   "metadata": {},
   "outputs": [
    {
     "data": {
      "text/html": [
       "<div>\n",
       "<style scoped>\n",
       "    .dataframe tbody tr th:only-of-type {\n",
       "        vertical-align: middle;\n",
       "    }\n",
       "\n",
       "    .dataframe tbody tr th {\n",
       "        vertical-align: top;\n",
       "    }\n",
       "\n",
       "    .dataframe thead th {\n",
       "        text-align: right;\n",
       "    }\n",
       "</style>\n",
       "<table border=\"1\" class=\"dataframe\">\n",
       "  <thead>\n",
       "    <tr style=\"text-align: right;\">\n",
       "      <th></th>\n",
       "      <th>sepal length (cm)</th>\n",
       "      <th>sepal width (cm)</th>\n",
       "      <th>petal length (cm)</th>\n",
       "      <th>petal width (cm)</th>\n",
       "      <th>species</th>\n",
       "    </tr>\n",
       "  </thead>\n",
       "  <tbody>\n",
       "    <tr>\n",
       "      <th>0</th>\n",
       "      <td>5.1</td>\n",
       "      <td>3.5</td>\n",
       "      <td>1.4</td>\n",
       "      <td>0.2</td>\n",
       "      <td>0</td>\n",
       "    </tr>\n",
       "    <tr>\n",
       "      <th>1</th>\n",
       "      <td>4.9</td>\n",
       "      <td>3.0</td>\n",
       "      <td>1.4</td>\n",
       "      <td>0.2</td>\n",
       "      <td>0</td>\n",
       "    </tr>\n",
       "    <tr>\n",
       "      <th>2</th>\n",
       "      <td>4.7</td>\n",
       "      <td>3.2</td>\n",
       "      <td>1.3</td>\n",
       "      <td>0.2</td>\n",
       "      <td>0</td>\n",
       "    </tr>\n",
       "    <tr>\n",
       "      <th>3</th>\n",
       "      <td>4.6</td>\n",
       "      <td>3.1</td>\n",
       "      <td>1.5</td>\n",
       "      <td>0.2</td>\n",
       "      <td>0</td>\n",
       "    </tr>\n",
       "    <tr>\n",
       "      <th>4</th>\n",
       "      <td>5.0</td>\n",
       "      <td>3.6</td>\n",
       "      <td>1.4</td>\n",
       "      <td>0.2</td>\n",
       "      <td>0</td>\n",
       "    </tr>\n",
       "  </tbody>\n",
       "</table>\n",
       "</div>"
      ],
      "text/plain": [
       "   sepal length (cm)  sepal width (cm)  petal length (cm)  petal width (cm)  \\\n",
       "0                5.1               3.5                1.4               0.2   \n",
       "1                4.9               3.0                1.4               0.2   \n",
       "2                4.7               3.2                1.3               0.2   \n",
       "3                4.6               3.1                1.5               0.2   \n",
       "4                5.0               3.6                1.4               0.2   \n",
       "\n",
       "   species  \n",
       "0        0  \n",
       "1        0  \n",
       "2        0  \n",
       "3        0  \n",
       "4        0  "
      ]
     },
     "execution_count": 7,
     "metadata": {},
     "output_type": "execute_result"
    }
   ],
   "source": [
    "data = load_iris()\n",
    "df = pd.DataFrame(data.data,columns = data.feature_names)\n",
    "df[\"species\"] = data.target\n",
    "df.head()"
   ]
  },
  {
   "cell_type": "markdown",
   "id": "fe40a51e-4a6a-4627-8b7d-8134ece16c8b",
   "metadata": {},
   "source": [
    "# apply PCA to redues features"
   ]
  },
  {
   "cell_type": "code",
   "execution_count": 11,
   "id": "ab597e7f-cb68-4bc5-8ba9-a263da1c54ba",
   "metadata": {},
   "outputs": [
    {
     "name": "stdout",
     "output_type": "stream",
     "text": [
      "     sepal length (cm)  sepal width (cm)  petal length (cm)  petal width (cm)  \\\n",
      "0                  5.1               3.5                1.4               0.2   \n",
      "1                  4.9               3.0                1.4               0.2   \n",
      "2                  4.7               3.2                1.3               0.2   \n",
      "3                  4.6               3.1                1.5               0.2   \n",
      "4                  5.0               3.6                1.4               0.2   \n",
      "..                 ...               ...                ...               ...   \n",
      "145                6.7               3.0                5.2               2.3   \n",
      "146                6.3               2.5                5.0               1.9   \n",
      "147                6.5               3.0                5.2               2.0   \n",
      "148                6.2               3.4                5.4               2.3   \n",
      "149                5.9               3.0                5.1               1.8   \n",
      "\n",
      "     species       PC1       PC2  \n",
      "0          0 -3.795927  0.451696  \n",
      "1          0 -3.838376 -0.250318  \n",
      "2          0 -4.085650 -0.204989  \n",
      "3          0 -3.882501 -0.450143  \n",
      "4          0 -3.858988  0.462101  \n",
      "..       ...       ...       ...  \n",
      "145        2  2.749386  0.265211  \n",
      "146        2  2.159740 -0.530778  \n",
      "147        2  2.495162  0.111523  \n",
      "148        2  2.688337  0.164937  \n",
      "149        2  1.966024 -0.399743  \n",
      "\n",
      "[150 rows x 7 columns]\n"
     ]
    }
   ],
   "source": [
    "X = df.drop(\"species\",axis = 1)\n",
    "pca = PCA(n_components = 2)\n",
    "components = pca.fit_transform(X)\n",
    "df[\"PC1\"] = components[:,0]\n",
    "df[\"PC2\"] = components[:,1]\n",
    "print(df)"
   ]
  },
  {
   "cell_type": "markdown",
   "id": "a6625d65-362d-4ef3-9c32-7d2e4a766d97",
   "metadata": {},
   "source": [
    "# visualize the PCA result"
   ]
  },
  {
   "cell_type": "code",
   "execution_count": 10,
   "id": "be678d8e-82b6-4bd9-b8ec-64814caadc1c",
   "metadata": {},
   "outputs": [
    {
     "data": {
      "image/png": "[encoded data removed]",
      "text/plain": [
       "<Figure size 800x600 with 1 Axes>"
      ]
     },
     "metadata": {},
     "output_type": "display_data"
    }
   ],
   "source": [
    "plt.figure(figsize=(8,6))\n",
    "sns.scatterplot(x = \"PC1\",y = \"PC2\",hue = \"species\",palette = \"deep\",data = df)\n",
    "plt.show()"
   ]
  },
  {
   "cell_type": "markdown",
   "id": "b3690b6e-446b-4b61-9618-20d65eb59864",
   "metadata": {},
   "source": [
    "# what happen here? \n",
    "- we had 4 features\n",
    "- sepal length and sepal width got combaine into PC1\n",
    "- petal length and petal width got combine into PC2\n",
    "- PCA combain them into two new features princple component 1 = 'PC1' ,princple component 2 = 'PC2'\n",
    "- this new features captures most of the imp patterns in data.\n",
    "# simple anology\n",
    "- imagine a 3D object like cube\n",
    "- you take its 2D shadow on wall\n",
    "- the shadow still shows the shape,but it simpler\n",
    "- PCA works similarly redues dimentions but keeps patterns"
   ]
  },
  {
   "cell_type": "markdown",
   "id": "ceac1d00-ab92-4e04-b766-20c652ecb05e",
   "metadata": {},
   "source": [
    "## Key Points :\n",
    "- PCA is unsupervised : it doesnt use labels during reduction\n",
    "- Helps with visualization and simplifying\n",
    "- Principal Components are combinations of original features\n",
    "- You decide how many components to keep `(n_components)`"
   ]
  },
  {
   "cell_type": "code",
   "execution_count": null,
   "id": "89555167-0be6-4d34-a857-cb94d9bf4966",
   "metadata": {},
   "outputs": [],
   "source": []
  }
 ],
 "metadata": {
  "kernelspec": {
   "display_name": "Python 3 (ipykernel)",
   "language": "python",
   "name": "python3"
  },
  "language_info": {
   "codemirror_mode": {
    "name": "ipython",
    "version": 3
   },
   "file_extension": ".py",
   "mimetype": "text/x-python",
   "name": "python",
   "nbconvert_exporter": "python",
   "pygments_lexer": "ipython3",
   "version": "3.13.5"
  }
 },
 "nbformat": 4,
 "nbformat_minor": 5
}
