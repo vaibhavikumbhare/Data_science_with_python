{
 "cells": [
  {
   "cell_type": "markdown",
   "id": "ba3e0d22-523f-4e90-9934-dc8db82be135",
   "metadata": {},
   "source": [
    "# Neural Network Basics (perceptron, activation functions)"
   ]
  },
  {
   "cell_type": "markdown",
   "id": "5885d86f-d1b1-454e-9cdb-bae365df0cfa",
   "metadata": {},
   "source": [
    "## what is Neural Network??\n",
    "#### imagine how your brain works\n",
    "- your brain has Neurons which pass signal to each other\n",
    "- Neural Networks inspired by this.\n",
    "- a perceptron is like a singl brain cell (Neuron)\n",
    "- multiple perceptrons connected together = Neural Network\n",
    "## what is perceptron ? think perceptrons as\n",
    " -  it takes inputs(features)\n",
    " -  applys weights to those inputs\n",
    " -  add them together + bias\n",
    " -  paases result thruogh an activation function to makes decisions\n",
    "#### Formula: -\n",
    "  - output = Activation((input 1 * weight 1) + (input 2 * weight 2) +...+ bias)\n",
    "## What is Activation Function?\n",
    "#### Activation decied\n",
    "- should the neuron fire (Activat) or not\n",
    "- introduces non linerality -helps model complex problem\n",
    "#### common activations functions.\n",
    "| Name | purpose  | Range  | \n",
    "|-------|----------|-------|\n",
    "|sigmoid | binary outputs (0 to 1)| 0 to 1 |\n",
    "|tanh | output between -1 to 1| -1 to 1 |\n",
    "|ReLU | keeps positive remove negative | 0 to ∞ |\n",
    "## Perceptrons  with python Example \n",
    "#### we will bulid simple perceptrons to solve a logical or problem\n",
    "| input 1 |input 2 |output (OR)|\n",
    "|----------|-------|------------|\n",
    "| 0 | 0|0|\n",
    "| 0| 1|1|\n",
    "| 1| 0|1|\n",
    "| 1| 1|1|\n"
   ]
  },
  {
   "cell_type": "code",
   "execution_count": 1,
   "id": "436d9f46-55c4-4a56-bae9-38960cf51383",
   "metadata": {},
   "outputs": [],
   "source": [
    "import numpy as np "
   ]
  },
  {
   "cell_type": "code",
   "execution_count": 3,
   "id": "2be5ed1f-0ce9-46f6-89e5-0dbbf53117c4",
   "metadata": {},
   "outputs": [],
   "source": [
    "X = np.array([\n",
    "                [0,0],# input 1 val\n",
    "                [0,1],\n",
    "                [1,0],#input 2val\n",
    "                [1,1]\n",
    "])\n",
    "y = np.array([0,1,1,1])# output val"
   ]
  },
  {
   "cell_type": "code",
   "execution_count": null,
   "id": "cb917676-b3e1-42d2-b0be-f22c6bf7943d",
   "metadata": {},
   "outputs": [],
   "source": []
  }
 ],
 "metadata": {
  "kernelspec": {
   "display_name": "Python 3 (ipykernel)",
   "language": "python",
   "name": "python3"
  },
  "language_info": {
   "codemirror_mode": {
    "name": "ipython",
    "version": 3
   },
   "file_extension": ".py",
   "mimetype": "text/x-python",
   "name": "python",
   "nbconvert_exporter": "python",
   "pygments_lexer": "ipython3",
   "version": "3.13.5"
  }
 },
 "nbformat": 4,
 "nbformat_minor": 5
}
