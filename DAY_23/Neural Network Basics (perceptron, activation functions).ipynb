{
 "cells": [
  {
   "cell_type": "markdown",
   "id": "ba3e0d22-523f-4e90-9934-dc8db82be135",
   "metadata": {},
   "source": [
    "# Neural Network Basics (perceptron, activation functions)"
   ]
  },
  {
   "cell_type": "markdown",
   "id": "5885d86f-d1b1-454e-9cdb-bae365df0cfa",
   "metadata": {},
   "source": [
    "## what is Neural Network??\n",
    "#### imagine how your brain works\n",
    "- your brain has Neurons which pass signal to each other\n",
    "- Neural Networks inspired by this.\n",
    "- a perceptron is like a singl brain cell (Neuron)\n",
    "- multiple perceptrons connected together = Neural Network\n",
    "## what is perceptron ? think perceptrons as\n",
    " -  it takes inputs(features)\n",
    " -  applys weights to those inputs\n",
    " -  add them together + bias\n",
    " -  paases result thruogh an activation function to makes decisions\n",
    "#### Formula: -\n",
    "  - output = Activation((input 1 * weight 1) + (input 2 * weight 2) +...+ bias)\n",
    "## What is Activation Function?\n",
    "#### Activation decied\n",
    "- should the neuron fire (Activat) or not\n",
    "- introduces non linerality -helps model complex problem\n",
    "#### common activations functions.\n",
    "| Name | purpose  | Range  | \n",
    "|-------|----------|-------|\n",
    "|sigmoid | binary outputs (0 to 1)| 0 to 1 |\n",
    "|tanh | output between -1 to 1| -1 to 1 |\n",
    "|ReLU | keeps positive remove negative | 0 to ∞ |\n",
    "## Perceptrons  with python Example \n",
    "#### we will bulid simple perceptrons to solve a logical or problem\n",
    "| input 1 |input 2 |output (OR)|\n",
    "|----------|-------|------------|\n",
    "| 0 | 0|0|\n",
    "| 0| 1|1|\n",
    "| 1| 0|1|\n",
    "| 1| 1|1|\n"
   ]
  },
  {
   "cell_type": "code",
   "execution_count": 4,
   "id": "436d9f46-55c4-4a56-bae9-38960cf51383",
   "metadata": {},
   "outputs": [],
   "source": [
    "import numpy as np "
   ]
  },
  {
   "cell_type": "code",
   "execution_count": 5,
   "id": "2be5ed1f-0ce9-46f6-89e5-0dbbf53117c4",
   "metadata": {},
   "outputs": [],
   "source": [
    "X = np.array([\n",
    "                [0,0],# input 1 val\n",
    "                [0,1],\n",
    "                [1,0],#input 2val\n",
    "                [1,1]\n",
    "])\n",
    "y = np.array([0,1,1,1])# output val"
   ]
  },
  {
   "cell_type": "code",
   "execution_count": 6,
   "id": "cb917676-b3e1-42d2-b0be-f22c6bf7943d",
   "metadata": {},
   "outputs": [],
   "source": [
    "# inisilaize weight and bias\n",
    "weights = np.random.rand(2) # 2 input = 2 weights\n",
    "bias = np.random.rand(1) "
   ]
  },
  {
   "cell_type": "markdown",
   "id": "297012e0-2b0f-4177-a2c9-cc9cf81e05f9",
   "metadata": {},
   "source": [
    "#### Sigmoid Activation Function"
   ]
  },
  {
   "cell_type": "code",
   "execution_count": 7,
   "id": "97e9ba13-9ec1-4020-b4f7-ee5d76903518",
   "metadata": {},
   "outputs": [],
   "source": [
    "def sigmoid(x):\n",
    "    return 1/(1+np.exp(-x))"
   ]
  },
  {
   "cell_type": "markdown",
   "id": "fab14602-761b-4c90-9bd0-c783f15b2d02",
   "metadata": {},
   "source": [
    "#### derivative for learning "
   ]
  },
  {
   "cell_type": "code",
   "execution_count": 8,
   "id": "e341d1ab-a49d-4f5b-98fa-0b14cd36c9a0",
   "metadata": {},
   "outputs": [],
   "source": [
    "def sigmoid_derivative(x):\n",
    "    return x*(1-x)"
   ]
  },
  {
   "cell_type": "markdown",
   "id": "5e593259-7c14-4743-801d-49fa86b48691",
   "metadata": {},
   "source": [
    "# Forward pass and training "
   ]
  },
  {
   "cell_type": "code",
   "execution_count": 9,
   "id": "9ec793c2-863b-4f29-b170-272c2577c068",
   "metadata": {},
   "outputs": [
    {
     "name": "stdout",
     "output_type": "stream",
     "text": [
      "weights: [6.79626652 6.80208802]\n",
      "bias: [-2.92100392]\n"
     ]
    }
   ],
   "source": [
    "# traing parameters \n",
    "learing_rate = 0.1\n",
    "epochs = 1000 #itraisson\n",
    "\n",
    "\n",
    "# traing loop\n",
    "for epoch in range(epochs):\n",
    "    for i in range(len(X)):\n",
    "        # weights sum\n",
    "        z = np.dot(X[i],weights)+bias\n",
    "\n",
    "        # apply activation \n",
    "        output = sigmoid(z)\n",
    "\n",
    "\n",
    "        # Error\n",
    "        error = y[i]-output\n",
    "\n",
    "\n",
    "        weights += learing_rate*error*X[i]\n",
    "        bias+=learing_rate*error\n",
    "\n",
    "# print final weights and bias\n",
    "print(f\"weights: {weights}\")\n",
    "print(f\"bias: {bias}\")"
   ]
  },
  {
   "cell_type": "markdown",
   "id": "e897aae0-0b72-4f1c-ae5f-3e3e8ddc2e10",
   "metadata": {},
   "source": [
    "# test the Perceptrons"
   ]
  },
  {
   "cell_type": "code",
   "execution_count": null,
   "id": "b9eb4c03-e684-4f07-b580-810d8439bbcf",
   "metadata": {},
   "outputs": [],
   "source": []
  },
  {
   "cell_type": "code",
   "execution_count": 11,
   "id": "a1c5775f-e4da-4882-b521-c185809d57cd",
   "metadata": {},
   "outputs": [
    {
     "name": "stdout",
     "output_type": "stream",
     "text": [
      "input: [0 0] | predicted: 0 | actual: 0\n",
      "input: [0 1] | predicted: 1 | actual: 1\n",
      "input: [1 0] | predicted: 1 | actual: 1\n",
      "input: [1 1] | predicted: 1 | actual: 1\n"
     ]
    },
    {
     "name": "stderr",
     "output_type": "stream",
     "text": [
      "C:\\Users\\vaibh\\AppData\\Local\\Temp\\ipykernel_10980\\2447502656.py:6: DeprecationWarning: Conversion of an array with ndim > 0 to a scalar is deprecated, and will error in future. Ensure you extract a single element from your array before performing this operation. (Deprecated NumPy 1.25.)\n",
      "  print(f\"input: {X[i]} | predicted: {round(float(output))} | actual: {y[i]}\")\n"
     ]
    }
   ],
   "source": [
    " for i in range(len(X)):\n",
    "     \n",
    "        z = np.dot(X[i],weights)+bias\n",
    "     \n",
    "        output = sigmoid(z)\n",
    "        print(f\"input: {X[i]} | predicted: {round(float(output))} | actual: {y[i]}\")"
   ]
  },
  {
   "cell_type": "markdown",
   "id": "f8087c65-a5e6-4f11-993d-bb12048c0c57",
   "metadata": {},
   "source": [
    "# What Happened Here\n",
    "- perceptron took two inputs\n",
    "- Applied weights and bias\n",
    "- Used sigmoid to decied output\n",
    "- Repeated adjustemnets (learning ) for 1000 iterations\n",
    "- After training ,model predict OR gate correctly\n",
    "# Beginner Friendly Notes\n",
    "- weights = How important each inputs is\n",
    "- Bias = Extra adjustment for flexiblity\n",
    "- Sigmod = Smooth output between 0 to 1\n",
    "- Learning rate = step size for updating weights\n",
    "- Epochs = How many times model learns\n",
    "# Real world Analogy\n",
    "imagine learning to throw a ball into a basket :\n",
    "- you try ,miss, adjust(Like updating weights)\n",
    "- Keep practicing until you consistently hit the target\n",
    "#### Perceptrons learns similarly - adjust itself based on errors"
   ]
  },
  {
   "cell_type": "code",
   "execution_count": null,
   "id": "f83e49ce-108d-426b-913e-ee0b493108f3",
   "metadata": {},
   "outputs": [],
   "source": []
  },
  {
   "cell_type": "code",
   "execution_count": null,
   "id": "70312ec8-1cf6-4408-b4e8-141c51b5248b",
   "metadata": {},
   "outputs": [],
   "source": []
  },
  {
   "cell_type": "code",
   "execution_count": null,
   "id": "ecd3578e-fe25-4d9a-b83a-f75900812067",
   "metadata": {},
   "outputs": [],
   "source": []
  },
  {
   "cell_type": "code",
   "execution_count": null,
   "id": "7b0a8b83-93d2-417d-b094-11a0c0328585",
   "metadata": {},
   "outputs": [],
   "source": []
  }
 ],
 "metadata": {
  "kernelspec": {
   "display_name": "Python 3 (ipykernel)",
   "language": "python",
   "name": "python3"
  },
  "language_info": {
   "codemirror_mode": {
    "name": "ipython",
    "version": 3
   },
   "file_extension": ".py",
   "mimetype": "text/x-python",
   "name": "python",
   "nbconvert_exporter": "python",
   "pygments_lexer": "ipython3",
   "version": "3.13.5"
  }
 },
 "nbformat": 4,
 "nbformat_minor": 5
}
