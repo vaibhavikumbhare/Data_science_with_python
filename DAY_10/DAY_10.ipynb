{
 "cells": [
  {
   "cell_type": "markdown",
   "id": "97b38ea3-7ce3-4865-8e4a-ffcd86da5dd7",
   "metadata": {},
   "source": [
    "# Linear algebra  with machine learing"
   ]
  },
  {
   "cell_type": "markdown",
   "id": "6ef69209-a597-433b-bdca-332dcecb2ef7",
   "metadata": {},
   "source": [
    "#### vectors and dot products"
   ]
  },
  {
   "cell_type": "code",
   "execution_count": 20,
   "id": "7e345bca-d08b-480a-bf46-6cc7474ef1e5",
   "metadata": {},
   "outputs": [],
   "source": [
    "import numpy as np"
   ]
  },
  {
   "cell_type": "code",
   "execution_count": 21,
   "id": "f8038d5e-e3bf-46e4-9969-3eaab5e8a429",
   "metadata": {},
   "outputs": [
    {
     "name": "stdout",
     "output_type": "stream",
     "text": [
      "32\n"
     ]
    }
   ],
   "source": [
    "# vectors and dot product\n",
    "array1 = np.array([1,2,3])\n",
    "array2 =np.array([4,5,6])\n",
    "print(np.dot(array1,array2))"
   ]
  },
  {
   "cell_type": "markdown",
   "id": "1627b4cc-220b-4cb2-a021-357d05450ae4",
   "metadata": {},
   "source": [
    "#### matrices and operations (2D)\n"
   ]
  },
  {
   "cell_type": "code",
   "execution_count": 22,
   "id": "acab4524-e2dc-4bdb-983e-58b47528cfb9",
   "metadata": {},
   "outputs": [
    {
     "name": "stdout",
     "output_type": "stream",
     "text": [
      "[[1 2]\n",
      " [3 4]]\n",
      "[[5 6]\n",
      " [7 8]]\n"
     ]
    }
   ],
   "source": [
    "a = np.array([[1,2],[3,4]])\n",
    "b = np.array([[5,6],[7,8]])\n",
    "print(a)\n",
    "print(b)\n"
   ]
  },
  {
   "cell_type": "code",
   "execution_count": 23,
   "id": "dec2a59b-ef08-4347-bea9-9c03b21998ff",
   "metadata": {},
   "outputs": [
    {
     "name": "stdout",
     "output_type": "stream",
     "text": [
      "[[1 2 3]\n",
      " [0 1 4]\n",
      " [5 6 0]]\n",
      "[[10 11 12]\n",
      " [13 14 15]\n",
      " [16 17 18]]\n"
     ]
    }
   ],
   "source": [
    "c = np.array([[1,2,3],[0,1,4],[5,6,0]])\n",
    "d = np.array([[10,11,12],[13,14,15],[16,17,18]])\n",
    "print(c)\n",
    "print(d)"
   ]
  },
  {
   "cell_type": "markdown",
   "id": "e0e9dd4a-93d5-4426-9066-851ed11903e4",
   "metadata": {},
   "source": [
    "#### Addition and sub of matrix (2D)"
   ]
  },
  {
   "cell_type": "code",
   "execution_count": 24,
   "id": "43154682-7d57-4e51-8f00-049d20b9d898",
   "metadata": {},
   "outputs": [
    {
     "name": "stdout",
     "output_type": "stream",
     "text": [
      "a+b\n",
      " [[ 6  8]\n",
      " [10 12]]\n",
      "a-b\n",
      " [[-4 -4]\n",
      " [-4 -4]]\n"
     ]
    }
   ],
   "source": [
    "print(\"a+b\\n\",a+b)\n",
    "print(\"a-b\\n\",a-b)"
   ]
  },
  {
   "cell_type": "markdown",
   "id": "b88a92dd-e1cd-402c-95b6-c67cab2afd71",
   "metadata": {},
   "source": [
    "#### Addition and sub of matrix (3D)"
   ]
  },
  {
   "cell_type": "code",
   "execution_count": 25,
   "id": "4e1406ff-1016-4413-8c6f-476b5087c94c",
   "metadata": {},
   "outputs": [
    {
     "name": "stdout",
     "output_type": "stream",
     "text": [
      "c+d\n",
      " [[11 13 15]\n",
      " [13 15 19]\n",
      " [21 23 18]]\n",
      "c-d\n",
      " [[ -9  -9  -9]\n",
      " [-13 -13 -11]\n",
      " [-11 -11 -18]]\n"
     ]
    }
   ],
   "source": [
    "print(\"c+d\\n\",c+d)\n",
    "print(\"c-d\\n\",c-d)"
   ]
  },
  {
   "cell_type": "markdown",
   "id": "84901f69-587d-48ff-b9ee-2b01f18b7cf1",
   "metadata": {},
   "source": [
    "# matrix element wise multi"
   ]
  },
  {
   "cell_type": "code",
   "execution_count": 26,
   "id": "c90a3d1b-0001-4576-924a-6e2d879ebb4c",
   "metadata": {},
   "outputs": [
    {
     "name": "stdout",
     "output_type": "stream",
     "text": [
      "[[ 5 12]\n",
      " [21 32]]\n"
     ]
    }
   ],
   "source": [
    "print(a*b)"
   ]
  },
  {
   "cell_type": "code",
   "execution_count": 27,
   "id": "60ffe0bf-0690-494c-a804-cd39c9f28f62",
   "metadata": {},
   "outputs": [
    {
     "name": "stdout",
     "output_type": "stream",
     "text": [
      "[[ 10  22  36]\n",
      " [  0  14  60]\n",
      " [ 80 102   0]]\n"
     ]
    }
   ],
   "source": [
    "print(c*d)"
   ]
  },
  {
   "cell_type": "markdown",
   "id": "ae7e95d8-c3e7-4ac3-b3d9-6e037945db86",
   "metadata": {},
   "source": [
    "# dot product of 2D array"
   ]
  },
  {
   "cell_type": "code",
   "execution_count": 28,
   "id": "0907fe86-021a-47ce-ab75-974dcf80d5e4",
   "metadata": {},
   "outputs": [
    {
     "name": "stdout",
     "output_type": "stream",
     "text": [
      "[[19 22]\n",
      " [43 50]]\n"
     ]
    }
   ],
   "source": [
    "print(a@b)"
   ]
  },
  {
   "cell_type": "code",
   "execution_count": 29,
   "id": "dc297942-72d3-467c-92e0-23d23bad82cd",
   "metadata": {},
   "outputs": [
    {
     "name": "stdout",
     "output_type": "stream",
     "text": [
      "[[1 2]\n",
      " [3 4]] [[5 6]\n",
      " [7 8]]\n"
     ]
    }
   ],
   "source": [
    "print(a,b)"
   ]
  },
  {
   "cell_type": "code",
   "execution_count": 30,
   "id": "adfabe0b-4592-43b8-a739-5266953466e6",
   "metadata": {},
   "outputs": [
    {
     "name": "stdout",
     "output_type": "stream",
     "text": [
      "[[ 84  90  96]\n",
      " [ 77  82  87]\n",
      " [128 139 150]]\n"
     ]
    }
   ],
   "source": [
    "print(c@d)"
   ]
  },
  {
   "cell_type": "markdown",
   "id": "ec7a0585-f748-418a-93a7-7f2f5d41fe31",
   "metadata": {},
   "source": [
    "# transpose of matrix"
   ]
  },
  {
   "cell_type": "code",
   "execution_count": 31,
   "id": "5937fa64-5a04-4438-82f4-5aad4ff3c8e4",
   "metadata": {},
   "outputs": [
    {
     "name": "stdout",
     "output_type": "stream",
     "text": [
      "[[1 3]\n",
      " [2 4]]\n"
     ]
    }
   ],
   "source": [
    "print(a.T)"
   ]
  },
  {
   "cell_type": "code",
   "execution_count": 32,
   "id": "08427e38-7226-474d-809f-714b8b7844f2",
   "metadata": {},
   "outputs": [
    {
     "name": "stdout",
     "output_type": "stream",
     "text": [
      "[[1 0 5]\n",
      " [2 1 6]\n",
      " [3 4 0]]\n"
     ]
    }
   ],
   "source": [
    "print(c.T)"
   ]
  },
  {
   "cell_type": "markdown",
   "id": "c26c99dd-2251-4627-9f1c-5db6f3a4dde7",
   "metadata": {},
   "source": [
    "# identity of matrix"
   ]
  },
  {
   "cell_type": "code",
   "execution_count": 33,
   "id": "b92af8b8-da33-4a98-b7dd-7cad41aa0258",
   "metadata": {},
   "outputs": [
    {
     "name": "stdout",
     "output_type": "stream",
     "text": [
      "[[1. 0. 0. 0. 0.]\n",
      " [0. 1. 0. 0. 0.]\n",
      " [0. 0. 1. 0. 0.]\n",
      " [0. 0. 0. 1. 0.]\n",
      " [0. 0. 0. 0. 1.]]\n"
     ]
    }
   ],
   "source": [
    "I = np.eye(5)\n",
    "print(I)"
   ]
  },
  {
   "cell_type": "code",
   "execution_count": 34,
   "id": "bf41ba86-4fb2-4a6e-b4be-27e6aac0245e",
   "metadata": {},
   "outputs": [
    {
     "name": "stdout",
     "output_type": "stream",
     "text": [
      "[[1. 0. 0. 0.]\n",
      " [0. 1. 0. 0.]\n",
      " [0. 0. 1. 0.]\n",
      " [0. 0. 0. 1.]]\n"
     ]
    }
   ],
   "source": [
    "I = np.eye(4)\n",
    "print(I)"
   ]
  },
  {
   "cell_type": "code",
   "execution_count": 35,
   "id": "f47c79ff-e317-4957-8933-858ac88efa6f",
   "metadata": {},
   "outputs": [
    {
     "name": "stdout",
     "output_type": "stream",
     "text": [
      "[[[1 2 3]\n",
      "  [4 5 6]\n",
      "  [7 8 9]]]\n",
      "[[[1 4 5]\n",
      "  [3 4 5]\n",
      "  [6 7 8]]]\n"
     ]
    }
   ],
   "source": [
    "x = np.array([[[1,2,3],[4,5,6],[7,8,9]]])\n",
    "y = np.array([[[1,4,5],[3,4,5],[6,7,8]]])\n",
    "print(x)\n",
    "print(y)"
   ]
  },
  {
   "cell_type": "code",
   "execution_count": 36,
   "id": "6ac32d7e-87c9-4f82-956f-0a336bd303da",
   "metadata": {},
   "outputs": [
    {
     "name": "stdout",
     "output_type": "stream",
     "text": [
      "x+y\n",
      " [[[ 2  6  8]\n",
      "  [ 7  9 11]\n",
      "  [13 15 17]]]\n",
      "x-y\n",
      " [[[ 0 -2 -2]\n",
      "  [ 1  1  1]\n",
      "  [ 1  1  1]]]\n"
     ]
    }
   ],
   "source": [
    "print(\"x+y\\n\",x+y)\n",
    "print(\"x-y\\n\",x-y)"
   ]
  },
  {
   "cell_type": "code",
   "execution_count": 37,
   "id": "64211509-bc7b-4d34-8c2a-82dc1f14bcae",
   "metadata": {},
   "outputs": [
    {
     "name": "stdout",
     "output_type": "stream",
     "text": [
      "x*y\n",
      " [[[ 1  8 15]\n",
      "  [12 20 30]\n",
      "  [42 56 72]]]\n"
     ]
    }
   ],
   "source": [
    "print(\"x*y\\n\",x*y)"
   ]
  },
  {
   "cell_type": "code",
   "execution_count": 38,
   "id": "87c68268-4b37-4b8b-ba51-ffc67d7c7094",
   "metadata": {},
   "outputs": [
    {
     "name": "stdout",
     "output_type": "stream",
     "text": [
      "[[[ 25  33  39]\n",
      "  [ 55  78  93]\n",
      "  [ 85 123 147]]]\n"
     ]
    }
   ],
   "source": [
    "print(x@y)"
   ]
  },
  {
   "cell_type": "code",
   "execution_count": 39,
   "id": "14dab734-78cf-44aa-9c99-f8637c28e791",
   "metadata": {},
   "outputs": [
    {
     "name": "stdout",
     "output_type": "stream",
     "text": [
      "(1, 3, 3)\n",
      "(1, 3, 3)\n"
     ]
    }
   ],
   "source": [
    "print(x.shape)\n",
    "print(y.shape)"
   ]
  },
  {
   "cell_type": "code",
   "execution_count": 40,
   "id": "d51d0c24-1ca8-4a1c-974b-d7e02fe999a2",
   "metadata": {},
   "outputs": [
    {
     "name": "stdout",
     "output_type": "stream",
     "text": [
      "[[[1]\n",
      "  [4]\n",
      "  [7]]\n",
      "\n",
      " [[2]\n",
      "  [5]\n",
      "  [8]]\n",
      "\n",
      " [[3]\n",
      "  [6]\n",
      "  [9]]]\n"
     ]
    }
   ],
   "source": [
    "print(x.T)"
   ]
  },
  {
   "cell_type": "markdown",
   "id": "b03fffdb-ac66-4d23-a1a5-b41c3fb677cc",
   "metadata": {},
   "source": [
    "# inverse of  matrix"
   ]
  },
  {
   "cell_type": "code",
   "execution_count": 42,
   "id": "75c2855f-9604-47bf-9acd-e9ff269116b2",
   "metadata": {},
   "outputs": [
    {
     "name": "stdout",
     "output_type": "stream",
     "text": [
      "[[-2.   1. ]\n",
      " [ 1.5 -0.5]]\n",
      "[[1 2]\n",
      " [3 4]]\n"
     ]
    }
   ],
   "source": [
    "a_inv = np.linalg.inv(a)\n",
    "print(a_inv)\n",
    "print(a)"
   ]
  },
  {
   "cell_type": "code",
   "execution_count": 43,
   "id": "4c1b5c49-c956-48d2-bd88-af197ff3bdbd",
   "metadata": {},
   "outputs": [
    {
     "name": "stdout",
     "output_type": "stream",
     "text": [
      "[[-4.   3. ]\n",
      " [ 3.5 -2.5]]\n",
      "[[5 6]\n",
      " [7 8]]\n"
     ]
    }
   ],
   "source": [
    "b_inv = np.linalg.inv(b)\n",
    "print(b_inv)\n",
    "print(b)"
   ]
  },
  {
   "cell_type": "markdown",
   "id": "6cf9ce34-0b52-4418-b333-4c2b502c9761",
   "metadata": {},
   "source": [
    "# verify a*a-1=eye(I) identity"
   ]
  },
  {
   "cell_type": "code",
   "execution_count": 44,
   "id": "3b048815-5687-4439-ad61-7173b2d8a5e9",
   "metadata": {},
   "outputs": [
    {
     "name": "stdout",
     "output_type": "stream",
     "text": [
      "[[1. 0.]\n",
      " [0. 1.]]\n"
     ]
    }
   ],
   "source": [
    "print(np.round(a@a_inv))"
   ]
  },
  {
   "cell_type": "code",
   "execution_count": 46,
   "id": "502fbfa5-5443-417c-b63e-baa786e97896",
   "metadata": {},
   "outputs": [],
   "source": [
    "# determiant of matrix"
   ]
  },
  {
   "cell_type": "code",
   "execution_count": 47,
   "id": "9deaf368-0a6e-44bb-b86c-f7bf6924a989",
   "metadata": {},
   "outputs": [
    {
     "name": "stdout",
     "output_type": "stream",
     "text": [
      "-2.0000000000000004\n"
     ]
    }
   ],
   "source": [
    "det_a = np.linalg.det(a)\n",
    "print(det_a)"
   ]
  },
  {
   "cell_type": "code",
   "execution_count": 49,
   "id": "30deb892-0030-4955-9ec6-5dc099beae8d",
   "metadata": {},
   "outputs": [
    {
     "name": "stdout",
     "output_type": "stream",
     "text": [
      "[0.]\n",
      "[[[1 2 3]\n",
      "  [4 5 6]\n",
      "  [7 8 9]]]\n"
     ]
    }
   ],
   "source": [
    "det_x = np.linalg.det(x)\n",
    "print(det_x)\n",
    "print(x)"
   ]
  },
  {
   "cell_type": "markdown",
   "id": "358d3483-995c-4974-a927-1804ef107def",
   "metadata": {},
   "source": [
    "# eigen values and eigen vectors"
   ]
  },
  {
   "cell_type": "code",
   "execution_count": 51,
   "id": "3d48d142-1f88-46fb-9d3e-7bf557ff3fa3",
   "metadata": {},
   "outputs": [
    {
     "name": "stdout",
     "output_type": "stream",
     "text": [
      "[[1 2]\n",
      " [3 4]]\n",
      "e_values [-0.37228132  5.37228132]\n",
      "e_vectors [[-0.82456484 -0.41597356]\n",
      " [ 0.56576746 -0.90937671]]\n"
     ]
    }
   ],
   "source": [
    "print(a)\n",
    "eig_vals,eig_vecs = np.linalg.eig(a)\n",
    "print(\"e_values\",eig_vals)\n",
    "print(\"e_vectors\",eig_vecs)\n"
   ]
  },
  {
   "cell_type": "code",
   "execution_count": 52,
   "id": "cbf712ca-d358-4e85-b546-2e8f53f4d248",
   "metadata": {},
   "outputs": [],
   "source": [
    "# Iris Flower"
   ]
  },
  {
   "cell_type": "code",
   "execution_count": null,
   "id": "c66ae0ec-f47d-4fb5-832d-3a80877f8223",
   "metadata": {},
   "outputs": [],
   "source": []
  }
 ],
 "metadata": {
  "kernelspec": {
   "display_name": "Python 3 (ipykernel)",
   "language": "python",
   "name": "python3"
  },
  "language_info": {
   "codemirror_mode": {
    "name": "ipython",
    "version": 3
   },
   "file_extension": ".py",
   "mimetype": "text/x-python",
   "name": "python",
   "nbconvert_exporter": "python",
   "pygments_lexer": "ipython3",
   "version": "3.13.5"
  }
 },
 "nbformat": 4,
 "nbformat_minor": 5
}
