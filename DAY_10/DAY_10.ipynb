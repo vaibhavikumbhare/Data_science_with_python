{
 "cells": [
  {
   "cell_type": "markdown",
   "id": "97b38ea3-7ce3-4865-8e4a-ffcd86da5dd7",
   "metadata": {},
   "source": [
    "# Linear algebra  with machine learing"
   ]
  },
  {
   "cell_type": "markdown",
   "id": "6ef69209-a597-433b-bdca-332dcecb2ef7",
   "metadata": {},
   "source": [
    "#### vectors and dot products"
   ]
  },
  {
   "cell_type": "code",
   "execution_count": 2,
   "id": "7e345bca-d08b-480a-bf46-6cc7474ef1e5",
   "metadata": {},
   "outputs": [],
   "source": [
    "import numpy as np"
   ]
  },
  {
   "cell_type": "code",
   "execution_count": 7,
   "id": "f8038d5e-e3bf-46e4-9969-3eaab5e8a429",
   "metadata": {},
   "outputs": [
    {
     "name": "stdout",
     "output_type": "stream",
     "text": [
      "32\n"
     ]
    }
   ],
   "source": [
    "# vectors and dot product\n",
    "array1 = np.array([1,2,3])\n",
    "array2 =np.array([4,5,6])\n",
    "print(np.dot(array1,array2))"
   ]
  },
  {
   "cell_type": "markdown",
   "id": "1627b4cc-220b-4cb2-a021-357d05450ae4",
   "metadata": {},
   "source": [
    "#### matrices and operations (2D)\n"
   ]
  },
  {
   "cell_type": "code",
   "execution_count": 20,
   "id": "acab4524-e2dc-4bdb-983e-58b47528cfb9",
   "metadata": {},
   "outputs": [
    {
     "name": "stdout",
     "output_type": "stream",
     "text": [
      "[[1 2]\n",
      " [3 4]]\n",
      "[[5 6]\n",
      " [7 8]]\n"
     ]
    }
   ],
   "source": [
    "a = np.array([[1,2],[3,4]])\n",
    "b = np.array([[5,6],[7,8]])\n",
    "print(a)\n",
    "print(b)\n"
   ]
  },
  {
   "cell_type": "code",
   "execution_count": 22,
   "id": "dec2a59b-ef08-4347-bea9-9c03b21998ff",
   "metadata": {},
   "outputs": [
    {
     "name": "stdout",
     "output_type": "stream",
     "text": [
      "[[1 2 3]\n",
      " [0 1 4]\n",
      " [5 6 0]]\n",
      "[[10 11 12]\n",
      " [13 14 15]\n",
      " [16 17 18]]\n"
     ]
    }
   ],
   "source": [
    "c = np.array([[1,2,3],[0,1,4],[5,6,0]])\n",
    "d = np.array([[10,11,12],[13,14,15],[16,17,18]])\n",
    "print(c)\n",
    "print(d)"
   ]
  },
  {
   "cell_type": "markdown",
   "id": "e0e9dd4a-93d5-4426-9066-851ed11903e4",
   "metadata": {},
   "source": [
    "#### Addition and sub of matrix (2D)"
   ]
  },
  {
   "cell_type": "code",
   "execution_count": 23,
   "id": "43154682-7d57-4e51-8f00-049d20b9d898",
   "metadata": {},
   "outputs": [
    {
     "name": "stdout",
     "output_type": "stream",
     "text": [
      "a+b\n",
      " [[ 6  8]\n",
      " [10 12]]\n",
      "a-b\n",
      " [[-4 -4]\n",
      " [-4 -4]]\n"
     ]
    }
   ],
   "source": [
    "print(\"a+b\\n\",a+b)\n",
    "print(\"a-b\\n\",a-b)"
   ]
  },
  {
   "cell_type": "markdown",
   "id": "b88a92dd-e1cd-402c-95b6-c67cab2afd71",
   "metadata": {},
   "source": [
    "#### Addition and sub of matrix (3D)"
   ]
  },
  {
   "cell_type": "code",
   "execution_count": 24,
   "id": "4e1406ff-1016-4413-8c6f-476b5087c94c",
   "metadata": {},
   "outputs": [
    {
     "name": "stdout",
     "output_type": "stream",
     "text": [
      "c+d\n",
      " [[11 13 15]\n",
      " [13 15 19]\n",
      " [21 23 18]]\n",
      "c-d\n",
      " [[ -9  -9  -9]\n",
      " [-13 -13 -11]\n",
      " [-11 -11 -18]]\n"
     ]
    }
   ],
   "source": [
    "print(\"c+d\\n\",c+d)\n",
    "print(\"c-d\\n\",c-d)"
   ]
  },
  {
   "cell_type": "code",
   "execution_count": null,
   "id": "a350198e-1335-4e1d-bf60-10226763b006",
   "metadata": {},
   "outputs": [],
   "source": []
  }
 ],
 "metadata": {
  "kernelspec": {
   "display_name": "Python 3 (ipykernel)",
   "language": "python",
   "name": "python3"
  },
  "language_info": {
   "codemirror_mode": {
    "name": "ipython",
    "version": 3
   },
   "file_extension": ".py",
   "mimetype": "text/x-python",
   "name": "python",
   "nbconvert_exporter": "python",
   "pygments_lexer": "ipython3",
   "version": "3.13.5"
  }
 },
 "nbformat": 4,
 "nbformat_minor": 5
}
