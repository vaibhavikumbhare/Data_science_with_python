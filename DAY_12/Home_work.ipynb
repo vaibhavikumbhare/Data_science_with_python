{
 "cells": [
  {
   "cell_type": "markdown",
   "id": "44af1787-f4ed-4d41-b14d-132147dc521b",
   "metadata": {},
   "source": [
    "#### Group the above Dataframe by Depart and:\n",
    "#### 1.count the  number of employees\n",
    "#### 2 find avg salary\n",
    "#### show max age\n",
    "#### sort the result by avg sal descending"
   ]
  },
  {
   "cell_type": "code",
   "execution_count": 4,
   "id": "d5dbd27c-ceee-4797-a804-10612acd1c0f",
   "metadata": {},
   "outputs": [],
   "source": [
    "import pandas as pd"
   ]
  },
  {
   "cell_type": "code",
   "execution_count": 5,
   "id": "ec6c707b-903f-407f-9364-fdf5814df064",
   "metadata": {},
   "outputs": [
    {
     "name": "stdout",
     "output_type": "stream",
     "text": [
      "    Emp_Name  Emp_Age  Emp_salary Deptr\n",
      "0   Vaibhavi       25       60000    IT\n",
      "1  Vaishnavi       30       90000   CSE\n",
      "2      komal       22       20000    CE\n",
      "3      pooja       28       47000   CSE\n"
     ]
    }
   ],
   "source": [
    "Dept = {\n",
    "    'Emp_Name': ['Vaibhavi', 'Vaishnavi', 'komal', 'pooja'],\n",
    "    'Emp_Age': [25, 30, 22, 28],\n",
    "    'Emp_salary': [60000,90000,20000,47000],\n",
    "    'Deptr':['IT','CSE','CE','CSE']\n",
    "}\n",
    "df = pd.DataFrame(Dept)\n",
    "print(df)"
   ]
  },
  {
   "cell_type": "code",
   "execution_count": 9,
   "id": "2eb3d1ce-6917-45b6-8272-b954e67cd4a7",
   "metadata": {},
   "outputs": [
    {
     "name": "stdout",
     "output_type": "stream",
     "text": [
      "Deptr\n",
      "CE     1\n",
      "CSE    2\n",
      "IT     1\n",
      "Name: Emp_Name, dtype: int64\n"
     ]
    }
   ],
   "source": [
    "count_name = df.groupby('Deptr')['Emp_Name'].count()\n",
    "print(count_name)"
   ]
  },
  {
   "cell_type": "code",
   "execution_count": 14,
   "id": "c9b2c51a-3ca9-4c86-95a8-f8941aeec64c",
   "metadata": {},
   "outputs": [
    {
     "name": "stdout",
     "output_type": "stream",
     "text": [
      "54250.0\n"
     ]
    }
   ],
   "source": [
    "sal = df['Emp_salary'].mean()\n",
    "print(sal)"
   ]
  },
  {
   "cell_type": "code",
   "execution_count": 13,
   "id": "629190ac-e2e2-4e04-bf23-07a45c3435ad",
   "metadata": {},
   "outputs": [
    {
     "name": "stdout",
     "output_type": "stream",
     "text": [
      "30\n"
     ]
    }
   ],
   "source": [
    "max = df['Emp_Age'].max()\n",
    "print(max)"
   ]
  },
  {
   "cell_type": "code",
   "execution_count": null,
   "id": "d7f5487d-960d-48c4-b5ce-09aa33b9f4ba",
   "metadata": {},
   "outputs": [],
   "source": []
  }
 ],
 "metadata": {
  "kernelspec": {
   "display_name": "Python 3 (ipykernel)",
   "language": "python",
   "name": "python3"
  },
  "language_info": {
   "codemirror_mode": {
    "name": "ipython",
    "version": 3
   },
   "file_extension": ".py",
   "mimetype": "text/x-python",
   "name": "python",
   "nbconvert_exporter": "python",
   "pygments_lexer": "ipython3",
   "version": "3.13.5"
  }
 },
 "nbformat": 4,
 "nbformat_minor": 5
}
