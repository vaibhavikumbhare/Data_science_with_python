{
 "cells": [
  {
   "cell_type": "code",
   "execution_count": null,
   "id": "89616abf-9579-4038-a924-6b3a16d0bb52",
   "metadata": {},
   "outputs": [],
   "source": [
    "# Table Genator"
   ]
  },
  {
   "cell_type": "code",
   "execution_count": 1,
   "id": "6308f143-0bea-430b-b3f1-458882e0ce8b",
   "metadata": {
    "scrolled": true
   },
   "outputs": [
    {
     "name": "stdin",
     "output_type": "stream",
     "text": [
      "Enter number: 45\n"
     ]
    },
    {
     "name": "stdout",
     "output_type": "stream",
     "text": [
      "45 X 1 = 45\n",
      "45 X 2 = 90\n",
      "45 X 3 = 135\n",
      "45 X 4 = 180\n",
      "45 X 5 = 225\n",
      "45 X 6 = 270\n",
      "45 X 7 = 315\n",
      "45 X 8 = 360\n",
      "45 X 9 = 405\n",
      "45 X 10 = 450\n"
     ]
    }
   ],
   "source": [
    "num = int(input(\"Enter number:\"))\n",
    "\n",
    "for i in range(1, 11):\n",
    "    print(num, \"X\", i, \"=\", num*i)"
   ]
  },
  {
   "cell_type": "code",
   "execution_count": null,
   "id": "3734fa5e-f2ee-4cba-b2b3-3f04f6bbce9c",
   "metadata": {},
   "outputs": [],
   "source": []
  },
  {
   "cell_type": "code",
   "execution_count": null,
   "id": "4ea4f11b-0be4-49b9-a846-d83eea06cc56",
   "metadata": {},
   "outputs": [],
   "source": []
  }
 ],
 "metadata": {
  "kernelspec": {
   "display_name": "Python 3 (ipykernel)",
   "language": "python",
   "name": "python3"
  },
  "language_info": {
   "codemirror_mode": {
    "name": "ipython",
    "version": 3
   },
   "file_extension": ".py",
   "mimetype": "text/x-python",
   "name": "python",
   "nbconvert_exporter": "python",
   "pygments_lexer": "ipython3",
   "version": "3.13.5"
  }
 },
 "nbformat": 4,
 "nbformat_minor": 5
}
