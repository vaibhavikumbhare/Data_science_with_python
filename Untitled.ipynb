{
 "cells": [
  {
   "cell_type": "code",
   "execution_count": null,
   "id": "5f014e8d-773d-42c1-8e2e-a7964e40f481",
   "metadata": {},
   "outputs": [],
   "source": []
  }
 ],
 "metadata": {
  "kernelspec": {
   "display_name": "",
   "name": ""
  },
  "language_info": {
   "name": ""
  }
 },
 "nbformat": 4,
 "nbformat_minor": 5
}
