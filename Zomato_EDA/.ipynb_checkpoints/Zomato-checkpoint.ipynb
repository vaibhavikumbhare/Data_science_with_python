{
 "cells": [
  {
   "cell_type": "markdown",
   "id": "0b4b3e5b-232e-4b59-85d8-7f6d64935dc7",
   "metadata": {},
   "source": [
    "# EDA Tutorial - Indian Restaurants¶\n",
    " ## Introduction\n",
    " Exploratory Data Analysis (EDA) is a preliminary step of Machine Learning and is used extensively in this field. Although it is not necessary to perform EDA to build models, but it is definitely recommended as it helps to know the data better. If performed correctly, it gives us insights which are not easy to witness directly.\n",
    "\n",
    "In this notebook, I have performed a detailed analysis on Indian Restaurants Dataset from Zomato(link). This notebook can be used as a manual to perform basic to intermediate EDA on any dataset. Following are the things that you will learn from this project :-\n",
    "\n",
    "- 1. Knowing basic composition of data\n",
    "- 2. Removing duplicates\n",
    "- 3. Dealing with missing values\n",
    "- 4. Understanding features\n",
    "- 5. Plotting horizontal bar charts (multicolor)\n",
    "- 6. Using groupby, apply, and unique functions\n",
    "- 7. Scatter plot\n",
    "- 8. Word Cloud\n",
    "- 9. Box plot\n",
    "- 10. Density plot\n",
    "- 11. Bar Charts\n",
    "- 12. Drawing insights and conclusions from data\n",
    "\n",
    "Don't forget to upvote if you find this useful! :)\n",
    "\n",
    " So without further ado, let's get started!\n",
    "\n",
    "## Project outline\n",
    "- Importing\n",
    "- Preprocessing\n",
    "  - Exploring data\n",
    "  - Removing duplicates\n",
    "  - Dealing with missing values\n",
    "  - Omitting not useful features\n",
    "- EDA\n",
    "  - Restaurant Chains\n",
    "    - Chains vs Outlets\n",
    "    - Top Restaurant Chains (by number of outlets)\n",
    "    - Top Restaurant Chains (by average ratings)\n",
    "  - Establishment Types\n",
    "    - Number of Restaurants\n",
    "    - Average Rating, Votes, and Photo count\n",
    "  - Cities\n",
    "    - Number of Restaurants\n",
    "    - Average Rating, Votes, and Photo count\n",
    "  - Cuisine\n",
    "    - Total number of unique cuisines\n",
    "    - Number of Restaurants\n",
    "    - Highest rated cuisines\n",
    "  - Highlights\n",
    "    - Number of Restaurants\n",
    "    - Highest rated features\n",
    "    - Highlights wordcloud\n",
    " - Rating and Cost\n",
    "      - Rating Distribution\n",
    "        - Average Cost for two distribution\n",
    "        - Price range count\n",
    "        - Relation between Average price for two and Rating\n",
    "        - Relation between Price Range and Rating\n",
    "        - Relation between Votes and Rating\n",
    "- Conclusions\n",
    "  ### Importing necessary libraries"
   ]
  },
  {
   "cell_type": "code",
   "execution_count": null,
   "id": "9fa9cd3c-dc73-4579-b732-819cd1580ba5",
   "metadata": {},
   "outputs": [],
   "source": [
    "import numpy as np\n",
    "import pandas as pd\n",
    "import matplotlib.pyplot as plt\n",
    "import matplotlib.cm as cm\n",
    "import seaborn as sns\n",
    "import random\n",
    "from wordcloud import WordCloud"
   ]
  },
  {
   "cell_type": "markdown",
   "id": "7de437f0-2c95-487c-82ac-4a55a2c86ac9",
   "metadata": {},
   "source": [
    "#### Preprocessing\n",
    "#### Exploring data"
   ]
  },
  {
   "cell_type": "code",
   "execution_count": null,
   "id": "655e77f5-4542-4322-935c-79e40ef095a2",
   "metadata": {},
   "outputs": [],
   "source": [
    "data = pd.read_csv(\"zomato_restaurants_in_India.csv\")"
   ]
  },
  {
   "cell_type": "code",
   "execution_count": null,
   "id": "46b03c0c-57da-43c3-9fd9-c4af07ecca54",
   "metadata": {},
   "outputs": [],
   "source": [
    "data.head()"
   ]
  },
  {
   "cell_type": "code",
   "execution_count": null,
   "id": "437b0f83-5f8b-4347-abf1-6c412ef423fc",
   "metadata": {},
   "outputs": [],
   "source": [
    "data.tail()"
   ]
  },
  {
   "cell_type": "code",
   "execution_count": null,
   "id": "6b191eca-69cf-4e92-80d8-422f271790fa",
   "metadata": {},
   "outputs": [],
   "source": [
    "data.city.nunique()"
   ]
  },
  {
   "cell_type": "code",
   "execution_count": null,
   "id": "b22e5370-4a5c-453f-8f74-5b692209cac3",
   "metadata": {},
   "outputs": [],
   "source": [
    "data.city.unique()"
   ]
  },
  {
   "cell_type": "code",
   "execution_count": null,
   "id": "75ecf9ba-e356-4710-b09b-b4a113ab2ae4",
   "metadata": {},
   "outputs": [],
   "source": [
    "data[data[\"city\"]==\"Mumbai\"]"
   ]
  },
  {
   "cell_type": "code",
   "execution_count": null,
   "id": "b84d9a67-20bc-4531-bba2-166e3c4fa7a9",
   "metadata": {},
   "outputs": [],
   "source": [
    "data[data[\"city\"]==\"New Delhi\"]"
   ]
  },
  {
   "cell_type": "code",
   "execution_count": null,
   "id": "6a15ecf5-c40c-41dd-895b-9c7c6c71f70e",
   "metadata": {},
   "outputs": [],
   "source": [
    "data[data[\"city\"]==\"Pune\"]"
   ]
  },
  {
   "cell_type": "code",
   "execution_count": null,
   "id": "0f4390c8-6c7d-4acd-9fb3-42de81da2a65",
   "metadata": {},
   "outputs": [],
   "source": [
    "data.shape"
   ]
  },
  {
   "cell_type": "code",
   "execution_count": null,
   "id": "98ddb081-0951-455e-b151-0f524fcd1e41",
   "metadata": {},
   "outputs": [],
   "source": [
    "data.info()"
   ]
  },
  {
   "cell_type": "code",
   "execution_count": null,
   "id": "017e7c7d-2c1e-45a4-8596-16bfa8c916ba",
   "metadata": {},
   "outputs": [],
   "source": [
    "data[data[\"average_cost_for_two\"]==30000]"
   ]
  },
  {
   "cell_type": "code",
   "execution_count": null,
   "id": "75ed5aac-de22-4762-a695-e684b3dc48f6",
   "metadata": {},
   "outputs": [],
   "source": []
  },
  {
   "cell_type": "code",
   "execution_count": null,
   "id": "df656fcb-5fa5-4609-9acc-a4881e83d1d2",
   "metadata": {},
   "outputs": [],
   "source": [
    "data.describe()"
   ]
  },
  {
   "cell_type": "markdown",
   "id": "a5e3f7e9-02e8-4209-abc6-4305f00a6b66",
   "metadata": {},
   "source": [
    "#### Removing duplicates¶\n",
    "#### Its important to remove duplicate rows to avoid biasness in our analysis. Since res_id is unique identifier of our restaurants, we can use it to remove duplicates."
   ]
  },
  {
   "cell_type": "code",
   "execution_count": null,
   "id": "eafc3de4-d40e-4e09-98e0-d3ad65dc22cf",
   "metadata": {},
   "outputs": [],
   "source": [
    "data.head()"
   ]
  },
  {
   "cell_type": "code",
   "execution_count": null,
   "id": "0376c111-daec-4cfd-87a7-d349f63af3b6",
   "metadata": {},
   "outputs": [],
   "source": [
    "data.drop_duplicates([\"res_id\"],keep='first',inplace=True)\n",
    "data.shape"
   ]
  },
  {
   "cell_type": "markdown",
   "id": "74dadcfe-e557-4901-8163-b6973c329858",
   "metadata": {},
   "source": [
    "# Oops! Looks like almost 75% of our data had duplicate rows. Its good that we got that out before getting started. Even though we are left with 1/4th of our original dataset, about 55000+ restaurants is still good enough to perform analysis.\n",
    "\n",
    " Dealing with missing values\n",
    " \n",
    " Now let's see how many variables have missing values.\n"
   ]
  },
  {
   "cell_type": "code",
   "execution_count": null,
   "id": "318e5dc2-3194-4563-a9c7-731cfac7c104",
   "metadata": {},
   "outputs": [],
   "source": [
    "data.isnull().sum()"
   ]
  },
  {
   "cell_type": "markdown",
   "id": "aa48889b-4641-4cb9-90af-ec956ceb7ce9",
   "metadata": {},
   "source": [
    "#  We have 5 variables with some kind of missing values. Since zipcode has ~80% missing data, its better to not consider it at all. The other 4 features can be delt with some kind of imputation, but before going through the trouble, its better to look and decide whether they would be beneficial for our analysis or we can simply omit them.\n",
    "\n",
    "#### Omitting not useful features\n",
    "#### Here we will look at each feature and decide to consider them for our analysis or not:-\n",
    "\n",
    "  1.  res_id - Unique ID for each restaurant\n",
    "  2. name - Name is useful since we will use it to find top restaurants\n",
    "  3. Establishment - Let's see what type of values we have in establishment"
   ]
  },
  {
   "cell_type": "code",
   "execution_count": null,
   "id": "515574f6-4131-4172-96ce-6a17611d2612",
   "metadata": {},
   "outputs": [],
   "source": [
    "data[\"establishment\"].unique()"
   ]
  },
  {
   "cell_type": "code",
   "execution_count": null,
   "id": "dc1c4aad-ac6f-4c84-a4f6-cefb4dfd3fd1",
   "metadata": {},
   "outputs": [],
   "source": [
    "print(data[\"establishment\"].unique()[0])\n",
    "print(type(data[\"establishment\"].unique()[0]))"
   ]
  },
  {
   "cell_type": "markdown",
   "id": "d2955a29-a692-4e95-9eac-913df9f0f9e6",
   "metadata": {},
   "source": [
    "# Establishment looks like a nice feature to perform EDA, however each value has an unwanted square brackets and quotes which seems noisy. Let's remove them with apply( ) function. Also, we have one value which is an empty string, let's rename it to \"NA\" to avoid confusion."
   ]
  },
  {
   "cell_type": "code",
   "execution_count": null,
   "id": "76b57b78-0c84-4a2e-a14d-e6390beec2e6",
   "metadata": {},
   "outputs": [],
   "source": [
    "# Removing [' '] from each value\n",
    "print(data[\"establishment\"].unique()[0])\n",
    "data[\"establishment\"] = data[\"establishment\"].apply(lambda x:x[2:-2])\n",
    "print(data[\"establishment\"].unique()[0])\n",
    "\n",
    "# Changing ''  to 'NA'\n",
    "print(data[\"establishment\"].unique())\n",
    "data[\"establishment\"] = data[\"establishment\"].apply(lambda x : np.where(x==\"\", \"NA\", x))\n",
    "print(data[\"establishment\"].unique())"
   ]
  },
  {
   "cell_type": "markdown",
   "id": "67b2cbc1-cdeb-4a0a-915f-5c493bdb2905",
   "metadata": {},
   "source": [
    "1. url - URL is the link to restaurant's page which is not useful for us\n",
    "2. address - Not useful since it has long strings and its difficult to classify\n",
    "3. city - Let's check unique cities"
   ]
  },
  {
   "cell_type": "code",
   "execution_count": null,
   "id": "9c8c6133-5b30-49e3-803a-e67a96f68e00",
   "metadata": {},
   "outputs": [],
   "source": [
    "x=10\n",
    "y=11"
   ]
  },
  {
   "cell_type": "code",
   "execution_count": null,
   "id": "64e7a60a-bb54-44e0-96fb-99f5d6de9682",
   "metadata": {},
   "outputs": [],
   "source": [
    "x==y"
   ]
  },
  {
   "cell_type": "code",
   "execution_count": null,
   "id": "1fa8e5eb-8e83-4b19-9b37-36dfb41237ad",
   "metadata": {},
   "outputs": [],
   "source": [
    "len(data[data[\"city\"]==\"Shimla\"])"
   ]
  },
  {
   "cell_type": "code",
   "execution_count": null,
   "id": "08a548b3-5f98-4707-a992-c5ff6a44e889",
   "metadata": {},
   "outputs": [],
   "source": [
    "len(data[data[\"city\"]==\"Agra\"])"
   ]
  },
  {
   "cell_type": "code",
   "execution_count": null,
   "id": "4d5570cb-83f5-4d6c-904c-4a8cac87e104",
   "metadata": {},
   "outputs": [],
   "source": [
    "len(data[\"city\"].unique())"
   ]
  },
  {
   "cell_type": "code",
   "execution_count": null,
   "id": "b9b2b5b4-79b3-41f5-a704-bd64efc9ad04",
   "metadata": {},
   "outputs": [],
   "source": [
    "data[\"city\"].unique()"
   ]
  },
  {
   "cell_type": "code",
   "execution_count": null,
   "id": "6c9a6eb5-9c39-458a-bc20-7c5a00a21d52",
   "metadata": {},
   "outputs": [],
   "source": [
    "data[data[\"city\"]==\"Jabalpur\"]"
   ]
  },
  {
   "cell_type": "markdown",
   "id": "ef589a88-2e43-424f-b7be-cd94ae40a2d2",
   "metadata": {},
   "source": [
    "#### Look's good.\n",
    "\n",
    "##### 1. city_id - We can uniquely use city name or id. So one feature is enough\n",
    "##### 2. locality - Let's see number of unique values"
   ]
  },
  {
   "cell_type": "code",
   "execution_count": null,
   "id": "d60519e0-4d6c-4711-abb3-3e0b4b17df8c",
   "metadata": {},
   "outputs": [],
   "source": [
    "data[\"locality\"].nunique()"
   ]
  },
  {
   "cell_type": "markdown",
   "id": "05e2c4d4-d3d1-4051-87b0-5e60d413676d",
   "metadata": {},
   "source": [
    "#### Although it can be an interesting feature, but since this feature has so many unique classes, we will avoid it.\n",
    "\n",
    "1. latitude - Can be helpful while using geographic maps, but we won't be doing that here\n",
    "2. longitude - Same as above\n",
    "3. zipcode - Approx 80% missing values\n",
    "4. country_id - Since this dataset is for Indian restaurants, there should be just one unique id here. Let's check."
   ]
  },
  {
   "cell_type": "code",
   "execution_count": null,
   "id": "b0427c74-bd7f-44c2-a9ee-efbad954b2d4",
   "metadata": {},
   "outputs": [],
   "source": [
    "data[\"country_id\"].unique()"
   ]
  },
  {
   "cell_type": "markdown",
   "id": "7ca28a84-8441-4922-9d58-6bd1e5874bd2",
   "metadata": {},
   "source": [
    "1. locality_verbose - Same as locality"
   ]
  },
  {
   "cell_type": "code",
   "execution_count": null,
   "id": "c4889943-5d10-4302-9f9b-39923fcaaf0f",
   "metadata": {},
   "outputs": [],
   "source": [
    "data[\"locality_verbose\"].nunique()"
   ]
  },
  {
   "cell_type": "markdown",
   "id": "0335019f-92d0-4a6e-b055-d0933d335873",
   "metadata": {},
   "source": [
    "1. cuisines - This feature has some missing values. Even though this has 9382 unique classes, we can see that each restaurant has a list of cusinies and the composition of the list is the reason why we have so many different cuisine classes. Let's check actual number of unique cuisine classes. But first we need to replace null values with a label."
   ]
  },
  {
   "cell_type": "code",
   "execution_count": null,
   "id": "90e85973-62c3-4a04-b093-c0586ea5c0a7",
   "metadata": {},
   "outputs": [],
   "source": [
    "print(data[\"cuisines\"].nunique())\n",
    "print(data[\"cuisines\"].unique())"
   ]
  },
  {
   "cell_type": "code",
   "execution_count": null,
   "id": "2f5ee10b-251e-46d5-97f5-844563cdf84c",
   "metadata": {},
   "outputs": [],
   "source": [
    "data[\"cuisines\"] = data[\"cuisines\"].fillna(\"No cuisine\")"
   ]
  },
  {
   "cell_type": "code",
   "execution_count": null,
   "id": "38615fb8-ac5a-4d16-8343-c6c41126485d",
   "metadata": {},
   "outputs": [],
   "source": [
    "cuisines = []\n",
    "data[\"cuisines\"].apply(lambda x : cuisines.extend(x.split(\", \")))\n",
    "cuisines = pd.Series(cuisines)\n",
    "print(\"Total number of unique cuisines = \", cuisines.nunique())"
   ]
  },
  {
   "cell_type": "markdown",
   "id": "0f8775ff-bd7b-4a39-b1bc-d3807eb7d5d7",
   "metadata": {},
   "source": [
    "1. timings - This also has missing data, however it has 7740 unique classes. Also, it is not structured even if we try to reduce the number classes like we did in cuisines. Its better to omit it altogether."
   ]
  },
  {
   "cell_type": "code",
   "execution_count": null,
   "id": "dad6eaef-c33c-4a8d-9848-cc1b9011ec06",
   "metadata": {},
   "outputs": [],
   "source": [
    "print(data[\"timings\"].nunique())\n",
    "print(data[\"timings\"].unique())"
   ]
  },
  {
   "cell_type": "markdown",
   "id": "19e1590c-1724-4e4a-ad1e-699a94078c72",
   "metadata": {},
   "source": [
    "1. average_cost_for_two - This is an interesting feature for our analysis, although the value \"0\" is strange and should be an outlier"
   ]
  },
  {
   "cell_type": "code",
   "execution_count": null,
   "id": "9df58f87-a6c4-458c-a053-eb0a075ac93d",
   "metadata": {},
   "outputs": [],
   "source": [
    "data[\"average_cost_for_two\"].nunique()"
   ]
  },
  {
   "cell_type": "markdown",
   "id": "234a6a45-3fc2-48c7-b7d0-3ed28c2f31b3",
   "metadata": {},
   "source": [
    "1. price_range - Average prices automatically characterized into bins\n"
   ]
  },
  {
   "cell_type": "code",
   "execution_count": null,
   "id": "b7d9d6b8-f3cd-4dfa-8064-2987d9e623ad",
   "metadata": {},
   "outputs": [],
   "source": [
    "data[\"price_range\"].unique()"
   ]
  },
  {
   "cell_type": "markdown",
   "id": "b4ce7bc6-90ef-4877-85f5-2c338b1cfcf9",
   "metadata": {},
   "source": [
    "1. currency - Only one class. Not useful"
   ]
  },
  {
   "cell_type": "code",
   "execution_count": null,
   "id": "0b1992bb-c960-4306-9ede-7a25dc6f085b",
   "metadata": {},
   "outputs": [],
   "source": [
    "data[\"currency\"].unique()"
   ]
  },
  {
   "cell_type": "markdown",
   "id": "096a527f-3a58-4567-b376-710802f4c0e6",
   "metadata": {},
   "source": [
    "1. highlights - They represent certain features that the restaurant specializes in and wants to highlight to their customers. Each restaurant has a list of highlights which makes the composition different for each one. We can, filter this and find total unique highlights from all restaurants."
   ]
  },
  {
   "cell_type": "code",
   "execution_count": null,
   "id": "0f48d09e-922c-45fe-ab38-88d30b6d89cd",
   "metadata": {},
   "outputs": [],
   "source": [
    "print(data[\"highlights\"].nunique())\n",
    "print(data[\"highlights\"].unique())"
   ]
  },
  {
   "cell_type": "code",
   "execution_count": null,
   "id": "f5be3050-1e67-4d7b-9e44-cdd96d7fe643",
   "metadata": {},
   "outputs": [],
   "source": [
    "hl = []\n",
    "data[\"highlights\"].apply(lambda x : hl.extend(x[2:-2].split(\"', '\")))\n",
    "hl = pd.Series(hl)\n",
    "print(\"Total number of unique highlights = \", hl.nunique())"
   ]
  },
  {
   "cell_type": "markdown",
   "id": "8c7d6318-aa2c-4bad-a9cf-0e984ce52f60",
   "metadata": {},
   "source": [
    "1. aggregate_rating - Rating given to the restaurant\n",
    "2. rating_text - Characterisation of numeric rating into bins by using labels. We will be using direct ratings in our analysis, so we can ignore this.\n",
    "3. votes - Number of votes contributing to the rating\n",
    "4. photo_count - Photo uploads in reviews\n",
    "##### Let's check the mean and range of above features"
   ]
  },
  {
   "cell_type": "code",
   "execution_count": null,
   "id": "455ba587-fc62-4bee-803c-ef39a6c8af61",
   "metadata": {},
   "outputs": [],
   "source": [
    "data[[\"aggregate_rating\",\"votes\",\"photo_count\"]].describe().loc[[\"mean\",\"min\",\"max\"]]"
   ]
  },
  {
   "cell_type": "markdown",
   "id": "77bffcc3-229a-4280-b9e7-2ab721dab99a",
   "metadata": {},
   "source": [
    "#### Rating ranges between 0 and 5 while 42539 are the maximum votes given to a restaurant. The negative value in votes might be an outlier.\n",
    "1. opentable_support - Not useful since no restaurant has True value for this\n",
    "2. delivery - This feature has 3 classes but there is no explanation for those classes. We can  consider -1 and 0 to be one class or ignore this feature for now\n",
    "3. takeaway - Again not useful since it only has one class\n"
   ]
  },
  {
   "cell_type": "code",
   "execution_count": null,
   "id": "3fef3cf5-5d7a-4d6d-b011-f5fe7cea1ce7",
   "metadata": {},
   "outputs": [],
   "source": [
    "data[\"opentable_support\"].unique()"
   ]
  },
  {
   "cell_type": "code",
   "execution_count": null,
   "id": "0cca8eef-0e14-487e-a55a-34636d91c0a2",
   "metadata": {},
   "outputs": [],
   "source": [
    "data[\"delivery\"].unique()"
   ]
  },
  {
   "cell_type": "code",
   "execution_count": null,
   "id": "f4ef7f28-52f8-491e-a768-e17a23a61135",
   "metadata": {},
   "outputs": [],
   "source": [
    "data[\"takeaway\"].unique()"
   ]
  },
  {
   "cell_type": "markdown",
   "id": "af034588-c05a-4da0-aec9-85e89fbbe44f",
   "metadata": {},
   "source": [
    "#### Now that we have taken a deep look at our data, let's start with some EDA!"
   ]
  },
  {
   "cell_type": "markdown",
   "id": "55fd5174-6e0a-4013-9b13-a92c949eeda3",
   "metadata": {},
   "source": [
    "### Exploratory Data Analysis (EDA)¶\n",
    "#### Restaurant chains\n",
    "##### Here chains represent restaurants with more than one outlet\n",
    "\n",
    "##### Chains vs Outlets"
   ]
  },
  {
   "cell_type": "code",
   "execution_count": null,
   "id": "6b480673-a049-4dff-8dd3-f8220be94887",
   "metadata": {},
   "outputs": [],
   "source": [
    "outlets = data[\"name\"].value_counts()"
   ]
  },
  {
   "cell_type": "code",
   "execution_count": null,
   "id": "2519f2bf-7d14-458e-a837-46462e715a02",
   "metadata": {},
   "outputs": [],
   "source": [
    "outlets"
   ]
  },
  {
   "cell_type": "code",
   "execution_count": null,
   "id": "7182d5d9-34f2-419e-b777-d57534c0a1c4",
   "metadata": {},
   "outputs": [],
   "source": [
    "chains = outlets[outlets >= 2]\n",
    "single = outlets[outlets == 1]"
   ]
  },
  {
   "cell_type": "code",
   "execution_count": null,
   "id": "70c8be33-825c-4ea9-8b13-2fb2f6cbbd8f",
   "metadata": {},
   "outputs": [],
   "source": [
    "data.shape"
   ]
  },
  {
   "cell_type": "code",
   "execution_count": null,
   "id": "18be3dbd-8961-4078-b622-c5bea724ea08",
   "metadata": {},
   "outputs": [],
   "source": [
    "chains"
   ]
  },
  {
   "cell_type": "code",
   "execution_count": null,
   "id": "4d8c6ecb-4c40-4c9e-8f7a-022c5e05c4af",
   "metadata": {},
   "outputs": [],
   "source": [
    "print(\"Total Restaurants = \", data.shape[0])\n",
    "print(\"Total Restaurants that are part of some chain = \", data.shape[0] - single.shape[0])\n",
    "print(\"Percentage of Restaurants that are part of a chain = \", np.round((data.shape[0] - single.shape[0]) / data.shape[0],2)*100, \"%\")"
   ]
  },
  {
   "cell_type": "markdown",
   "id": "45e7eeba-db1b-45de-9824-3f940c1dde25",
   "metadata": {},
   "source": [
    "### 35% of total restaurants are part of some kind of restaurant chain. Here, we should account for cases where two different retaurants might have exact same name but are not related to each other.\n",
    "\n",
    "#### Top restaurant chains (by number of outlets)\n",
    "#### Let's plot a horizontal bar graph to look at Top 10 restaurant chains. For the color scheme, we are using a list of pre-defined and selected colours to make the chart more appealing. If you want your analysis to look good visually, you should customize each and every element of your graph."
   ]
  },
  {
   "cell_type": "code",
   "execution_count": null,
   "id": "7ca3ae60-a1f8-41d6-a705-e5b273a92029",
   "metadata": {},
   "outputs": [],
   "source": [
    "chains.head(10)"
   ]
  },
  {
   "cell_type": "code",
   "execution_count": null,
   "id": "2bfa01c2-1273-4da1-8621-c656f1256191",
   "metadata": {},
   "outputs": [],
   "source": [
    "top10_chains = data[\"name\"].value_counts()[:10].sort_values(ascending=True)"
   ]
  },
  {
   "cell_type": "code",
   "execution_count": null,
   "id": "595b6387-350c-4627-807e-054f32908af3",
   "metadata": {},
   "outputs": [],
   "source": [
    "height = top10_chains.values\n",
    "bars = top10_chains.index\n",
    "y_pos = np.arange(len(bars))\n",
    "\n",
    "fig = plt.figure(figsize=[11,7], frameon=False)\n",
    "ax = fig.gca()\n",
    "ax.spines[\"top\"].set_visible(\"#424242\")\n",
    "ax.spines[\"right\"].set_visible(False)\n",
    "ax.spines[\"left\"].set_color(\"#424242\")\n",
    "ax.spines[\"bottom\"].set_color(\"#424242\")\n",
    "\n",
    "#colors = [\"green\",\"blue\",\"magenta\",\"cyan\",\"gray\",\"yellow\",\"purple\",\"violet\",\"orange\",\"red\",\"maroon\"]\n",
    "#random.shuffle(colors)\n",
    "colors = [\"#f9cdac\",\"#f2a49f\",\"#ec7c92\",\"#e65586\",\"#bc438b\",\"#933291\",\"#692398\",\"#551c7b\",\"#41155e\",\"#2d0f41\"]\n",
    "plt.barh(y_pos, height, color=colors)\n",
    " \n",
    "plt.xticks(color=\"#424242\")\n",
    "\n",
    "plt.yticks(y_pos, bars, color=\"#424242\")\n",
    "plt.xlabel(\"Number of outlets in India\")\n",
    "\n",
    "for i, v in enumerate(height):\n",
    "    ax.text(v+3, i, str(v), color='#424242')\n",
    "plt.title(\"Top 10 Restaurant chain in India (by number of outlets)\")\n",
    "\n",
    "\n",
    "plt.show()"
   ]
  },
  {
   "cell_type": "markdown",
   "id": "657a4d0b-761e-4305-8c49-b961d6fbab4d",
   "metadata": {},
   "source": [
    "#### This chart is majorly dominaed by big fast food chains\n",
    "\n",
    "Top restaurant chains (by average rating)\n",
    "Here we will look at top chains by their ratings. I have set the criteria of number of outlets to greater than 4 to remove some outliers."
   ]
  },
  {
   "cell_type": "code",
   "execution_count": null,
   "id": "4133c215-dfd7-4d5c-bb9d-24473eb728a0",
   "metadata": {},
   "outputs": [],
   "source": [
    "outlets = data[\"name\"].value_counts()"
   ]
  },
  {
   "cell_type": "code",
   "execution_count": null,
   "id": "8b589a74-db62-4165-86b2-04a36331b956",
   "metadata": {},
   "outputs": [],
   "source": [
    "atleast_5_outlets = outlets[outlets > 4]"
   ]
  },
  {
   "cell_type": "code",
   "execution_count": null,
   "id": "5ca81baa-fc23-4eac-85ba-1e3f742cd6b0",
   "metadata": {},
   "outputs": [],
   "source": [
    "top10_chains2 = (\n",
    "    data[data[\"name\"].isin(atleast_5_outlets.index)]\n",
    "    .groupby(\"name\")[\"aggregate_rating\"]   # only take this column\n",
    "    .mean()\n",
    "    .sort_values(ascending=False)[:10]\n",
    "    .sort_values(ascending=True)\n",
    ")\n"
   ]
  },
  {
   "cell_type": "code",
   "execution_count": null,
   "id": "c9cd252a-c490-4ae6-8353-77f4fcde3212",
   "metadata": {},
   "outputs": [],
   "source": [
    "height = pd.Series(top10_chains2.values).map(lambda x : np.round(x, 2))\n",
    "bars = top10_chains2.index\n",
    "y_pos = np.arange(len(bars))\n",
    "\n",
    "fig = plt.figure(figsize=[11,7], frameon=False)\n",
    "ax = fig.gca()\n",
    "ax.spines[\"top\"].set_visible(\"#424242\")\n",
    "ax.spines[\"right\"].set_visible(False)\n",
    "ax.spines[\"left\"].set_color(\"#424242\")\n",
    "ax.spines[\"bottom\"].set_color(\"#424242\")\n",
    "\n",
    "#colors = [\"green\",\"blue\",\"magenta\",\"cyan\",\"gray\",\"yellow\",\"purple\",\"violet\",\"orange\",\"red\",\"maroon\"]\n",
    "#random.shuffle(colors)\n",
    "colors = ['#fded86', '#fce36b', '#f7c65d', '#f1a84f', '#ec8c41', '#e76f34', '#e25328', '#b04829', '#7e3e2b', '#4c3430']\n",
    "plt.barh(y_pos, height, color=colors)\n",
    "\n",
    "plt.xlim(3)\n",
    "plt.xticks(color=\"#424242\")\n",
    "plt.yticks(y_pos, bars, color=\"#424242\")\n",
    "plt.xlabel(\"Number of outlets in India\")\n",
    "\n",
    "for i, v in enumerate(height):\n",
    "    ax.text(v + 0.01, i, str(v), color='#424242')\n",
    "plt.title(\"Top 10 Restaurant chain in India (by average Rating)\")\n",
    "\n",
    "\n",
    "plt.show()"
   ]
  },
  {
   "cell_type": "markdown",
   "id": "62d62bbe-0d96-49df-a7e0-0b72600bcb0d",
   "metadata": {},
   "source": [
    "# Interestingly, no fast food chain appears in this chart. To maintain a high rating, restaurants needs to provide superior service which becomes impossible with booming fast food restaurant in every street.\n",
    "\n",
    "Establishment Types\n",
    "Number of restaurants (by establishment type)\n"
   ]
  },
  {
   "cell_type": "code",
   "execution_count": null,
   "id": "d91ae2dc-bf9e-4735-ab82-7dd22940edc9",
   "metadata": {},
   "outputs": [],
   "source": [
    "est_count = data.groupby(\"establishment\").count()[\"res_id\"].sort_values(ascending=False)[:5]\n",
    "\n",
    "fig = plt.figure(figsize=[8,5], frameon=False)\n",
    "ax = fig.gca()\n",
    "ax.spines[\"top\"].set_visible(False)\n",
    "ax.spines[\"right\"].set_visible(False)\n",
    "ax.spines[\"left\"].set_color(\"#424242\")\n",
    "ax.spines[\"bottom\"].set_color(\"#424242\")\n",
    "\n",
    "#colors = [\"green\",\"blue\",\"magenta\",\"cyan\",\"gray\",\"yellow\",\"purple\",\"violet\",\"orange\",\"red\",\"maroon\"]\n",
    "#random.shuffle(colors)\n",
    "colors = [\"#2d0f41\",'#933291',\"#e65586\",\"#f2a49f\",\"#f9cdac\"]\n",
    "plt.bar(est_count.index, est_count.values, color=colors)\n",
    "\n",
    "plt.xticks(range(0, 6), color=\"#424242\")\n",
    "plt.yticks(range(0, 25000, 5000), color=\"#424242\")\n",
    "plt.xlabel(\"Top 5 establishment types\")\n",
    "\n",
    "for i, v in enumerate(est_count):\n",
    "    ax.text(i-0.2, v+500, str(v), color='#424242')\n",
    "plt.title(\"Number of restaurants (by establishment type)\")\n",
    "\n",
    "\n",
    "plt.show()\n"
   ]
  },
  {
   "cell_type": "markdown",
   "id": "9fd80d09-0687-4c07-9e44-1652c802e141",
   "metadata": {},
   "source": [
    "# Top 3 represents more casual and quick service restaurants, then from 4-6 we have dessert based shops.\n",
    "\n",
    "Average rating, votes and photos (by Establishment)\n",
    "Here, we will not plot each graph since it will make this notebook filled with horizontal bar charts. I see horizontal bar charts the only option to display results of this kind when we have lots of classes to compare (here 10 classes). Let's look at value_counts( ) directly\n",
    "\n"
   ]
  },
  {
   "cell_type": "code",
   "execution_count": null,
   "id": "16f1b808-5bd3-4847-96f2-0e26a250548c",
   "metadata": {},
   "outputs": [],
   "source": [
    "rating_by_est = (\n",
    "    data.groupby(\"establishment\")[\"aggregate_rating\"]  # select column first\n",
    "    .mean()\n",
    "    .sort_values(ascending=False)[:10]\n",
    ")\n",
    "\n",
    "rating_by_est\n"
   ]
  },
  {
   "cell_type": "code",
   "execution_count": null,
   "id": "6d6256d2-f2b7-436c-81dd-54d25c35c483",
   "metadata": {},
   "outputs": [],
   "source": [
    "# To check the number of outlets in each of the above establishment type, uncomment to following code\n",
    "\n",
    "#est_count = data.groupby(\"establishment\").count()[\"name\"].sort_values(ascending=False)\n",
    "#rating_by_est_map = est_count.index.isin(rating_by_est.index)\n",
    "#est_count = est_count[rating_by_est_map][rating_by_est.index]\n",
    "#est_count"
   ]
  },
  {
   "cell_type": "code",
   "execution_count": null,
   "id": "6922382b-030d-47e0-9bb3-f85b71f9cf91",
   "metadata": {},
   "outputs": [],
   "source": [
    "data.groupby(\"establishment\")[\"votes\"].mean().sort_values(ascending=False)[:10]"
   ]
  },
  {
   "cell_type": "code",
   "execution_count": null,
   "id": "2bfa4bf2-4092-4e20-b10a-73026dbe2765",
   "metadata": {},
   "outputs": [],
   "source": [
    "data.groupby(\"establishment\")[\"photo_count\"].mean().sort_values(ascending=False)[:10]"
   ]
  },
  {
   "cell_type": "markdown",
   "id": "dec952ba-c3ad-4375-a408-a29ac5c9d5e3",
   "metadata": {},
   "source": [
    "# It can be concluded that establishments with alcohol availability have highest average ratings, votes and photo uploads.\n",
    "\n",
    "# Cities\n",
    "Number of restaurants (by city)\n"
   ]
  },
  {
   "cell_type": "code",
   "execution_count": null,
   "id": "d6f33c32-bf7d-4fdb-9683-46c2f2ebb67f",
   "metadata": {},
   "outputs": [],
   "source": [
    "city_counts = data.groupby(\"city\").count()[\"res_id\"].sort_values(ascending=True)[-10:]\n",
    "\n",
    "height = pd.Series(city_counts.values)\n",
    "bars = city_counts.index\n",
    "y_pos = np.arange(len(bars))\n",
    "\n",
    "fig = plt.figure(figsize=[11,7], frameon=False)\n",
    "ax = fig.gca()\n",
    "ax.spines[\"top\"].set_visible(\"#424242\")\n",
    "ax.spines[\"right\"].set_visible(False)\n",
    "ax.spines[\"left\"].set_color(\"#424242\")\n",
    "ax.spines[\"bottom\"].set_color(\"#424242\")\n",
    "\n",
    "#colors = [\"green\",\"blue\",\"magenta\",\"cyan\",\"gray\",\"yellow\",\"purple\",\"violet\",\"orange\",\"red\",\"maroon\"]\n",
    "#random.shuffle(colors)\n",
    "colors = ['#dcecc9', '#aadacc', '#78c6d0', '#48b3d3', '#3e94c0', '#3474ac', '#2a5599', '#203686', '#18216b', '#11174b']\n",
    "plt.barh(y_pos, height, color=colors)\n",
    "\n",
    "plt.xlim(3)\n",
    "plt.xticks(color=\"#424242\")\n",
    "plt.yticks(y_pos, bars, color=\"#424242\")\n",
    "plt.xlabel(\"Number of outlets\")\n",
    "\n",
    "for i, v in enumerate(height):\n",
    "    ax.text(v + 20, i, str(v), color='#424242')\n",
    "plt.title(\"Number of restaurants (by city)\")\n",
    "\n",
    "\n",
    "plt.show()"
   ]
  },
  {
   "cell_type": "markdown",
   "id": "7552e988-75b3-4cbf-903c-d0aa6c1793f3",
   "metadata": {},
   "source": [
    "# As expected, metro cities have more number of restaurants than others with South India dominating the Top 4\n",
    "\n",
    "Average rating, votes and photos (by city)\n"
   ]
  },
  {
   "cell_type": "code",
   "execution_count": null,
   "id": "e137b040-adee-41d6-bba1-abbc97d81abb",
   "metadata": {},
   "outputs": [],
   "source": [
    "rating_by_city = data.groupby(\"city\")[\"aggregate_rating\"].mean().sort_values(ascending=False)[:10]\n",
    "rating_by_city"
   ]
  },
  {
   "cell_type": "code",
   "execution_count": null,
   "id": "c2f248ff-1e58-4fa4-b674-ba49c2e3bb75",
   "metadata": {},
   "outputs": [],
   "source": [
    "# To check the number of outlets in each of the above establishment type\n",
    "\n",
    "#city_count = data.groupby(\"city\").count()[\"name\"].sort_values(ascending=False)\n",
    "#rating_by_city_map = city_count.index.isin(rating_by_city.index)\n",
    "#city_count = city_count[rating_by_city_map][rating_by_city.index]\n",
    "#city_count"
   ]
  },
  {
   "cell_type": "code",
   "execution_count": null,
   "id": "a9e47d97-2401-40e3-a31e-f77c1b4b4b00",
   "metadata": {},
   "outputs": [],
   "source": [
    "data.groupby(\"city\")[\"votes\"].mean().sort_values(ascending=False)[:10]"
   ]
  },
  {
   "cell_type": "code",
   "execution_count": null,
   "id": "20400c08-5789-45a7-a1d2-ce56667951b4",
   "metadata": {},
   "outputs": [],
   "source": [
    "data.groupby(\"city\")[\"photo_count\"].mean().sort_values(ascending=False)[:10]"
   ]
  },
  {
   "cell_type": "markdown",
   "id": "7228c1af-e3a1-4aa7-916b-a5793d7cd304",
   "metadata": {},
   "source": [
    "# Gurgaon has highest rated restaurants whereas Hyderabad has more number of critics. Mumbai and New Delhi dominates for most photo uploads per outlet.\n",
    "\n",
    "# Cuisine\n",
    "#### Unique cuisines"
   ]
  },
  {
   "cell_type": "code",
   "execution_count": null,
   "id": "490250f8-ec42-4d9f-ace4-4295509ae5c5",
   "metadata": {},
   "outputs": [],
   "source": [
    "print(\"Total number of unique cuisines = \", cuisines.nunique())"
   ]
  },
  {
   "cell_type": "markdown",
   "id": "b8885b11-e71e-4337-99d3-335ec04dd4cd",
   "metadata": {},
   "source": [
    "#### Number of restaurants (by cuisine)\n"
   ]
  },
  {
   "cell_type": "code",
   "execution_count": null,
   "id": "e38b7a28-a92a-415c-ac43-cda6d47da04c",
   "metadata": {},
   "outputs": [],
   "source": [
    "c_count = cuisines.value_counts()[:5]\n",
    "\n",
    "fig = plt.figure(figsize=[8,5], frameon=False)\n",
    "ax = fig.gca()\n",
    "ax.spines[\"top\"].set_visible(False)\n",
    "ax.spines[\"right\"].set_visible(False)\n",
    "ax.spines[\"left\"].set_color(\"#424242\")\n",
    "ax.spines[\"bottom\"].set_color(\"#424242\")\n",
    "\n",
    "#colors = [\"green\",\"blue\",\"magenta\",\"cyan\",\"gray\",\"yellow\",\"purple\",\"violet\",\"orange\",\"red\",\"maroon\"]\n",
    "#random.shuffle(colors)\n",
    "colors = ['#4c3430', '#b04829', '#ec8c41', '#f7c65d','#fded86']\n",
    "plt.bar(c_count.index, c_count.values, color=colors)\n",
    "\n",
    "plt.xticks(range(0, 6), color=\"#424242\")\n",
    "plt.yticks(range(0, 30000, 5000), color=\"#424242\")\n",
    "plt.xlabel(\"Top 5 cuisines\")\n",
    "\n",
    "for i, v in enumerate(c_count):\n",
    "    ax.text(i-0.2, v+500, str(v), color='#424242')\n",
    "plt.title(\"Number of restaurants (by cuisine type)\")\n",
    "\n",
    "\n",
    "plt.show()"
   ]
  },
  {
   "cell_type": "markdown",
   "id": "6c14c2a4-7507-44ae-84f5-241d847dc674",
   "metadata": {},
   "source": [
    "# Surprisingly, Chinese food comes second in the list of cuisines that Indians prefer, even more than fast food, desserts and South Indian food.\n",
    "\n",
    "#### Highest rated cuisines¶"
   ]
  },
  {
   "cell_type": "code",
   "execution_count": null,
   "id": "c9336559-c0b8-4692-b5e0-a42bb3e35917",
   "metadata": {},
   "outputs": [],
   "source": [
    "data[\"cuisines2\"] = data['cuisines'].apply(lambda x: x.split(\", \") if isinstance(x, str) else [])\n",
    "cuisines_list = cuisines.unique().tolist()\n",
    "zeros = np.zeros(shape=(len(cuisines_list),2))\n",
    "c_and_r = pd.DataFrame(zeros, index=cuisines_list, columns=[\"Sum\",\"Total\"])"
   ]
  },
  {
   "cell_type": "code",
   "execution_count": null,
   "id": "8f012ead-7a6b-46ec-b89b-5784bdeec98b",
   "metadata": {},
   "outputs": [],
   "source": [
    "for i, x in data.iterrows():\n",
    "    for j in x[\"cuisines2\"]:\n",
    "        c_and_r.loc[j, \"Sum\"] += x[\"aggregate_rating\"]  \n",
    "        c_and_r.loc[j, \"Total\"] += 1"
   ]
  },
  {
   "cell_type": "code",
   "execution_count": null,
   "id": "c62ab7bf-6ea9-4605-b02e-10953351733f",
   "metadata": {},
   "outputs": [],
   "source": [
    "c_and_r[\"Mean\"] = c_and_r[\"Sum\"] / c_and_r[\"Total\"]\n",
    "c_and_r\n"
   ]
  },
  {
   "cell_type": "code",
   "execution_count": null,
   "id": "21e71390-c2b7-422c-8fdf-580b367f164a",
   "metadata": {},
   "outputs": [],
   "source": [
    "c_and_r[[\"Mean\",\"Total\"]].sort_values(by=\"Mean\", ascending=False)[:10]\n"
   ]
  },
  {
   "cell_type": "markdown",
   "id": "f1d6c0ac-4f01-42bc-88eb-ea0e7efd43a8",
   "metadata": {},
   "source": [
    "#### We can ignore a few cuisines in this list since they are available in less number. But the overall conclusion which can be drawn is that International (and rarely available) cuisines are rated higher than local cuisines.\n",
    "\n",
    "#### Highlights/Features of restaurants\n",
    "#### Unique highlights¶"
   ]
  },
  {
   "cell_type": "code",
   "execution_count": null,
   "id": "939eef41-d0cd-4392-9883-86d8272f8603",
   "metadata": {},
   "outputs": [],
   "source": [
    "print(\"Total number of unique cuisines = \", hl.nunique())\n"
   ]
  },
  {
   "cell_type": "markdown",
   "id": "4682d0cb-7885-4ccd-96e0-04cb268ef2ea",
   "metadata": {},
   "source": [
    "# Number of restaurants (by highlights)"
   ]
  },
  {
   "cell_type": "code",
   "execution_count": null,
   "id": "4eaa6f3e-f579-4d85-9046-a960757afbf3",
   "metadata": {},
   "outputs": [],
   "source": [
    "h_count = hl.value_counts()[:5]\n",
    "\n",
    "fig = plt.figure(figsize=[10,6], frameon=False)\n",
    "ax = fig.gca()\n",
    "ax.spines[\"top\"].set_visible(False)\n",
    "ax.spines[\"right\"].set_visible(False)\n",
    "ax.spines[\"left\"].set_color(\"#424242\")\n",
    "ax.spines[\"bottom\"].set_color(\"#424242\")\n",
    "\n",
    "#colors = [\"green\",\"blue\",\"magenta\",\"cyan\",\"gray\",\"yellow\",\"purple\",\"violet\",\"orange\",\"red\",\"maroon\"]\n",
    "#random.shuffle(colors)\n",
    "colors = ['#11174b', '#2a5599', '#3e94c0', '#78c6d0', '#dcecc9']\n",
    "plt.bar(h_count.index, h_count.values, color=colors)\n",
    "\n",
    "plt.xticks(range(0, 6), color=\"#424242\")\n",
    "plt.yticks(range(0, 70000, 10000), color=\"#424242\")\n",
    "plt.xlabel(\"Top 5 highlights\")\n",
    "\n",
    "for i, v in enumerate(h_count):\n",
    "    ax.text(i-0.2, v+500, str(v), color='#424242')\n",
    "plt.title(\"Number of restaurants (by highlights)\")\n",
    "\n",
    "\n",
    "plt.show()\n"
   ]
  },
  {
   "cell_type": "markdown",
   "id": "62ecc7a5-6d85-404d-80a8-5fdac0e26aa8",
   "metadata": {},
   "source": [
    "# Top 5 highlights doesn't convey much information since they are very trivial to almost every restaurant. Let's look at uncommon highlights that matter more to the customers.\n",
    "\n",
    "## Highest rated highlights"
   ]
  },
  {
   "cell_type": "code",
   "execution_count": null,
   "id": "8053289b-bc05-420f-adb5-b806e7176c71",
   "metadata": {},
   "outputs": [],
   "source": [
    "data[\"highlights\"][0]\n"
   ]
  },
  {
   "cell_type": "code",
   "execution_count": null,
   "id": "5ecffd44-2350-40ea-ad17-3497299a4536",
   "metadata": {},
   "outputs": [],
   "source": [
    "data[\"highlights2\"] = data['highlights'].apply(lambda x : x[2:-2].split(\"', '\"))\n",
    "\n",
    "hl_list = hl.unique().tolist()\n",
    "zeros = np.zeros(shape=(len(hl_list),2))\n",
    "h_and_r = pd.DataFrame(zeros, index=hl_list, columns=[\"Sum\",\"Total\"])"
   ]
  },
  {
   "cell_type": "code",
   "execution_count": null,
   "id": "a3fff1e0-c4b0-4580-a58f-5784bd589140",
   "metadata": {},
   "outputs": [],
   "source": [
    "for i, x in data.iterrows():\n",
    "    for j in x[\"highlights2\"]:\n",
    "        h_and_r.loc[j, \"Sum\"] += x[\"aggregate_rating\"]\n",
    "        h_and_r.loc[j, \"Total\"] += 1\n"
   ]
  },
  {
   "cell_type": "code",
   "execution_count": null,
   "id": "c696571e-de61-40a0-a3b5-a115ffc1dc34",
   "metadata": {},
   "outputs": [],
   "source": [
    "h_and_r[\"Mean\"] = h_and_r[\"Sum\"] / h_and_r[\"Total\"]\n",
    "h_and_r"
   ]
  },
  {
   "cell_type": "code",
   "execution_count": null,
   "id": "4ed684d5-7e5c-4418-8fa7-0bbc019f1db7",
   "metadata": {},
   "outputs": [],
   "source": [
    "h_and_r[[\"Mean\",\"Total\"]].sort_values(by=\"Mean\", ascending=False)[:10]"
   ]
  },
  {
   "cell_type": "markdown",
   "id": "cd8040f7-e993-4363-b5ca-20520e1cd008",
   "metadata": {},
   "source": [
    "# We can safely ignore highlights which have a frequency of less than 10 since they can be considered as outliers. Features like Gastro pub, Craft beer, Romantic dining and Sneakpeek are well received among customers.\n",
    "\n",
    "#### Highlights wordcloud\n",
    "#### Here we will create a wordcloud of top 30 highlights\n",
    "\n"
   ]
  },
  {
   "cell_type": "code",
   "execution_count": null,
   "id": "64ab0847-5b81-4e0a-98b9-fcedbd30d141",
   "metadata": {},
   "outputs": [],
   "source": [
    "# https://www.geeksforgeeks.org/generating-word-cloud-python/\n",
    "\n",
    "hl_str = \"\"\n",
    "for i in hl:\n",
    "    hl_str += str(i) + \" \"\n",
    "wordcloud = WordCloud(width = 800, height = 500, \n",
    "                background_color ='white', \n",
    "                min_font_size = 10, max_words=30).generate(hl_str) \n",
    "                         \n",
    "plt.figure(figsize = (8, 8), facecolor = None) \n",
    "plt.imshow(wordcloud) \n",
    "plt.axis(\"off\") \n",
    "plt.tight_layout(pad = 0) \n",
    "  \n",
    "plt.show()\n"
   ]
  },
  {
   "cell_type": "markdown",
   "id": "538fada8-c5bf-450b-bfb3-0c0dc7d9d018",
   "metadata": {},
   "source": [
    "# Ratings and cost¶\n",
    "# Ratings distribution\n",
    "# Let's see how the ratings are distributes"
   ]
  },
  {
   "cell_type": "code",
   "execution_count": null,
   "id": "897c09b8-9740-4d78-9a68-b27d5258bdd2",
   "metadata": {},
   "outputs": [],
   "source": [
    "sns.kdeplot(data['aggregate_rating'], shade=True)\n",
    "plt.title(\"Ratings distribution\")\n",
    "plt.show()\n"
   ]
  },
  {
   "cell_type": "markdown",
   "id": "72716a44-a2c9-473d-b640-d3c2c867de47",
   "metadata": {},
   "source": [
    "# There is a huge spike at 0 which might account for newly opened or unrated restaurants. On average, majority of restaurants have rating between 3 to 4 with fewer restaurants managing to go beyond 4.\n",
    "\n",
    "#### Avergae cost for two distribution"
   ]
  },
  {
   "cell_type": "code",
   "execution_count": null,
   "id": "a11167a1-4438-4ca3-be2e-313ea5c8655c",
   "metadata": {},
   "outputs": [],
   "source": [
    "sns.kdeplot(data['average_cost_for_two'], shade=True)\n",
    "plt.title(\"Average cost for 2 distribution\")\n",
    "plt.show()"
   ]
  },
  {
   "cell_type": "markdown",
   "id": "1e6934a6-fa46-45c6-af24-7af1304772e6",
   "metadata": {},
   "source": [
    "# With few restaurants charging average of Rs.25000+ for two, this graph is extremely skewed. Let's take a closer look at a lower range of 0 to 60000.\n"
   ]
  },
  {
   "cell_type": "code",
   "execution_count": null,
   "id": "88403565-f9d8-44b8-9f9a-a92488482d18",
   "metadata": {},
   "outputs": [],
   "source": [
    "sns.kdeplot(data['average_cost_for_two'], shade=True)\n",
    "plt.xlim([0, 6000])\n",
    "plt.xticks(range(0,6000,500))\n",
    "plt.title(\"Average cost for 2 distribution\")\n",
    "plt.show()"
   ]
  },
  {
   "cell_type": "markdown",
   "id": "7bb500ad-28a9-45c7-8c57-03f23673d647",
   "metadata": {},
   "source": [
    "# Majority of restaurants are budget friendly with an average cost between Rs.250 to Rs.800 for two."
   ]
  },
  {
   "cell_type": "markdown",
   "id": "30cfa3c8-02d5-490d-8969-3f6691758c8a",
   "metadata": {},
   "source": [
    "#### Price range count"
   ]
  },
  {
   "cell_type": "code",
   "execution_count": null,
   "id": "82bc2af8-7079-4d03-b472-347c8572c5e4",
   "metadata": {},
   "outputs": [],
   "source": [
    "pr_count = data.groupby(\"price_range\").count()[\"name\"]\n",
    "\n",
    "fig = plt.figure(figsize=[8,5], frameon=False)\n",
    "ax = fig.gca()\n",
    "ax.spines[\"top\"].set_visible(False)\n",
    "ax.spines[\"right\"].set_visible(False)\n",
    "ax.spines[\"left\"].set_color(\"#424242\")\n",
    "ax.spines[\"bottom\"].set_color(\"#424242\")\n",
    "\n",
    "#colors = [\"green\",\"blue\",\"magenta\",\"cyan\",\"gray\",\"yellow\",\"purple\",\"violet\",\"orange\",\"red\",\"maroon\"]\n",
    "#random.shuffle(colors)\n",
    "colors = [\"#2d0f41\",'#933291',\"#f2a49f\",\"#f9cdac\"]\n",
    "plt.bar(pr_count.index, pr_count.values, color=colors)\n",
    "\n",
    "plt.xticks(range(0, 5), color=\"#424242\")\n",
    "plt.yticks(range(0, 40000, 5000), color=\"#424242\")\n",
    "plt.xlabel(\"Price Ranges\")\n",
    "\n",
    "for i, v in enumerate(pr_count):\n",
    "    ax.text(i+0.85, v+700, str(v), color='#424242')\n",
    "plt.title(\"Number of restaurants (by price ranges)\")\n",
    "\n",
    "\n",
    "plt.show()\n"
   ]
  },
  {
   "cell_type": "markdown",
   "id": "de296c68-a2ed-49f2-b338-4cea08a58112",
   "metadata": {},
   "source": [
    "# Price range chart supports our previous observation from the Average cost chart. Number of restaurant decreases with increase in price range.\n",
    "\n",
    "# Relation between Average price for two and Rating"
   ]
  },
  {
   "cell_type": "code",
   "execution_count": null,
   "id": "6457ace4-cad2-4bc4-a94f-f4b5fe56d420",
   "metadata": {},
   "outputs": [],
   "source": [
    "np.round(data[[\"average_cost_for_two\",\"aggregate_rating\"]].corr()[\"average_cost_for_two\"][1],2)"
   ]
  },
  {
   "cell_type": "markdown",
   "id": "2a724f76-ea87-4969-8c97-bf18a099968c",
   "metadata": {},
   "source": [
    "\n",
    "# A correlation can be seen between restaurant average cost and rating"
   ]
  },
  {
   "cell_type": "code",
   "execution_count": null,
   "id": "48b08052-0222-4d73-8018-a2f7d566347e",
   "metadata": {},
   "outputs": [],
   "source": [
    "plt.plot(\"average_cost_for_two\",\"aggregate_rating\", data=data, linestyle=\"none\", marker=\"o\")\n",
    "plt.xlim([0,6000])\n",
    "plt.title(\"Relationship between Average cost and Rating\")\n",
    "plt.xlabel(\"Average cost for two\")\n",
    "plt.ylabel(\"Ratings\")\n",
    "plt.show()"
   ]
  },
  {
   "cell_type": "markdown",
   "id": "f2f44b1d-ca24-4910-a47f-8acedf35e158",
   "metadata": {},
   "source": [
    "# There is definetely a direct relation between the two. Let's take a smaller sample to draw a clearer scatter plot."
   ]
  },
  {
   "cell_type": "code",
   "execution_count": null,
   "id": "654b2cb6-2677-4d47-9d4f-e946c9a1b9f1",
   "metadata": {},
   "outputs": [],
   "source": [
    "plt.plot(\"average_cost_for_two\",\"aggregate_rating\", data=data.sample(1000), linestyle=\"none\", marker=\"o\")\n",
    "plt.xlim([0,3000])\n",
    "plt.show()"
   ]
  },
  {
   "cell_type": "markdown",
   "id": "83ef12dd-a463-4a14-8bd1-48cef975147b",
   "metadata": {},
   "source": [
    "# This relation concludes that that as average cost for two increases, there is a better chance that the restaurant will be rated highly. Let's look at price range for a better comparison.\n",
    "\n",
    "Relation between Price range and Rating"
   ]
  },
  {
   "cell_type": "code",
   "execution_count": null,
   "id": "fe43ed9b-5944-4fab-ac6c-9d7aa12decee",
   "metadata": {},
   "outputs": [],
   "source": [
    "np.round(data[[\"price_range\",\"aggregate_rating\"]].corr()[\"price_range\"][1],2)"
   ]
  },
  {
   "cell_type": "code",
   "execution_count": null,
   "id": "82233a27-3938-4eb5-bb00-0f70547e3ea7",
   "metadata": {},
   "outputs": [],
   "source": [
    "sns.boxplot(x='price_range', y='aggregate_rating', data=data)\n",
    "plt.ylim(1)\n",
    "plt.title(\"Relationship between Price range and Ratings\")\n",
    "plt.show()"
   ]
  },
  {
   "cell_type": "markdown",
   "id": "501432b6-22eb-4cd9-8407-b9b7108aa566",
   "metadata": {},
   "source": [
    "# Now, it is clear. The higher the price a restaurant charges, more services they provide and hence more chances of getting good ratings from their customers.\n",
    "\n",
    "Conclusions\n",
    "After working on this data, we can conclude the following things:-\n",
    "\n",
    "1. Approx. 35% of restaurants in India are part of some chain\n",
    "2. Domino's Pizza, Cafe Coffee Day, KFC are the biggest fast food chains in the country with most number of outlets\n",
    "3. Barbecues and Grill food chains have highest average ratings than other type of restaurants\n",
    "4. Quick bites and casual dining type of establishment have most number of outlets\n",
    "5. Establishments with alcohol availability have highest average ratings, votes and photo uploads\n",
    "6. Banglore has most number of restaurants\n",
    "7. Gurgaon has highest rated restaurants (average 3.83) whereas Hyderabad has more number of critics (votes). Mumbai and New Delhi dominates for most photo uploads per outlet\n",
    "8. After North Indian, Chinese is the most prefered cuisine in India\n",
    "9. International cuisines are better rated than local cuisines\n",
    "10. Gastro pub, Romantic Dining and Craft Beer features are well rated by customers\n",
    "11. Most restaurants are rated between 3 and 4\n",
    "12. Majority of restaurants are budget friendly with average cost of two between Rs.250 to Rs.800\n",
    "13. There are less number of restaurants at higher price ranges\n",
    "14. As the average cost of two increases, the chance of a restaurant having higher rating increases\n",
    "- Now we have come to the end of this project, I hope you learned some new tricks.\n",
    "\n",
    "- Please give this notebook an upvote if you find it useful!\n"
   ]
  },
  {
   "cell_type": "code",
   "execution_count": null,
   "id": "999ce964-b790-4be8-a62b-70f5997ee5c5",
   "metadata": {},
   "outputs": [],
   "source": [
    "data.to_csv(\"zomato_final.csv\")"
   ]
  },
  {
   "cell_type": "code",
   "execution_count": null,
   "id": "87a27b52-4587-4360-a64b-bdec345eadfe",
   "metadata": {},
   "outputs": [],
   "source": []
  }
 ],
 "metadata": {
  "kernelspec": {
   "display_name": "Python 3 (ipykernel)",
   "language": "python",
   "name": "python3"
  },
  "language_info": {
   "codemirror_mode": {
    "name": "ipython",
    "version": 3
   },
   "file_extension": ".py",
   "mimetype": "text/x-python",
   "name": "python",
   "nbconvert_exporter": "python",
   "pygments_lexer": "ipython3",
   "version": "3.13.5"
  }
 },
 "nbformat": 4,
 "nbformat_minor": 5
}
