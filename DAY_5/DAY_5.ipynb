{
 "cells": [
  {
   "cell_type": "markdown",
   "id": "5e2edc88-ae29-404b-836a-f28b3c029b3a",
   "metadata": {},
   "source": [
    "# Numpy"
   ]
  },
  {
   "cell_type": "code",
   "execution_count": 33,
   "id": "f4a6379e-433f-4a39-bf79-2be747374a46",
   "metadata": {},
   "outputs": [],
   "source": [
    "import numpy as np"
   ]
  },
  {
   "cell_type": "code",
   "execution_count": 4,
   "id": "4fd4f093-af4a-4239-9588-cc4e2ef70369",
   "metadata": {},
   "outputs": [
    {
     "name": "stdout",
     "output_type": "stream",
     "text": [
      "[  1 -45  23  67  98  20]\n"
     ]
    }
   ],
   "source": [
    "Array = np.array([1,-45,23,67,98,20])\n",
    "print(Array)"
   ]
  },
  {
   "cell_type": "code",
   "execution_count": 5,
   "id": "39a67d50-55aa-45f0-be27-0d6eb44debf5",
   "metadata": {},
   "outputs": [
    {
     "name": "stdout",
     "output_type": "stream",
     "text": [
      "[[23 19  6]\n",
      " [56 78 90]\n",
      " [30 69 49]]\n"
     ]
    }
   ],
   "source": [
    "Array2 = np.array([[23,19,6],[56,78,90],[30,69,49]])\n",
    "print(Array2)"
   ]
  },
  {
   "cell_type": "code",
   "execution_count": 23,
   "id": "424a32c3-9d1f-4245-9214-1d6f08faeb18",
   "metadata": {},
   "outputs": [
    {
     "name": "stdout",
     "output_type": "stream",
     "text": [
      "[[[20 40 60]\n",
      "  [11 22 33]\n",
      "  [10 30 50]]]\n"
     ]
    }
   ],
   "source": [
    "Array3 = np.array([[[20,40,60],[11,22,33],[10,30,50]]])\n",
    "print(Array3)"
   ]
  },
  {
   "cell_type": "markdown",
   "id": "d36e87fe-467a-4ff7-ad2b-db615ac96091",
   "metadata": {},
   "source": [
    "# Shape"
   ]
  },
  {
   "cell_type": "code",
   "execution_count": 24,
   "id": "29102af8-b8a2-4220-a614-766407d91c07",
   "metadata": {},
   "outputs": [
    {
     "name": "stdout",
     "output_type": "stream",
     "text": [
      "(6,)\n"
     ]
    }
   ],
   "source": [
    "print(Array.shape)"
   ]
  },
  {
   "cell_type": "code",
   "execution_count": 25,
   "id": "c563e472-b5ea-4e57-a6f2-ce822f1b83c7",
   "metadata": {},
   "outputs": [
    {
     "name": "stdout",
     "output_type": "stream",
     "text": [
      "(3, 3)\n"
     ]
    }
   ],
   "source": [
    "print(Array2.shape)"
   ]
  },
  {
   "cell_type": "code",
   "execution_count": 9,
   "id": "17eebc11-0cce-427b-a4d0-cc520ec8f755",
   "metadata": {},
   "outputs": [
    {
     "name": "stdout",
     "output_type": "stream",
     "text": [
      "(1, 3, 3)\n"
     ]
    }
   ],
   "source": [
    "print(Array3.shape)"
   ]
  },
  {
   "cell_type": "markdown",
   "id": "af7d28eb-8fa3-420e-8d5e-6f7bd603329f",
   "metadata": {},
   "source": [
    "# ndim"
   ]
  },
  {
   "cell_type": "code",
   "execution_count": 10,
   "id": "04acaedc-714d-4aaf-bb02-ca2e6e98759c",
   "metadata": {},
   "outputs": [
    {
     "name": "stdout",
     "output_type": "stream",
     "text": [
      "2\n"
     ]
    }
   ],
   "source": [
    "print(Array2.ndim)"
   ]
  },
  {
   "cell_type": "code",
   "execution_count": 11,
   "id": "527b956b-88eb-4b4c-9e9b-cb6991923cbe",
   "metadata": {},
   "outputs": [
    {
     "name": "stdout",
     "output_type": "stream",
     "text": [
      "1\n"
     ]
    }
   ],
   "source": [
    "print(Array.ndim)"
   ]
  },
  {
   "cell_type": "code",
   "execution_count": 12,
   "id": "b2bcc337-c32e-4a4e-9459-9f3f9951fec7",
   "metadata": {},
   "outputs": [
    {
     "name": "stdout",
     "output_type": "stream",
     "text": [
      "3\n"
     ]
    }
   ],
   "source": [
    "print(Array3.ndim)"
   ]
  },
  {
   "cell_type": "markdown",
   "id": "7dfaebb2-9157-4c11-bbe7-f83997c19463",
   "metadata": {},
   "source": [
    "# Size"
   ]
  },
  {
   "cell_type": "code",
   "execution_count": 13,
   "id": "a2865baa-92d5-49ca-b34d-7beff786109b",
   "metadata": {},
   "outputs": [
    {
     "name": "stdout",
     "output_type": "stream",
     "text": [
      "6\n"
     ]
    }
   ],
   "source": [
    "print(Array.size)"
   ]
  },
  {
   "cell_type": "code",
   "execution_count": 14,
   "id": "8bd0cae9-6881-451d-b6d5-23b1ee15d69e",
   "metadata": {},
   "outputs": [
    {
     "name": "stdout",
     "output_type": "stream",
     "text": [
      "9\n"
     ]
    }
   ],
   "source": [
    "print(Array2.size)"
   ]
  },
  {
   "cell_type": "code",
   "execution_count": 15,
   "id": "413d311f-f0e3-4f74-babe-1200690616e9",
   "metadata": {},
   "outputs": [
    {
     "name": "stdout",
     "output_type": "stream",
     "text": [
      "9\n"
     ]
    }
   ],
   "source": [
    "print(Array3.size)"
   ]
  },
  {
   "cell_type": "code",
   "execution_count": 16,
   "id": "a041da50-f651-45d4-ae70-4f6402f40aa5",
   "metadata": {},
   "outputs": [
    {
     "name": "stdout",
     "output_type": "stream",
     "text": [
      "67\n"
     ]
    }
   ],
   "source": [
    "print(Array[3])"
   ]
  },
  {
   "cell_type": "markdown",
   "id": "96854aaf-0c37-42e4-b956-4d778f5f7231",
   "metadata": {},
   "source": [
    "# Slicing of Array"
   ]
  },
  {
   "cell_type": "code",
   "execution_count": 31,
   "id": "e3ee2980-d4d1-432b-bee8-d4ec1e483e5e",
   "metadata": {},
   "outputs": [
    {
     "name": "stdout",
     "output_type": "stream",
     "text": [
      "[[23 19  6]\n",
      " [56 78 90]\n",
      " [30 69 49]]\n",
      "[[30 69 49]]\n"
     ]
    }
   ],
   "source": [
    "print(Array2)\n",
    "print(Array2[2:3])"
   ]
  },
  {
   "cell_type": "markdown",
   "id": "170df73e-15f0-4f23-a0f6-60b7d0ac648a",
   "metadata": {},
   "source": [
    "# To update the exiting array"
   ]
  },
  {
   "cell_type": "code",
   "execution_count": 18,
   "id": "b325d6ee-0e18-4de1-9ac9-4edb9f1b36ed",
   "metadata": {},
   "outputs": [
    {
     "name": "stdout",
     "output_type": "stream",
     "text": [
      "[ 1 20 23 67 98 20]\n"
     ]
    }
   ],
   "source": [
    "Array[1]=20\n",
    "print(Array)"
   ]
  },
  {
   "cell_type": "code",
   "execution_count": 19,
   "id": "30081c79-94cb-40a0-8221-9e747394b3ff",
   "metadata": {},
   "outputs": [
    {
     "name": "stdout",
     "output_type": "stream",
     "text": [
      "[30 20 23 67 98 20]\n"
     ]
    }
   ],
   "source": [
    "Array[0]=30\n",
    "print(Array)"
   ]
  },
  {
   "cell_type": "markdown",
   "id": "9641186e-e092-418f-a29c-b898e3db16d8",
   "metadata": {},
   "source": [
    "# accessing single element in multi dim"
   ]
  },
  {
   "cell_type": "code",
   "execution_count": 20,
   "id": "800cd98f-e1cb-49eb-9638-d9fb0261cd6a",
   "metadata": {},
   "outputs": [
    {
     "name": "stdout",
     "output_type": "stream",
     "text": [
      "33\n"
     ]
    }
   ],
   "source": [
    "print(Array3[0,1,2])"
   ]
  },
  {
   "cell_type": "code",
   "execution_count": 21,
   "id": "05b02d25-b6e3-4c14-a167-92d830c870f0",
   "metadata": {},
   "outputs": [
    {
     "name": "stdout",
     "output_type": "stream",
     "text": [
      "[[56 78 90]\n",
      " [30 69 49]]\n"
     ]
    }
   ],
   "source": [
    "print(Array2[1:3])# slicing of two dim"
   ]
  },
  {
   "cell_type": "code",
   "execution_count": 27,
   "id": "c37cfe19-b408-4470-8e86-394c669c7954",
   "metadata": {},
   "outputs": [
    {
     "name": "stdout",
     "output_type": "stream",
     "text": [
      "[[23 19]\n",
      " [56 78]\n",
      " [30 69]]\n"
     ]
    }
   ],
   "source": [
    "print(Array2[:,:2])"
   ]
  },
  {
   "cell_type": "code",
   "execution_count": 28,
   "id": "eadd8a0b-b853-4569-bb27-3e51a175b34b",
   "metadata": {},
   "outputs": [
    {
     "name": "stdout",
     "output_type": "stream",
     "text": [
      "[[23 19  6]\n",
      " [56 78 90]\n",
      " [30 69 49]]\n"
     ]
    }
   ],
   "source": [
    "print(Array2)"
   ]
  },
  {
   "cell_type": "code",
   "execution_count": 22,
   "id": "7a73213d-3450-4501-add7-9ac675b3322e",
   "metadata": {},
   "outputs": [
    {
     "name": "stdout",
     "output_type": "stream",
     "text": [
      "[[23 19  6]\n",
      " [56 78 90]\n",
      " [30 69 49]]\n"
     ]
    }
   ],
   "source": [
    "Array2 = np.array([[23,19,6],[56,78,90],[30,69,49]])\n",
    "print(Array2)"
   ]
  },
  {
   "cell_type": "code",
   "execution_count": 35,
   "id": "ee482ab9-faea-451b-b1bc-20b2322bb794",
   "metadata": {},
   "outputs": [
    {
     "name": "stdout",
     "output_type": "stream",
     "text": [
      "[[[1 2 3]\n",
      "  [4 5 6]\n",
      "  [7 8 9]]]\n"
     ]
    }
   ],
   "source": [
    "array = np.array([[[1,2,3],[4,5,6],[7,8,9]]])\n",
    "print(array)"
   ]
  },
  {
   "cell_type": "code",
   "execution_count": 36,
   "id": "c1f8f1b1-856a-4380-8bf7-f65cd21abc9e",
   "metadata": {},
   "outputs": [
    {
     "name": "stdout",
     "output_type": "stream",
     "text": [
      "[[[1 2 3]\n",
      "  [4 5 6]\n",
      "  [7 8 9]]]\n"
     ]
    }
   ],
   "source": [
    "print(array[:,:])"
   ]
  },
  {
   "cell_type": "code",
   "execution_count": 39,
   "id": "a682c775-36db-40cd-abc9-5027ff3bbf51",
   "metadata": {},
   "outputs": [
    {
     "name": "stdout",
     "output_type": "stream",
     "text": [
      "[[[1 2 3]\n",
      "  [4 5 6]]]\n"
     ]
    }
   ],
   "source": [
    "print(array[:2,0:2])"
   ]
  },
  {
   "cell_type": "code",
   "execution_count": null,
   "id": "f1ae961d-ca2d-4cd1-b5a0-4554ab9d5dd3",
   "metadata": {},
   "outputs": [],
   "source": []
  }
 ],
 "metadata": {
  "kernelspec": {
   "display_name": "Python 3 (ipykernel)",
   "language": "python",
   "name": "python3"
  },
  "language_info": {
   "codemirror_mode": {
    "name": "ipython",
    "version": 3
   },
   "file_extension": ".py",
   "mimetype": "text/x-python",
   "name": "python",
   "nbconvert_exporter": "python",
   "pygments_lexer": "ipython3",
   "version": "3.13.5"
  }
 },
 "nbformat": 4,
 "nbformat_minor": 5
}
