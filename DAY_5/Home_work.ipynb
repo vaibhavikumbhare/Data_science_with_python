{
 "cells": [
  {
   "cell_type": "code",
   "execution_count": null,
   "id": "3bd8ad48-a236-4114-9aac-db9ea74d0348",
   "metadata": {},
   "outputs": [],
   "source": []
  },
  {
   "cell_type": "markdown",
   "id": "a0552c91-f028-44ac-9d71-05853fa87819",
   "metadata": {},
   "source": [
    "# In Array +,-,*,/"
   ]
  },
  {
   "cell_type": "code",
   "execution_count": 3,
   "id": "188baeef-57bd-4f50-b6be-cb3e00ac431f",
   "metadata": {},
   "outputs": [],
   "source": [
    "import numpy as np"
   ]
  },
  {
   "cell_type": "code",
   "execution_count": 35,
   "id": "c525e95d-c453-4604-b768-fb7d4a902ce6",
   "metadata": {},
   "outputs": [
    {
     "name": "stdout",
     "output_type": "stream",
     "text": [
      "Add is =  [ 8 24 15]\n",
      "sub is =  [ 4 16  5]\n",
      "mul is =  [12 80 50]\n",
      "div is =  [3. 5. 2.]\n"
     ]
    }
   ],
   "source": [
    "array1 = np.array([2,4,5])\n",
    "array2 = np.array([6,20,10])\n",
    "#array3 = array2 + array1\n",
    "#array4 = array2 - array1\n",
    "#array5 = array2 * array1\n",
    "#array6 = array2 / array1\n",
    "print(\"Add is = \",array2 + array1)\n",
    "print(\"sub is = \",array2 - array1)\n",
    "print(\"mul is = \",array2 * array1)\n",
    "print(\"div is = \",array2 / array1)"
   ]
  },
  {
   "cell_type": "code",
   "execution_count": null,
   "id": "829afe9b-e22a-456e-bfcc-59d563042696",
   "metadata": {},
   "outputs": [],
   "source": []
  }
 ],
 "metadata": {
  "kernelspec": {
   "display_name": "Python 3 (ipykernel)",
   "language": "python",
   "name": "python3"
  },
  "language_info": {
   "codemirror_mode": {
    "name": "ipython",
    "version": 3
   },
   "file_extension": ".py",
   "mimetype": "text/x-python",
   "name": "python",
   "nbconvert_exporter": "python",
   "pygments_lexer": "ipython3",
   "version": "3.13.5"
  }
 },
 "nbformat": 4,
 "nbformat_minor": 5
}
