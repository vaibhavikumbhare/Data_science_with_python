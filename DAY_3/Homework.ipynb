{
 "cells": [
  {
   "cell_type": "markdown",
   "id": "5c1f9fa3-d009-472b-ab70-1cb10671ec53",
   "metadata": {},
   "source": [
    "# In sets print odd and even numbers"
   ]
  },
  {
   "cell_type": "code",
   "execution_count": 1,
   "id": "b15006d5-ad8a-4819-b098-55e53575379e",
   "metadata": {},
   "outputs": [
    {
     "name": "stdout",
     "output_type": "stream",
     "text": [
      "Even: {2, 4, 6}\n",
      "Odd: {1, 3, 5}\n"
     ]
    }
   ],
   "source": [
    "Set1 = {1, 2, 3, 4, 5, 6}\n",
    "even = set()\n",
    "odd = set()\n",
    "for i in Set1:\n",
    "    if i % 2 == 0:\n",
    "        even.add(i)\n",
    "    else:\n",
    "        odd.add(i)\n",
    "print(\"Even:\", even)\n",
    "print(\"Odd:\", odd)\n",
    "\n"
   ]
  },
  {
   "cell_type": "markdown",
   "id": "40c2fc86-1cf3-4478-bc38-00fe8cdbb0de",
   "metadata": {},
   "source": [
    "# In List print odd and even Numbers"
   ]
  },
  {
   "cell_type": "code",
   "execution_count": 5,
   "id": "eb061c0e-b091-47cd-9ace-20f81f4d12b3",
   "metadata": {},
   "outputs": [
    {
     "name": "stdout",
     "output_type": "stream",
     "text": [
      "Even: [2, 4, 6]\n",
      "Odd: [1, 3, 5]\n"
     ]
    }
   ],
   "source": [
    "List= [1, 2, 3, 4, 5, 6]\n",
    "even = []\n",
    "odd = []\n",
    "for i in List:\n",
    "    if i % 2 == 0:\n",
    "        even.append(i)\n",
    "    else:\n",
    "        odd.append(i)\n",
    "print(\"Even:\", even)\n",
    "print(\"Odd:\", odd)\n",
    "\n"
   ]
  },
  {
   "cell_type": "code",
   "execution_count": null,
   "id": "2427c61a-9500-4171-9711-740c605a3065",
   "metadata": {},
   "outputs": [],
   "source": []
  }
 ],
 "metadata": {
  "kernelspec": {
   "display_name": "Python 3 (ipykernel)",
   "language": "python",
   "name": "python3"
  },
  "language_info": {
   "codemirror_mode": {
    "name": "ipython",
    "version": 3
   },
   "file_extension": ".py",
   "mimetype": "text/x-python",
   "name": "python",
   "nbconvert_exporter": "python",
   "pygments_lexer": "ipython3",
   "version": "3.13.5"
  }
 },
 "nbformat": 4,
 "nbformat_minor": 5
}
