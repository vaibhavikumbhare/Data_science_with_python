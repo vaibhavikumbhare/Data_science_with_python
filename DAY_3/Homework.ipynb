{
 "cells": [
  {
   "cell_type": "markdown",
   "id": "5c1f9fa3-d009-472b-ab70-1cb10671ec53",
   "metadata": {},
   "source": [
    "# In sets print only even numbers"
   ]
  },
  {
   "cell_type": "code",
   "execution_count": 2,
   "id": "b15006d5-ad8a-4819-b098-55e53575379e",
   "metadata": {},
   "outputs": [
    {
     "ename": "AttributeError",
     "evalue": "'dict' object has no attribute 'add'",
     "output_type": "error",
     "traceback": [
      "\u001b[31m---------------------------------------------------------------------------\u001b[39m",
      "\u001b[31mAttributeError\u001b[39m                            Traceback (most recent call last)",
      "\u001b[36mCell\u001b[39m\u001b[36m \u001b[39m\u001b[32mIn[2]\u001b[39m\u001b[32m, line 8\u001b[39m\n\u001b[32m      6\u001b[39m         even.add(i)\n\u001b[32m      7\u001b[39m     \u001b[38;5;28;01melse\u001b[39;00m:\n\u001b[32m----> \u001b[39m\u001b[32m8\u001b[39m         \u001b[43modd\u001b[49m\u001b[43m.\u001b[49m\u001b[43madd\u001b[49m(i)\n\u001b[32m      9\u001b[39m \u001b[38;5;28mprint\u001b[39m(\u001b[33m\"\u001b[39m\u001b[33mEven:\u001b[39m\u001b[33m\"\u001b[39m, even)\n\u001b[32m     10\u001b[39m \u001b[38;5;28mprint\u001b[39m(\u001b[33m\"\u001b[39m\u001b[33mOdd:\u001b[39m\u001b[33m\"\u001b[39m, odd)\n",
      "\u001b[31mAttributeError\u001b[39m: 'dict' object has no attribute 'add'"
     ]
    }
   ],
   "source": [
    "Set1 = {1, 2, 3, 4, 5, 6}\n",
    "even = {}\n",
    "odd = {}\n",
    "for i in Set1:\n",
    "    if i % 2 == 0:\n",
    "        even.add(i)\n",
    "    else:\n",
    "        odd.add(i)\n",
    "print(\"Even:\", even)\n",
    "print(\"Odd:\", odd)\n",
    "\n"
   ]
  },
  {
   "cell_type": "code",
   "execution_count": 5,
   "id": "eb061c0e-b091-47cd-9ace-20f81f4d12b3",
   "metadata": {},
   "outputs": [
    {
     "name": "stdout",
     "output_type": "stream",
     "text": [
      "Even: [2, 4, 6]\n",
      "Odd: [1, 3, 5]\n"
     ]
    }
   ],
   "source": [
    "List= [1, 2, 3, 4, 5, 6]\n",
    "even = []\n",
    "odd = []\n",
    "for i in List:\n",
    "    if i % 2 == 0:\n",
    "        even.append(i)\n",
    "    else:\n",
    "        odd.append(i)\n",
    "print(\"Even:\", even)\n",
    "print(\"Odd:\", odd)\n",
    "\n"
   ]
  },
  {
   "cell_type": "code",
   "execution_count": null,
   "id": "2427c61a-9500-4171-9711-740c605a3065",
   "metadata": {},
   "outputs": [],
   "source": []
  }
 ],
 "metadata": {
  "kernelspec": {
   "display_name": "Python 3 (ipykernel)",
   "language": "python",
   "name": "python3"
  },
  "language_info": {
   "codemirror_mode": {
    "name": "ipython",
    "version": 3
   },
   "file_extension": ".py",
   "mimetype": "text/x-python",
   "name": "python",
   "nbconvert_exporter": "python",
   "pygments_lexer": "ipython3",
   "version": "3.13.5"
  }
 },
 "nbformat": 4,
 "nbformat_minor": 5
}
