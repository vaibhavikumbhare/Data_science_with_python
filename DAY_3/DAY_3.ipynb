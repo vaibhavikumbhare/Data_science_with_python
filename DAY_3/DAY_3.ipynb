{
 "cells": [
  {
   "cell_type": "markdown",
   "id": "e48907b3-22df-44c8-9be6-25f5bc7b71da",
   "metadata": {},
   "source": [
    "# List"
   ]
  },
  {
   "cell_type": "code",
   "execution_count": 1,
   "id": "9f078307-99a5-406a-95a5-23c5a995e962",
   "metadata": {},
   "outputs": [
    {
     "name": "stdout",
     "output_type": "stream",
     "text": [
      "['Maharastra', 1, 0.5, 'vaibhavi']\n"
     ]
    }
   ],
   "source": [
    "List=[\"Maharastra\",1,0.5,\"vaibhavi\"]\n",
    "print(List)"
   ]
  },
  {
   "cell_type": "code",
   "execution_count": 3,
   "id": "b7dc4e22-e6ab-43f9-8d14-523ee94e818c",
   "metadata": {},
   "outputs": [
    {
     "name": "stdout",
     "output_type": "stream",
     "text": [
      "Maharastra\n"
     ]
    }
   ],
   "source": [
    "print(List[0])"
   ]
  },
  {
   "cell_type": "code",
   "execution_count": 4,
   "id": "da4f461d-3daf-478d-ad2f-de733a1190eb",
   "metadata": {},
   "outputs": [
    {
     "name": "stdout",
     "output_type": "stream",
     "text": [
      "vaibhavi\n"
     ]
    }
   ],
   "source": [
    "print(List[-1])"
   ]
  },
  {
   "cell_type": "code",
   "execution_count": 5,
   "id": "50c625f0-535a-4bbb-ab18-945ef0911a7c",
   "metadata": {},
   "outputs": [
    {
     "name": "stdout",
     "output_type": "stream",
     "text": [
      "0.5\n"
     ]
    }
   ],
   "source": [
    "print(List[-2])"
   ]
  },
  {
   "cell_type": "code",
   "execution_count": 10,
   "id": "b50a73ab-c787-4c5a-859d-9fd9b5ac0028",
   "metadata": {},
   "outputs": [
    {
     "name": "stdout",
     "output_type": "stream",
     "text": [
      "['Maharastra', 1, 0.5, 'vaibhavi', 'goa', 'goa', 'goa', 'goa', 'goa']\n"
     ]
    }
   ],
   "source": [
    "List.append(\"goa\")\n",
    "print(List)"
   ]
  },
  {
   "cell_type": "code",
   "execution_count": 17,
   "id": "28f4f9da-9995-46e6-b45e-f6b224099ae6",
   "metadata": {},
   "outputs": [
    {
     "name": "stdout",
     "output_type": "stream",
     "text": [
      "['Maharastra', 2, 1, 0.5, 'vaibhavi', 'goa', 'hii', 2, 2, 2, 'goa', 'goa', 'goa', 'goa']\n"
     ]
    }
   ],
   "source": [
    "List.insert(6,\"hii\")\n",
    "print(List)"
   ]
  },
  {
   "cell_type": "code",
   "execution_count": 21,
   "id": "53957fdc-6498-4a67-8e8b-a090fb978330",
   "metadata": {},
   "outputs": [
    {
     "name": "stdout",
     "output_type": "stream",
     "text": [
      "['Maharastra', 2, 'vaibhavi', 'goa', 'hii', 2, 2, 2, 'goa', 'goa', 'goa', 'goa']\n"
     ]
    }
   ],
   "source": [
    "List.remove(0.5)\n",
    "print(List)"
   ]
  },
  {
   "cell_type": "code",
   "execution_count": 28,
   "id": "4b0d8ca4-56e8-4763-a823-a79bd938b32d",
   "metadata": {},
   "outputs": [
    {
     "name": "stdout",
     "output_type": "stream",
     "text": [
      "['Maharastra', 2, 'vaibhavi', 'goa', 'hii', 2, 2, 'goa']\n"
     ]
    }
   ],
   "source": [
    "List.pop()\n",
    "print(List)"
   ]
  },
  {
   "cell_type": "code",
   "execution_count": 34,
   "id": "6f0f3bff-af61-4936-96c3-fb2371e3866a",
   "metadata": {},
   "outputs": [
    {
     "name": "stdout",
     "output_type": "stream",
     "text": [
      "3\n"
     ]
    }
   ],
   "source": [
    "\n",
    "print(List.index(\"goa\"))"
   ]
  },
  {
   "cell_type": "code",
   "execution_count": 36,
   "id": "e6bf1250-0f3c-4848-b75b-e93dbd2fbd9c",
   "metadata": {},
   "outputs": [
    {
     "name": "stdout",
     "output_type": "stream",
     "text": [
      "2\n"
     ]
    }
   ],
   "source": [
    "print(List.count(\"goa\"))"
   ]
  },
  {
   "cell_type": "code",
   "execution_count": 39,
   "id": "55b38f1e-3aa3-45ab-b4ee-b3835b833a29",
   "metadata": {},
   "outputs": [
    {
     "name": "stdout",
     "output_type": "stream",
     "text": [
      "[2, 3, 6, 10, 19, 20, 22, 24, 31, 45, 67]\n"
     ]
    }
   ],
   "source": [
    "list2=[10,2,22,45,67,6,24,19,3,31,20]\n",
    "list2.sort()\n",
    "print(list2)"
   ]
  },
  {
   "cell_type": "code",
   "execution_count": 40,
   "id": "a48dfb26-cc30-4439-86fe-e65fe1dc8674",
   "metadata": {},
   "outputs": [
    {
     "name": "stdout",
     "output_type": "stream",
     "text": [
      "[67, 45, 31, 24, 22, 20, 19, 10, 6, 3, 2]\n"
     ]
    }
   ],
   "source": [
    "list2.reverse()\n",
    "print(list2)"
   ]
  },
  {
   "cell_type": "code",
   "execution_count": 50,
   "id": "cbf0afcb-fb2b-4373-a788-85b0853feafb",
   "metadata": {},
   "outputs": [
    {
     "data": {
      "text/plain": [
       "11"
      ]
     },
     "execution_count": 50,
     "metadata": {},
     "output_type": "execute_result"
    }
   ],
   "source": [
    "len(list2)"
   ]
  },
  {
   "cell_type": "code",
   "execution_count": 56,
   "id": "82f52789-b105-4eeb-99b2-2d0bfc4975e3",
   "metadata": {},
   "outputs": [
    {
     "name": "stdout",
     "output_type": "stream",
     "text": [
      "67\n",
      "45\n",
      "31\n",
      "24\n",
      "22\n",
      "20\n",
      "19\n",
      "10\n",
      "6\n",
      "3\n",
      "2\n"
     ]
    }
   ],
   "source": [
    "for i in range(0,len(list2)):\n",
    "    print(list2[i])"
   ]
  },
  {
   "cell_type": "markdown",
   "id": "65cb0c59-2eff-4938-ba46-852d2481be83",
   "metadata": {},
   "source": [
    "# Tuple"
   ]
  },
  {
   "cell_type": "code",
   "execution_count": 57,
   "id": "c270a4b6-790d-47e1-89aa-adbe9679a5ec",
   "metadata": {},
   "outputs": [
    {
     "name": "stdout",
     "output_type": "stream",
     "text": [
      "('Solapur', 'Pune', 'Mumbai', 'Delhi')\n"
     ]
    }
   ],
   "source": [
    "cities=(\"Solapur\",\"Pune\",\"Mumbai\",\"Delhi\")\n",
    "print(cities)"
   ]
  },
  {
   "cell_type": "code",
   "execution_count": 59,
   "id": "461c289f-57ab-4287-a750-588747a6ba51",
   "metadata": {},
   "outputs": [
    {
     "data": {
      "text/plain": [
       "1"
      ]
     },
     "execution_count": 59,
     "metadata": {},
     "output_type": "execute_result"
    }
   ],
   "source": [
    "cities.count(\"Mumbai\")"
   ]
  },
  {
   "cell_type": "code",
   "execution_count": 60,
   "id": "f2ef7d1f-74f6-43ec-9ad9-c6fec2413bc9",
   "metadata": {},
   "outputs": [
    {
     "data": {
      "text/plain": [
       "3"
      ]
     },
     "execution_count": 60,
     "metadata": {},
     "output_type": "execute_result"
    }
   ],
   "source": [
    "cities.index(\"Delhi\")"
   ]
  },
  {
   "cell_type": "code",
   "execution_count": 61,
   "id": "688107eb-4e58-407e-bdc0-867d2c80db0c",
   "metadata": {},
   "outputs": [
    {
     "data": {
      "text/plain": [
       "4"
      ]
     },
     "execution_count": 61,
     "metadata": {},
     "output_type": "execute_result"
    }
   ],
   "source": [
    "len(cities)"
   ]
  },
  {
   "cell_type": "code",
   "execution_count": 62,
   "id": "6e73dbcd-10fb-47e9-aeb8-b2f3f56f6646",
   "metadata": {},
   "outputs": [
    {
     "name": "stdout",
     "output_type": "stream",
     "text": [
      "Pune\n"
     ]
    }
   ],
   "source": [
    "print(cities[1])"
   ]
  },
  {
   "cell_type": "code",
   "execution_count": 66,
   "id": "1cf43479-4003-445a-8956-2e6665309547",
   "metadata": {},
   "outputs": [
    {
     "name": "stdout",
     "output_type": "stream",
     "text": [
      "Solapur\n",
      "Pune\n",
      "Mumbai\n",
      "Delhi\n"
     ]
    }
   ],
   "source": [
    "for i in range(0,len(cities)):\n",
    "    print(cities[i])#i\n"
   ]
  },
  {
   "cell_type": "markdown",
   "id": "834a853f-9316-4d6e-8649-da8899220ac9",
   "metadata": {},
   "source": [
    "# Sets"
   ]
  },
  {
   "cell_type": "code",
   "execution_count": 72,
   "id": "fa19ca81-41bc-4a51-a9ed-d976d4ae8358",
   "metadata": {},
   "outputs": [
    {
     "name": "stdout",
     "output_type": "stream",
     "text": [
      "{'orange', 'kiwi', 'mango', 'fig'}\n"
     ]
    }
   ],
   "source": [
    "fruits={\"mango\",\"kiwi\",\"fig\",\"orange\"}\n",
    "print(fruits)"
   ]
  },
  {
   "cell_type": "code",
   "execution_count": 73,
   "id": "64f1b2ea-2485-4c9d-94f9-40da55445c0b",
   "metadata": {},
   "outputs": [
    {
     "name": "stdout",
     "output_type": "stream",
     "text": [
      "{'orange', 'banana', 'fig', 'kiwi', 'mango'}\n"
     ]
    }
   ],
   "source": [
    "fruits.add(\"banana\")\n",
    "print(fruits)"
   ]
  },
  {
   "cell_type": "code",
   "execution_count": 74,
   "id": "9d26358a-9a28-4f9e-ad2a-48234933f505",
   "metadata": {},
   "outputs": [
    {
     "name": "stdout",
     "output_type": "stream",
     "text": [
      "{'orange', 'banana', 'kiwi', 'mango'}\n"
     ]
    }
   ],
   "source": [
    "fruits.remove(\"fig\")\n",
    "print(fruits)"
   ]
  },
  {
   "cell_type": "code",
   "execution_count": 76,
   "id": "653bcf70-e5e5-42fc-a692-72d9154e3de8",
   "metadata": {},
   "outputs": [
    {
     "name": "stdout",
     "output_type": "stream",
     "text": [
      "{'orange', 'banana', 'kiwi', 'mango'}\n"
     ]
    }
   ],
   "source": []
  },
  {
   "cell_type": "code",
   "execution_count": 79,
   "id": "6fd824a4-b8a4-48c7-9812-dbd59ff768fb",
   "metadata": {},
   "outputs": [
    {
     "name": "stdout",
     "output_type": "stream",
     "text": [
      "{1, 2, 'vaibhavi', 5, 6, 'ok'}\n"
     ]
    }
   ],
   "source": [
    "set1={1,2,\"vaibhavi\"}\n",
    "set2={\"ok\",5,6}\n",
    "set3=set1.union(set2)\n",
    "print(set3)"
   ]
  },
  {
   "cell_type": "code",
   "execution_count": 84,
   "id": "49bc1aab-a888-4715-9292-b913515f5442",
   "metadata": {},
   "outputs": [
    {
     "name": "stdout",
     "output_type": "stream",
     "text": [
      "{3, 4, 6}\n"
     ]
    }
   ],
   "source": [
    "set1={1,2,3,4,6}\n",
    "set2={4,5,6,7,3}\n",
    "set3=set1.intersection(set2)\n",
    "print(set3)"
   ]
  },
  {
   "cell_type": "code",
   "execution_count": 90,
   "id": "4c83feac-43c2-4d11-b53b-0536ca4da250",
   "metadata": {},
   "outputs": [
    {
     "name": "stdout",
     "output_type": "stream",
     "text": [
      "{5, 7}\n"
     ]
    }
   ],
   "source": [
    "set1={1,2,3,4,6}\n",
    "set2={4,5,6,7,3}\n",
    "set3=set2.difference(set1)\n",
    "print(set3)"
   ]
  },
  {
   "cell_type": "code",
   "execution_count": 92,
   "id": "019f1500-12ed-4279-80d6-fd699b5776fc",
   "metadata": {},
   "outputs": [
    {
     "name": "stdout",
     "output_type": "stream",
     "text": [
      "5\n"
     ]
    }
   ],
   "source": [
    "set1={1,2,3,4,6}\n",
    "print(len(set1))"
   ]
  },
  {
   "cell_type": "code",
   "execution_count": null,
   "id": "5e1318c1-1c90-4cf7-ae40-b3cacc392e59",
   "metadata": {},
   "outputs": [],
   "source": []
  }
 ],
 "metadata": {
  "kernelspec": {
   "display_name": "Python 3 (ipykernel)",
   "language": "python",
   "name": "python3"
  },
  "language_info": {
   "codemirror_mode": {
    "name": "ipython",
    "version": 3
   },
   "file_extension": ".py",
   "mimetype": "text/x-python",
   "name": "python",
   "nbconvert_exporter": "python",
   "pygments_lexer": "ipython3",
   "version": "3.13.5"
  }
 },
 "nbformat": 4,
 "nbformat_minor": 5
}
