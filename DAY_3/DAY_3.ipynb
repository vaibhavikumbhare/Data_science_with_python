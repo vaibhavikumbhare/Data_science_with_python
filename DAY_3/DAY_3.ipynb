{
 "cells": [
  {
   "cell_type": "markdown",
   "id": "e48907b3-22df-44c8-9be6-25f5bc7b71da",
   "metadata": {},
   "source": [
    "# List"
   ]
  },
  {
   "cell_type": "markdown",
   "id": "f6356eb5-2253-4509-b386-11bc5ca35ce5",
   "metadata": {},
   "source": [
    "#### create List"
   ]
  },
  {
   "cell_type": "code",
   "execution_count": 4,
   "id": "9f078307-99a5-406a-95a5-23c5a995e962",
   "metadata": {},
   "outputs": [
    {
     "name": "stdout",
     "output_type": "stream",
     "text": [
      "['Maharastra', 1, 0.5, 'vaibhavi']\n"
     ]
    }
   ],
   "source": [
    "List=[\"Maharastra\",1,0.5,\"vaibhavi\"]\n",
    "print(List)"
   ]
  },
  {
   "cell_type": "markdown",
   "id": "3bad11dd-6dd6-42d9-926d-9a8c81bfea1f",
   "metadata": {},
   "source": [
    "#### Print 0th index of Number"
   ]
  },
  {
   "cell_type": "code",
   "execution_count": 5,
   "id": "b7dc4e22-e6ab-43f9-8d14-523ee94e818c",
   "metadata": {},
   "outputs": [
    {
     "name": "stdout",
     "output_type": "stream",
     "text": [
      "Maharastra\n"
     ]
    }
   ],
   "source": [
    "print(List[0])"
   ]
  },
  {
   "cell_type": "markdown",
   "id": "e0e9078b-0a54-49c3-a143-511f8a0e1648",
   "metadata": {},
   "source": [
    "#### Print last Number of list as -1"
   ]
  },
  {
   "cell_type": "code",
   "execution_count": 6,
   "id": "da4f461d-3daf-478d-ad2f-de733a1190eb",
   "metadata": {},
   "outputs": [
    {
     "name": "stdout",
     "output_type": "stream",
     "text": [
      "vaibhavi\n"
     ]
    }
   ],
   "source": [
    "print(List[-1])"
   ]
  },
  {
   "cell_type": "code",
   "execution_count": 7,
   "id": "50c625f0-535a-4bbb-ab18-945ef0911a7c",
   "metadata": {},
   "outputs": [
    {
     "name": "stdout",
     "output_type": "stream",
     "text": [
      "0.5\n"
     ]
    }
   ],
   "source": [
    "print(List[-2])"
   ]
  },
  {
   "cell_type": "markdown",
   "id": "3fdc2d74-ebe3-4d32-bfdc-911de7ea09f0",
   "metadata": {},
   "source": [
    "#### append()  Adds an item at the end of the list"
   ]
  },
  {
   "cell_type": "code",
   "execution_count": 8,
   "id": "b50a73ab-c787-4c5a-859d-9fd9b5ac0028",
   "metadata": {},
   "outputs": [
    {
     "name": "stdout",
     "output_type": "stream",
     "text": [
      "['Maharastra', 1, 0.5, 'vaibhavi', 'goa']\n"
     ]
    }
   ],
   "source": [
    "List.append(\"goa\")\n",
    "print(List)"
   ]
  },
  {
   "cell_type": "markdown",
   "id": "16b1eede-fee1-4ac7-933d-2309ae222f79",
   "metadata": {},
   "source": [
    "#### insert() Inserts an item at specified index"
   ]
  },
  {
   "cell_type": "code",
   "execution_count": 9,
   "id": "28f4f9da-9995-46e6-b45e-f6b224099ae6",
   "metadata": {},
   "outputs": [
    {
     "name": "stdout",
     "output_type": "stream",
     "text": [
      "['Maharastra', 1, 0.5, 'vaibhavi', 'goa', 'hii']\n"
     ]
    }
   ],
   "source": [
    "List.insert(6,\"hii\")\n",
    "print(List)"
   ]
  },
  {
   "cell_type": "markdown",
   "id": "bd8014fc-2970-442d-87b5-da177ce19e37",
   "metadata": {},
   "source": [
    "#### remove() Removes first matching item "
   ]
  },
  {
   "cell_type": "code",
   "execution_count": 10,
   "id": "53957fdc-6498-4a67-8e8b-a090fb978330",
   "metadata": {},
   "outputs": [
    {
     "name": "stdout",
     "output_type": "stream",
     "text": [
      "['Maharastra', 1, 'vaibhavi', 'goa', 'hii']\n"
     ]
    }
   ],
   "source": [
    "List.remove(0.5)\n",
    "print(List)"
   ]
  },
  {
   "cell_type": "markdown",
   "id": "b46a3c00-abc3-486d-8d35-391ba3558d67",
   "metadata": {},
   "source": [
    "####  pop() Removes item at given index (default last) and returns it"
   ]
  },
  {
   "cell_type": "code",
   "execution_count": 11,
   "id": "4b0d8ca4-56e8-4763-a823-a79bd938b32d",
   "metadata": {},
   "outputs": [
    {
     "name": "stdout",
     "output_type": "stream",
     "text": [
      "['Maharastra', 1, 'vaibhavi', 'goa']\n"
     ]
    }
   ],
   "source": [
    "List.pop()\n",
    "print(List)"
   ]
  },
  {
   "cell_type": "markdown",
   "id": "9f10d18b-de83-4b5e-907e-224278eba4ef",
   "metadata": {},
   "source": [
    "#### index() Returns index of first matching item"
   ]
  },
  {
   "cell_type": "code",
   "execution_count": 12,
   "id": "6f0f3bff-af61-4936-96c3-fb2371e3866a",
   "metadata": {},
   "outputs": [
    {
     "name": "stdout",
     "output_type": "stream",
     "text": [
      "3\n"
     ]
    }
   ],
   "source": [
    "\n",
    "print(List.index(\"goa\"))"
   ]
  },
  {
   "cell_type": "markdown",
   "id": "242dd7c3-0169-4ade-b5ee-cf8cf1ade8c5",
   "metadata": {},
   "source": [
    "#### count() Counts how many times an item occurs"
   ]
  },
  {
   "cell_type": "code",
   "execution_count": 13,
   "id": "e6bf1250-0f3c-4848-b75b-e93dbd2fbd9c",
   "metadata": {},
   "outputs": [
    {
     "name": "stdout",
     "output_type": "stream",
     "text": [
      "1\n"
     ]
    }
   ],
   "source": [
    "print(List.count(\"goa\"))"
   ]
  },
  {
   "cell_type": "code",
   "execution_count": null,
   "id": "362223d4-5c40-415b-afdb-5e6b682fcd71",
   "metadata": {},
   "outputs": [],
   "source": [
    "#sort()"
   ]
  },
  {
   "cell_type": "code",
   "execution_count": 14,
   "id": "55b38f1e-3aa3-45ab-b4ee-b3835b833a29",
   "metadata": {},
   "outputs": [
    {
     "name": "stdout",
     "output_type": "stream",
     "text": [
      "[2, 3, 6, 10, 19, 20, 22, 24, 31, 45, 67]\n"
     ]
    }
   ],
   "source": [
    "list2=[10,2,22,45,67,6,24,19,3,31,20]\n",
    "list2.sort()\n",
    "print(list2)"
   ]
  },
  {
   "cell_type": "code",
   "execution_count": null,
   "id": "a3e1a08f-739a-4544-89ea-a1a454536e72",
   "metadata": {},
   "outputs": [],
   "source": [
    "#reverse()"
   ]
  },
  {
   "cell_type": "code",
   "execution_count": 15,
   "id": "a48dfb26-cc30-4439-86fe-e65fe1dc8674",
   "metadata": {},
   "outputs": [
    {
     "name": "stdout",
     "output_type": "stream",
     "text": [
      "[67, 45, 31, 24, 22, 20, 19, 10, 6, 3, 2]\n"
     ]
    }
   ],
   "source": [
    "list2.reverse()\n",
    "print(list2)"
   ]
  },
  {
   "cell_type": "code",
   "execution_count": null,
   "id": "bce7c3b1-f203-48c8-9c4f-03d7893f4628",
   "metadata": {},
   "outputs": [],
   "source": [
    "#len()"
   ]
  },
  {
   "cell_type": "code",
   "execution_count": 16,
   "id": "cbf0afcb-fb2b-4373-a788-85b0853feafb",
   "metadata": {},
   "outputs": [
    {
     "data": {
      "text/plain": [
       "11"
      ]
     },
     "execution_count": 16,
     "metadata": {},
     "output_type": "execute_result"
    }
   ],
   "source": [
    "len(list2)"
   ]
  },
  {
   "cell_type": "code",
   "execution_count": null,
   "id": "18f5e382-bf35-4300-93d1-3239a6e2a5c2",
   "metadata": {},
   "outputs": [],
   "source": [
    "# for loop using len()"
   ]
  },
  {
   "cell_type": "code",
   "execution_count": 17,
   "id": "82f52789-b105-4eeb-99b2-2d0bfc4975e3",
   "metadata": {},
   "outputs": [
    {
     "name": "stdout",
     "output_type": "stream",
     "text": [
      "67\n",
      "45\n",
      "31\n",
      "24\n",
      "22\n",
      "20\n",
      "19\n",
      "10\n",
      "6\n",
      "3\n",
      "2\n"
     ]
    }
   ],
   "source": [
    "for i in range(0,len(list2)):\n",
    "    print(list2[i])"
   ]
  },
  {
   "cell_type": "markdown",
   "id": "65cb0c59-2eff-4938-ba46-852d2481be83",
   "metadata": {},
   "source": [
    "# Tuple"
   ]
  },
  {
   "cell_type": "code",
   "execution_count": null,
   "id": "21cb8226-0efc-4cf6-a4b5-ea6f1dc65f9d",
   "metadata": {},
   "outputs": [],
   "source": [
    "#create tuple"
   ]
  },
  {
   "cell_type": "code",
   "execution_count": 18,
   "id": "c270a4b6-790d-47e1-89aa-adbe9679a5ec",
   "metadata": {},
   "outputs": [
    {
     "name": "stdout",
     "output_type": "stream",
     "text": [
      "('Solapur', 'Pune', 'Mumbai', 'Delhi')\n"
     ]
    }
   ],
   "source": [
    "cities=(\"Solapur\",\"Pune\",\"Mumbai\",\"Delhi\")\n",
    "print(cities)"
   ]
  },
  {
   "cell_type": "code",
   "execution_count": null,
   "id": "90af0607-d0fe-4ef2-9ceb-80bf92e2f1dd",
   "metadata": {},
   "outputs": [],
   "source": [
    "#count()"
   ]
  },
  {
   "cell_type": "code",
   "execution_count": 19,
   "id": "461c289f-57ab-4287-a750-588747a6ba51",
   "metadata": {},
   "outputs": [
    {
     "data": {
      "text/plain": [
       "1"
      ]
     },
     "execution_count": 19,
     "metadata": {},
     "output_type": "execute_result"
    }
   ],
   "source": [
    "cities.count(\"Mumbai\")"
   ]
  },
  {
   "cell_type": "code",
   "execution_count": null,
   "id": "71ecd8dd-0ebc-4b83-9f45-ff88065915c9",
   "metadata": {},
   "outputs": [],
   "source": [
    "#index()"
   ]
  },
  {
   "cell_type": "code",
   "execution_count": 20,
   "id": "f2ef7d1f-74f6-43ec-9ad9-c6fec2413bc9",
   "metadata": {},
   "outputs": [
    {
     "data": {
      "text/plain": [
       "3"
      ]
     },
     "execution_count": 20,
     "metadata": {},
     "output_type": "execute_result"
    }
   ],
   "source": [
    "cities.index(\"Delhi\")"
   ]
  },
  {
   "cell_type": "code",
   "execution_count": null,
   "id": "b90f16a0-17ea-4005-878e-178cdfd4e7ce",
   "metadata": {},
   "outputs": [],
   "source": [
    "#len()"
   ]
  },
  {
   "cell_type": "code",
   "execution_count": 21,
   "id": "688107eb-4e58-407e-bdc0-867d2c80db0c",
   "metadata": {},
   "outputs": [
    {
     "data": {
      "text/plain": [
       "4"
      ]
     },
     "execution_count": 21,
     "metadata": {},
     "output_type": "execute_result"
    }
   ],
   "source": [
    "len(cities)"
   ]
  },
  {
   "cell_type": "code",
   "execution_count": null,
   "id": "2ee8aaf7-0c58-4b81-8576-e1b78f6fc35b",
   "metadata": {},
   "outputs": [],
   "source": [
    "# print tuple"
   ]
  },
  {
   "cell_type": "code",
   "execution_count": 22,
   "id": "6e73dbcd-10fb-47e9-aeb8-b2f3f56f6646",
   "metadata": {},
   "outputs": [
    {
     "name": "stdout",
     "output_type": "stream",
     "text": [
      "Pune\n"
     ]
    }
   ],
   "source": [
    "print(cities[1])"
   ]
  },
  {
   "cell_type": "code",
   "execution_count": null,
   "id": "0558d0d4-9247-46b8-a90c-68375e11e7d0",
   "metadata": {},
   "outputs": [],
   "source": [
    "#len"
   ]
  },
  {
   "cell_type": "code",
   "execution_count": 23,
   "id": "1cf43479-4003-445a-8956-2e6665309547",
   "metadata": {},
   "outputs": [
    {
     "name": "stdout",
     "output_type": "stream",
     "text": [
      "Solapur\n",
      "Pune\n",
      "Mumbai\n",
      "Delhi\n"
     ]
    }
   ],
   "source": [
    "for i in range(0,len(cities)):\n",
    "    print(cities[i])#i\n"
   ]
  },
  {
   "cell_type": "markdown",
   "id": "834a853f-9316-4d6e-8649-da8899220ac9",
   "metadata": {},
   "source": [
    "# Sets"
   ]
  },
  {
   "cell_type": "code",
   "execution_count": null,
   "id": "f2f457f2-6808-4edb-b3d9-1eb9ca00d720",
   "metadata": {},
   "outputs": [],
   "source": [
    "#sets"
   ]
  },
  {
   "cell_type": "code",
   "execution_count": 24,
   "id": "fa19ca81-41bc-4a51-a9ed-d976d4ae8358",
   "metadata": {},
   "outputs": [
    {
     "name": "stdout",
     "output_type": "stream",
     "text": [
      "{'fig', 'mango', 'kiwi', 'orange'}\n"
     ]
    }
   ],
   "source": [
    "fruits={\"mango\",\"kiwi\",\"fig\",\"orange\"}\n",
    "print(fruits)"
   ]
  },
  {
   "cell_type": "code",
   "execution_count": null,
   "id": "5c1660fd-213c-4b3b-8d88-e316af15181f",
   "metadata": {},
   "outputs": [],
   "source": [
    "#add()"
   ]
  },
  {
   "cell_type": "code",
   "execution_count": 25,
   "id": "64f1b2ea-2485-4c9d-94f9-40da55445c0b",
   "metadata": {},
   "outputs": [
    {
     "name": "stdout",
     "output_type": "stream",
     "text": [
      "{'mango', 'fig', 'kiwi', 'banana', 'orange'}\n"
     ]
    }
   ],
   "source": [
    "fruits.add(\"banana\")\n",
    "print(fruits)"
   ]
  },
  {
   "cell_type": "code",
   "execution_count": null,
   "id": "c6ed2415-137f-49ba-a342-d6ecf3cd8352",
   "metadata": {},
   "outputs": [],
   "source": [
    "#remove()"
   ]
  },
  {
   "cell_type": "code",
   "execution_count": 26,
   "id": "9d26358a-9a28-4f9e-ad2a-48234933f505",
   "metadata": {},
   "outputs": [
    {
     "name": "stdout",
     "output_type": "stream",
     "text": [
      "{'mango', 'kiwi', 'banana', 'orange'}\n"
     ]
    }
   ],
   "source": [
    "fruits.remove(\"fig\")\n",
    "print(fruits)"
   ]
  },
  {
   "cell_type": "code",
   "execution_count": null,
   "id": "653bcf70-e5e5-42fc-a692-72d9154e3de8",
   "metadata": {},
   "outputs": [],
   "source": [
    "# union()"
   ]
  },
  {
   "cell_type": "code",
   "execution_count": 27,
   "id": "6fd824a4-b8a4-48c7-9812-dbd59ff768fb",
   "metadata": {},
   "outputs": [
    {
     "name": "stdout",
     "output_type": "stream",
     "text": [
      "{1, 2, 5, 6, 'vaibhavi', 'ok'}\n"
     ]
    }
   ],
   "source": [
    "set1={1,2,\"vaibhavi\"}\n",
    "set2={\"ok\",5,6}\n",
    "set3=set1.union(set2)\n",
    "print(set3)"
   ]
  },
  {
   "cell_type": "code",
   "execution_count": null,
   "id": "606bdae2-36e3-46b7-b2a2-fdca20bc49c7",
   "metadata": {},
   "outputs": [],
   "source": [
    "# intersection()"
   ]
  },
  {
   "cell_type": "code",
   "execution_count": 28,
   "id": "49bc1aab-a888-4715-9292-b913515f5442",
   "metadata": {},
   "outputs": [
    {
     "name": "stdout",
     "output_type": "stream",
     "text": [
      "{3, 4, 6}\n"
     ]
    }
   ],
   "source": [
    "set1={1,2,3,4,6}\n",
    "set2={4,5,6,7,3}\n",
    "set3=set1.intersection(set2)\n",
    "print(set3)"
   ]
  },
  {
   "cell_type": "code",
   "execution_count": null,
   "id": "5a120c2a-bf74-4bbe-a507-add5f1be4760",
   "metadata": {},
   "outputs": [],
   "source": [
    "# difference()"
   ]
  },
  {
   "cell_type": "code",
   "execution_count": 29,
   "id": "4c83feac-43c2-4d11-b53b-0536ca4da250",
   "metadata": {},
   "outputs": [
    {
     "name": "stdout",
     "output_type": "stream",
     "text": [
      "{5, 7}\n"
     ]
    }
   ],
   "source": [
    "set1={1,2,3,4,6}\n",
    "set2={4,5,6,7,3}\n",
    "set3=set2.difference(set1)\n",
    "print(set3)"
   ]
  },
  {
   "cell_type": "code",
   "execution_count": 30,
   "id": "019f1500-12ed-4279-80d6-fd699b5776fc",
   "metadata": {},
   "outputs": [
    {
     "name": "stdout",
     "output_type": "stream",
     "text": [
      "5\n"
     ]
    }
   ],
   "source": [
    "set1={1,2,3,4,6}\n",
    "print(len(set1))"
   ]
  },
  {
   "cell_type": "code",
   "execution_count": null,
   "id": "5e1318c1-1c90-4cf7-ae40-b3cacc392e59",
   "metadata": {},
   "outputs": [],
   "source": []
  }
 ],
 "metadata": {
  "kernelspec": {
   "display_name": "Python 3 (ipykernel)",
   "language": "python",
   "name": "python3"
  },
  "language_info": {
   "codemirror_mode": {
    "name": "ipython",
    "version": 3
   },
   "file_extension": ".py",
   "mimetype": "text/x-python",
   "name": "python",
   "nbconvert_exporter": "python",
   "pygments_lexer": "ipython3",
   "version": "3.13.5"
  }
 },
 "nbformat": 4,
 "nbformat_minor": 5
}
