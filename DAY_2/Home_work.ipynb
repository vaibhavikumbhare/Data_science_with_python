{
 "cells": [
  {
   "cell_type": "markdown",
   "id": "8f56adb5-97fe-4adb-afc1-d9521df962ee",
   "metadata": {},
   "source": [
    "# Print Even Numbers 1 to 10 Using Range"
   ]
  },
  {
   "cell_type": "code",
   "execution_count": 7,
   "id": "cde7dbb9-c195-4e26-bf58-ebd2c5a82c32",
   "metadata": {},
   "outputs": [
    {
     "name": "stdout",
     "output_type": "stream",
     "text": [
      "2\n",
      "4\n",
      "6\n",
      "8\n",
      "10\n"
     ]
    }
   ],
   "source": [
    "for i in range (1,11):\n",
    "    if i%2==0:\n",
    "        print(i)\n",
    "    "
   ]
  },
  {
   "cell_type": "markdown",
   "id": "b0554749-28a8-43d9-a411-4fba207df3e5",
   "metadata": {},
   "source": [
    "# Print only even numbers betn 1 to 10 using CONTINUE "
   ]
  },
  {
   "cell_type": "code",
   "execution_count": 11,
   "id": "fe6b9d88-fc59-4953-9c46-a4ac40d92e7b",
   "metadata": {},
   "outputs": [
    {
     "name": "stdout",
     "output_type": "stream",
     "text": [
      "2\n",
      "4\n",
      "6\n",
      "8\n",
      "10\n"
     ]
    }
   ],
   "source": [
    "for i in range (1,11):\n",
    "    if i%2!=0:\n",
    "        continue\n",
    "    print(i)"
   ]
  },
  {
   "cell_type": "markdown",
   "id": "c94f47b5-0c13-4b3c-add4-936dd7d6157f",
   "metadata": {},
   "source": [
    "# Print prime numbers"
   ]
  },
  {
   "cell_type": "code",
   "execution_count": 20,
   "id": "5462323d-0ff4-4eca-9e82-a48c60c80a6d",
   "metadata": {},
   "outputs": [],
   "source": [
    "    for i in range(2,10):\n",
    "        if 10 % i == 0:\n",
    "            break\n",
    "        else:\n",
    "            print(i)\n",
    "            break"
   ]
  },
  {
   "cell_type": "code",
   "execution_count": null,
   "id": "6ffeeb69-cbc1-463a-9b9e-56505020b88f",
   "metadata": {},
   "outputs": [],
   "source": []
  }
 ],
 "metadata": {
  "kernelspec": {
   "display_name": "Python 3 (ipykernel)",
   "language": "python",
   "name": "python3"
  },
  "language_info": {
   "codemirror_mode": {
    "name": "ipython",
    "version": 3
   },
   "file_extension": ".py",
   "mimetype": "text/x-python",
   "name": "python",
   "nbconvert_exporter": "python",
   "pygments_lexer": "ipython3",
   "version": "3.13.5"
  }
 },
 "nbformat": 4,
 "nbformat_minor": 5
}
