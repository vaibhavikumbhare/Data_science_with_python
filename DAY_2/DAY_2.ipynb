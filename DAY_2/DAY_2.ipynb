{
 "cells": [
  {
   "cell_type": "markdown",
   "id": "5710ef13-bfde-4705-b3eb-c05dc7006bf1",
   "metadata": {},
   "source": [
    "# Loops\n"
   ]
  },
  {
   "cell_type": "code",
   "execution_count": 5,
   "id": "31e33fc6-4a3b-4533-b772-99ca5789e27a",
   "metadata": {},
   "outputs": [
    {
     "name": "stdout",
     "output_type": "stream",
     "text": [
      "0\n",
      "1\n",
      "2\n",
      "3\n",
      "4\n",
      "5\n",
      "6\n",
      "7\n",
      "8\n",
      "9\n"
     ]
    }
   ],
   "source": [
    "for i in range(9+1):\n",
    "    print(i)"
   ]
  },
  {
   "cell_type": "code",
   "execution_count": 1,
   "id": "46f9402b-0eb2-49d6-ae8a-bbcc6514d46c",
   "metadata": {},
   "outputs": [
    {
     "name": "stdout",
     "output_type": "stream",
     "text": [
      "1\n",
      "2\n",
      "3\n",
      "4\n",
      "5\n"
     ]
    }
   ],
   "source": [
    "count=1\n",
    "while count <=5:\n",
    "    print(count)\n",
    "    count=count+1"
   ]
  },
  {
   "cell_type": "code",
   "execution_count": 18,
   "id": "e9d97093-58ed-40fc-87f7-aa40d958c02c",
   "metadata": {},
   "outputs": [
    {
     "name": "stdout",
     "output_type": "stream",
     "text": [
      "1\n",
      "2\n",
      "3\n",
      "4\n"
     ]
    }
   ],
   "source": [
    "for  i in range(1,10):\n",
    "    if i==5:\n",
    "        break\n",
    "    print(i)\n",
    "    \n"
   ]
  },
  {
   "cell_type": "code",
   "execution_count": 20,
   "id": "baf276c1-6cc1-4950-b75c-941348256bf5",
   "metadata": {},
   "outputs": [
    {
     "name": "stdout",
     "output_type": "stream",
     "text": [
      "1\n",
      "2\n",
      "3\n",
      "4\n",
      "6\n",
      "7\n",
      "8\n",
      "9\n"
     ]
    }
   ],
   "source": [
    "for i in range (1,10):\n",
    "    if i==5:\n",
    "        continue\n",
    "    print(i)\n"
   ]
  },
  {
   "cell_type": "code",
   "execution_count": 19,
   "id": "520cebdc-47e0-4a67-91f6-86ce415207e3",
   "metadata": {},
   "outputs": [],
   "source": [
    "age=23\n",
    "has_id=False"
   ]
  },
  {
   "cell_type": "code",
   "execution_count": 20,
   "id": "ade42618-9a25-4bc4-8257-d867adf98340",
   "metadata": {},
   "outputs": [
    {
     "name": "stdout",
     "output_type": "stream",
     "text": [
      "entry deline\n"
     ]
    }
   ],
   "source": [
    "if age>=21 and has_id:\n",
    "    print(\"entry allowed\")\n",
    "else:\n",
    "    print(\"entry deline\")"
   ]
  },
  {
   "cell_type": "code",
   "execution_count": null,
   "id": "88c0084b-3408-481f-bad7-d517a27c26c1",
   "metadata": {},
   "outputs": [],
   "source": []
  },
  {
   "cell_type": "code",
   "execution_count": 41,
   "id": "3c343fb6-f8e5-477d-a26f-0e795b1cbe9d",
   "metadata": {},
   "outputs": [
    {
     "name": "stdout",
     "output_type": "stream",
     "text": [
      "passed\n"
     ]
    }
   ],
   "source": [
    "marks=42\n",
    "if marks>=60 or marks==42:\n",
    "    print(\"passed\")\n",
    "else:\n",
    "    print(\"fail\")"
   ]
  },
  {
   "cell_type": "code",
   "execution_count": 2,
   "id": "449293e8-0bbd-40f8-a157-f3471b379f21",
   "metadata": {},
   "outputs": [
    {
     "name": "stdout",
     "output_type": "stream",
     "text": [
      "go out side\n"
     ]
    }
   ],
   "source": [
    "is_raining=False \n",
    "if not is_raining:\n",
    "    print(\"go out side\")\n",
    "else:\n",
    "    print(\"stay inside\")"
   ]
  },
  {
   "cell_type": "code",
   "execution_count": null,
   "id": "257cb6ce-bba1-49de-9f86-5f90cf4da442",
   "metadata": {},
   "outputs": [],
   "source": []
  },
  {
   "cell_type": "code",
   "execution_count": 52,
   "id": "742bc42b-a028-41df-a0e5-db204831d227",
   "metadata": {},
   "outputs": [
    {
     "name": "stdout",
     "output_type": "stream",
     "text": [
      "5\n",
      "1\n",
      "6\n",
      "0.6666666666666666\n",
      "1\n",
      "1\n",
      "8\n"
     ]
    }
   ],
   "source": [
    "#arithmatic op\n",
    "a=2\n",
    "b=3\n",
    "print(a+b)\n",
    "print(b-a)\n",
    "print(a*b)\n",
    "print(a/b)\n",
    "print(b%a)#mod\n",
    "print(b//a)#flor div\n",
    "print(a**b)# exponent"
   ]
  },
  {
   "cell_type": "code",
   "execution_count": 61,
   "id": "fbbb6778-e1ff-468a-8905-87a4d06c5b5c",
   "metadata": {
    "scrolled": true
   },
   "outputs": [
    {
     "name": "stdout",
     "output_type": "stream",
     "text": [
      "False\n",
      "True\n",
      "False\n",
      "True\n",
      "False\n",
      "True\n"
     ]
    }
   ],
   "source": [
    " #comparision op\n",
    "x=5\n",
    "y=10\n",
    "print(x==y)#equal to\n",
    "print(x!=y)#not equal to\n",
    "print(x>y)#grater\n",
    "print(x<y)#smaller\n",
    "print(x>=y)#grater than or equal\n",
    "print(x<=y)#smaller than equal to"
   ]
  },
  {
   "cell_type": "code",
   "execution_count": 75,
   "id": "296c8186-dc8b-4b7e-b21b-b5cb44883583",
   "metadata": {},
   "outputs": [
    {
     "name": "stdout",
     "output_type": "stream",
     "text": [
      "5\n",
      "1\n",
      "2\n"
     ]
    }
   ],
   "source": [
    " #assignment op\n",
    "z=5\n",
    "print(z)\n",
    "z//=3\n",
    "print(z)\n",
    "z=z+1\n",
    "print(z)\n"
   ]
  },
  {
   "cell_type": "code",
   "execution_count": null,
   "id": "1d50ef7c-bae0-4abe-907e-053848910139",
   "metadata": {},
   "outputs": [],
   "source": []
  },
  {
   "cell_type": "code",
   "execution_count": null,
   "id": "2c809b30-4858-4112-9b30-beca453ed525",
   "metadata": {},
   "outputs": [],
   "source": []
  }
 ],
 "metadata": {
  "kernelspec": {
   "display_name": "Python 3 (ipykernel)",
   "language": "python",
   "name": "python3"
  },
  "language_info": {
   "codemirror_mode": {
    "name": "ipython",
    "version": 3
   },
   "file_extension": ".py",
   "mimetype": "text/x-python",
   "name": "python",
   "nbconvert_exporter": "python",
   "pygments_lexer": "ipython3",
   "version": "3.13.5"
  }
 },
 "nbformat": 4,
 "nbformat_minor": 5
}
