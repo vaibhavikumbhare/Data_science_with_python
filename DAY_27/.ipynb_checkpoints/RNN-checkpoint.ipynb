{
 "cells": [
  {
   "cell_type": "markdown",
   "id": "98b88b68-77ca-4a37-8cca-4f223564066b",
   "metadata": {},
   "source": [
    "# RNN is text data (sintiment anlysis)\n",
    "## what is RNN?\n",
    "- RNN = re-current neural network.\n",
    "- use the for sequencial data.(text ,time series etc..)\n",
    "- it remainberpreveces inputs in a sequence\n",
    "- why its useful.: word in a senctance hv order an context - RNN can remeber what came before\n",
    "### limitation of vanilla RNN (vanilla = defalut RNN)\n",
    "- struggle wioth long time dependcancys(that is remebaring words from much erlier )\n",
    "- this is fixed by LSTM(long short-tearm) GRU(getetd recurrent unit )\n",
    "# what is sentiment anlysis\n",
    "- A task were we classified text into positive and negative\n",
    "- for ex \"i love this movie = > \"positive\"\n",
    "# dataset \n",
    "- we will use imDB movies( comes with keras)\n",
    "- it has 25 thousand  traing reviews\n",
    "- 25 thousand testing revies\n",
    "- already label as 0 (neg) or 1(positive)"
   ]
  },
  {
   "cell_type": "code",
   "execution_count": null,
   "id": "9fe81327-31b3-44ab-94d2-1d4d3df812a3",
   "metadata": {},
   "outputs": [],
   "source": [
    "import matplotlib.pyplot as plt\n",
    "import tensorflow as tf\n",
    "from tensorflow import keras"
   ]
  }
 ],
 "metadata": {
  "kernelspec": {
   "display_name": "Python 3 (ipykernel)",
   "language": "python",
   "name": "python3"
  },
  "language_info": {
   "codemirror_mode": {
    "name": "ipython",
    "version": 3
   },
   "file_extension": ".py",
   "mimetype": "text/x-python",
   "name": "python",
   "nbconvert_exporter": "python",
   "pygments_lexer": "ipython3",
   "version": "3.13.5"
  }
 },
 "nbformat": 4,
 "nbformat_minor": 5
}
