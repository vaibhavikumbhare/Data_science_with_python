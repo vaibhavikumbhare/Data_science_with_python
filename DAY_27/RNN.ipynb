{
 "cells": [
  {
   "cell_type": "markdown",
   "id": "98b88b68-77ca-4a37-8cca-4f223564066b",
   "metadata": {},
   "source": [
    "# RNN is text data (sintiment anlysis)\n",
    "## what is RNN?\n",
    "- RNN = re-current neural network.\n",
    "- use the for sequencial data.(text ,time series etc..)\n",
    "- it remainberpreveces inputs in a sequence\n",
    "- why its useful.: word in a senctance hv order an context - RNN can remeber what came before\n",
    "### limitation of vanilla RNN (vanilla = defalut RNN)\n",
    "- struggle wioth long time dependcancys(that is remebaring words from much erlier )\n",
    "- this is fixed by LSTM(long short-tearm) GRU(getetd recurrent unit )\n",
    "# what is sentiment anlysis\n",
    "- A task were we classified text into positive and negative\n",
    "- for ex \"i love this movie = > \"positive\"\n",
    "# dataset \n",
    "- we will use imDB movies( comes with keras)\n",
    "- it has 25 thousand  traing reviews\n",
    "- 25 thousand testing revies\n",
    "- already label as 0 (neg) or 1(positive)"
   ]
  },
  {
   "cell_type": "code",
   "execution_count": 1,
   "id": "9fe81327-31b3-44ab-94d2-1d4d3df812a3",
   "metadata": {},
   "outputs": [],
   "source": [
    "import matplotlib.pyplot as plt\n",
    "import tensorflow as tf\n",
    "from tensorflow import keras\n",
    "from tensorflow.keras import layers\n",
    "import matplotlib.pyplot as plt"
   ]
  },
  {
   "cell_type": "markdown",
   "id": "0b9ac268-d632-4e50-be07-328894bff817",
   "metadata": {},
   "source": [
    "# Load the dataset"
   ]
  },
  {
   "cell_type": "code",
   "execution_count": 3,
   "id": "0bbc0faf-b37b-441e-8b96-8f3a2f2b75ea",
   "metadata": {},
   "outputs": [
    {
     "name": "stdout",
     "output_type": "stream",
     "text": [
      "Downloading data from https://storage.googleapis.com/tensorflow/tf-keras-datasets/imdb.npz\n",
      "\u001b[1m17464789/17464789\u001b[0m \u001b[32m━━━━━━━━━━━━━━━━━━━━\u001b[0m\u001b[37m\u001b[0m \u001b[1m5s\u001b[0m 0us/step\n"
     ]
    }
   ],
   "source": [
    "(x_train,y_train),(x_test,y_test) = keras.datasets.imdb.load_data(num_words = 10000)\n",
    "# only keep the top ten thousand most frequent words to redues complexity\n"
   ]
  },
  {
   "cell_type": "code",
   "execution_count": 4,
   "id": "7fd38bd1-29e6-421a-8ae5-65678eae3c6f",
   "metadata": {},
   "outputs": [],
   "source": [
    "# pad sequences so their are all same length\n",
    "x_train = keras.preprocessing.sequence.pad_sequences(x_train,maxlen = 200)\n",
    "x_test = keras.preprocessing.sequence.pad_sequences(x_test,maxlen = 200)"
   ]
  },
  {
   "cell_type": "markdown",
   "id": "701240b0-0dbc-4bea-b2f2-c7a30b2ae038",
   "metadata": {},
   "source": [
    "# expliation\n",
    "- rewies are encoded as integers (each words has index)\n",
    "- pad_sequences ensures all rewies are 200 words long by padding shorter onace "
   ]
  },
  {
   "cell_type": "markdown",
   "id": "5622e895-c0ae-45a4-a172-b8647b07a9a0",
   "metadata": {},
   "source": [
    "# build the model"
   ]
  },
  {
   "cell_type": "code",
   "execution_count": 7,
   "id": "c45782fe-35eb-4871-a79a-f4d80c49769f",
   "metadata": {},
   "outputs": [],
   "source": [
    "model = keras.Sequential([layers.Embedding(input_dim = 10000,output_dim = 32,input_length = 200),layers.LSTM(64),layers.Dense(1,activation = 'sigmoid')])"
   ]
  },
  {
   "cell_type": "markdown",
   "id": "afdb1404-e32d-4d6e-8620-292edfc3de2a",
   "metadata": {},
   "source": [
    "- Embedding: transforms each words index into a dense vector of size 32\n",
    "- LSTM: remaiber sequence information\n",
    "- Dense : final layer woith sigmoid for probablity output (0 or 1)\n"
   ]
  },
  {
   "cell_type": "code",
   "execution_count": 8,
   "id": "a7729b9f-3747-41a0-bc3e-c8e98e596c1a",
   "metadata": {},
   "outputs": [],
   "source": [
    "# compile the model\n",
    "model.compile(loss = \"binary_crossentropy\", optimizer=\"adam\",metrics=[\"accuracy\"])"
   ]
  },
  {
   "cell_type": "markdown",
   "id": "0f7f1555-e114-4315-b77a-b610691c427a",
   "metadata": {},
   "source": [
    "- binary_crossentropy is used for binary classification\n",
    "- adam is powerful optimazer\n",
    "- accuracy to track performance"
   ]
  },
  {
   "cell_type": "code",
   "execution_count": 12,
   "id": "0009253a-ce20-42d4-8ccd-825850a2d878",
   "metadata": {},
   "outputs": [
    {
     "name": "stdout",
     "output_type": "stream",
     "text": [
      "Epoch 1/5\n",
      "\u001b[1m313/313\u001b[0m \u001b[32m━━━━━━━━━━━━━━━━━━━━\u001b[0m\u001b[37m\u001b[0m \u001b[1m95s\u001b[0m 302ms/step - accuracy: 0.9581 - loss: 0.1184 - val_accuracy: 0.8662 - val_loss: 0.3977\n",
      "Epoch 2/5\n",
      "\u001b[1m313/313\u001b[0m \u001b[32m━━━━━━━━━━━━━━━━━━━━\u001b[0m\u001b[37m\u001b[0m \u001b[1m109s\u001b[0m 197ms/step - accuracy: 0.9578 - loss: 0.1197 - val_accuracy: 0.8550 - val_loss: 0.4112\n",
      "Epoch 3/5\n",
      "\u001b[1m313/313\u001b[0m \u001b[32m━━━━━━━━━━━━━━━━━━━━\u001b[0m\u001b[37m\u001b[0m \u001b[1m68s\u001b[0m 216ms/step - accuracy: 0.9743 - loss: 0.0782 - val_accuracy: 0.8578 - val_loss: 0.4598\n",
      "Epoch 4/5\n",
      "\u001b[1m313/313\u001b[0m \u001b[32m━━━━━━━━━━━━━━━━━━━━\u001b[0m\u001b[37m\u001b[0m \u001b[1m63s\u001b[0m 203ms/step - accuracy: 0.9778 - loss: 0.0683 - val_accuracy: 0.8572 - val_loss: 0.5006\n",
      "Epoch 5/5\n",
      "\u001b[1m313/313\u001b[0m \u001b[32m━━━━━━━━━━━━━━━━━━━━\u001b[0m\u001b[37m\u001b[0m \u001b[1m64s\u001b[0m 205ms/step - accuracy: 0.9825 - loss: 0.0555 - val_accuracy: 0.8600 - val_loss: 0.5356\n"
     ]
    }
   ],
   "source": [
    "# train the model\n",
    "histroy = model.fit(x_train,y_train,epochs = 5,batch_size=64,validation_split=0.2)"
   ]
  },
  {
   "cell_type": "code",
   "execution_count": 13,
   "id": "a5307bd5-001e-42a0-ad02-9f2bc66d565e",
   "metadata": {},
   "outputs": [
    {
     "name": "stdout",
     "output_type": "stream",
     "text": [
      "\u001b[1m782/782\u001b[0m \u001b[32m━━━━━━━━━━━━━━━━━━━━\u001b[0m\u001b[37m\u001b[0m \u001b[1m32s\u001b[0m 41ms/step - accuracy: 0.8479 - loss: 0.5811\n",
      "test accuracy:0.8479200005531311\n"
     ]
    }
   ],
   "source": [
    "# evalueate \n",
    "test_loss,test_acc = model.evaluate(x_test,y_test)\n",
    "print(f\"test accuracy:{test_acc}\")"
   ]
  },
  {
   "cell_type": "code",
   "execution_count": null,
   "id": "775820fe-816c-4b96-adb6-5bfc18645502",
   "metadata": {},
   "outputs": [],
   "source": []
  }
 ],
 "metadata": {
  "kernelspec": {
   "display_name": "Python 3 (ipykernel)",
   "language": "python",
   "name": "python3"
  },
  "language_info": {
   "codemirror_mode": {
    "name": "ipython",
    "version": 3
   },
   "file_extension": ".py",
   "mimetype": "text/x-python",
   "name": "python",
   "nbconvert_exporter": "python",
   "pygments_lexer": "ipython3",
   "version": "3.13.5"
  }
 },
 "nbformat": 4,
 "nbformat_minor": 5
}
