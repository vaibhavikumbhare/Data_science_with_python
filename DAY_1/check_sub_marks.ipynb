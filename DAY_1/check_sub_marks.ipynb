{
 "cells": [
  {
   "cell_type": "code",
   "execution_count": 1,
   "id": "99b22b16-5a89-4a33-ab5f-2836286554f2",
   "metadata": {},
   "outputs": [],
   "source": [
    "def check_sub_marks(maths,marathi):\n",
    "    if(maths>marathi):\n",
    "        print(\"maths is grater than marathi\")\n",
    "    elif(maths==marathi):\n",
    "        print(\"maths is equal to marathi\")\n",
    "    else:\n",
    "        print(\"maths is smaller than marathi\")\n",
    "    \n",
    "    "
   ]
  },
  {
   "cell_type": "code",
   "execution_count": 2,
   "id": "0813f684-71ff-4b14-8b92-9e0cb98d0f38",
   "metadata": {},
   "outputs": [
    {
     "name": "stdout",
     "output_type": "stream",
     "text": [
      "maths is grater than marathi\n"
     ]
    }
   ],
   "source": [
    "check_sub_marks(30,20)"
   ]
  },
  {
   "cell_type": "code",
   "execution_count": null,
   "id": "3f08ac9d-d765-46e6-a381-0bacedfa8b1e",
   "metadata": {},
   "outputs": [],
   "source": []
  }
 ],
 "metadata": {
  "kernelspec": {
   "display_name": "Python 3 (ipykernel)",
   "language": "python",
   "name": "python3"
  },
  "language_info": {
   "codemirror_mode": {
    "name": "ipython",
    "version": 3
   },
   "file_extension": ".py",
   "mimetype": "text/x-python",
   "name": "python",
   "nbconvert_exporter": "python",
   "pygments_lexer": "ipython3",
   "version": "3.13.5"
  }
 },
 "nbformat": 4,
 "nbformat_minor": 5
}
