{
 "cells": [
  {
   "cell_type": "code",
   "execution_count": 7,
   "id": "c3fd9a26-049a-47f0-9dd2-dc0622e280e8",
   "metadata": {},
   "outputs": [],
   "source": [
    "def check_even_odd(num):\n",
    "    if (num % 2==0):\n",
    "        print(f\"{num} number is even\")\n",
    "    else:\n",
    "        print(f\"{num} number is odd\")\n",
    "        "
   ]
  },
  {
   "cell_type": "code",
   "execution_count": 8,
   "id": "fafafe8d-24b5-4eb9-b6c8-17efd0be2751",
   "metadata": {},
   "outputs": [
    {
     "name": "stdout",
     "output_type": "stream",
     "text": [
      "8 number is even\n"
     ]
    }
   ],
   "source": [
    "check_even_odd(8)\n"
   ]
  },
  {
   "cell_type": "code",
   "execution_count": null,
   "id": "3af4a7a5-7249-48f8-a004-949d5a3ad756",
   "metadata": {},
   "outputs": [],
   "source": []
  }
 ],
 "metadata": {
  "kernelspec": {
   "display_name": "Python 3 (ipykernel)",
   "language": "python",
   "name": "python3"
  },
  "language_info": {
   "codemirror_mode": {
    "name": "ipython",
    "version": 3
   },
   "file_extension": ".py",
   "mimetype": "text/x-python",
   "name": "python",
   "nbconvert_exporter": "python",
   "pygments_lexer": "ipython3",
   "version": "3.13.5"
  }
 },
 "nbformat": 4,
 "nbformat_minor": 5
}
