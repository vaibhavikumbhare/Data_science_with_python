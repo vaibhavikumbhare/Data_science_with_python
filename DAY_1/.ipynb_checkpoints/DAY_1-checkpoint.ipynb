{
 "cells": [
  {
   "cell_type": "code",
   "execution_count": 64,
   "id": "f49e595e-efca-47cf-be6e-52ba3cb76768",
   "metadata": {},
   "outputs": [],
   "source": [
    "def check_num(a,b=70):\n",
    "    if(a>b):\n",
    "        print(f\"{a} grater than {b}\")  \n",
    "    else:\n",
    "        print (f\"{a} smaller than {b}\") \n",
    "    "
   ]
  },
  {
   "cell_type": "code",
   "execution_count": 65,
   "id": "3bbf5b1a-9f7c-4176-96c1-a1399eb4c45b",
   "metadata": {},
   "outputs": [
    {
     "name": "stdout",
     "output_type": "stream",
     "text": [
      "2 smaller than 70\n"
     ]
    }
   ],
   "source": [
    "check_num(2)"
   ]
  },
  {
   "cell_type": "code",
   "execution_count": null,
   "id": "fca6c2d8-d8e4-4de1-b916-1abb985895c9",
   "metadata": {},
   "outputs": [],
   "source": []
  }
 ],
 "metadata": {
  "kernelspec": {
   "display_name": "Python 3 (ipykernel)",
   "language": "python",
   "name": "python3"
  },
  "language_info": {
   "codemirror_mode": {
    "name": "ipython",
    "version": 3
   },
   "file_extension": ".py",
   "mimetype": "text/x-python",
   "name": "python",
   "nbconvert_exporter": "python",
   "pygments_lexer": "ipython3",
   "version": "3.13.5"
  }
 },
 "nbformat": 4,
 "nbformat_minor": 5
}
