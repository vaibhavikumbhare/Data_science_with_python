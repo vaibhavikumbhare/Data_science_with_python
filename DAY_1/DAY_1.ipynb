{
 "cells": [
  {
   "cell_type": "code",
   "execution_count": 64,
   "id": "f49e595e-efca-47cf-be6e-52ba3cb76768",
   "metadata": {},
   "outputs": [],
   "source": [
    "def check_num(a,b=70):\n",
    "    if(a>b):\n",
    "        print(f\"{a} grater than {b}\")  \n",
    "    else:\n",
    "        print (f\"{a} smaller than {b}\") \n",
    "    "
   ]
  },
  {
   "cell_type": "code",
   "execution_count": 65,
   "id": "3bbf5b1a-9f7c-4176-96c1-a1399eb4c45b",
   "metadata": {},
   "outputs": [
    {
     "name": "stdout",
     "output_type": "stream",
     "text": [
      "2 smaller than 70\n"
     ]
    }
   ],
   "source": [
    "check_num(2)"
   ]
  },
  {
   "cell_type": "code",
   "execution_count": 2,
   "id": "0958c2c8-d9f9-4c71-981b-d68d0b2bb081",
   "metadata": {},
   "outputs": [
    {
     "name": "stdout",
     "output_type": "stream",
     "text": [
      "5\n"
     ]
    }
   ],
   "source": [
    "number=5\n",
    "print(number)"
   ]
  },
  {
   "cell_type": "code",
   "execution_count": 4,
   "id": "84ecf26a-517b-4af8-bce3-364504b8cdb0",
   "metadata": {},
   "outputs": [
    {
     "name": "stdout",
     "output_type": "stream",
     "text": [
      "1.5\n"
     ]
    }
   ],
   "source": [
    "dec=1.5\n",
    "print(dec)"
   ]
  },
  {
   "cell_type": "code",
   "execution_count": 5,
   "id": "446755ff-8843-4fe7-aa79-496ff8b02ad2",
   "metadata": {},
   "outputs": [
    {
     "name": "stdout",
     "output_type": "stream",
     "text": [
      "arnav\n"
     ]
    }
   ],
   "source": [
    "name='arnr'\n",
    "print(name)"
   ]
  },
  {
   "cell_type": "code",
   "execution_count": 7,
   "id": "6d6217d6-9b23-48aa-86bc-9cac7b208e54",
   "metadata": {},
   "outputs": [
    {
     "name": "stdout",
     "output_type": "stream",
     "text": [
      "True\n"
     ]
    }
   ],
   "source": [
    "can_vote=True\n",
    "print(can_vote)"
   ]
  },
  {
   "cell_type": "code",
   "execution_count": 2,
   "id": "f9a867b1-2f76-4460-a8ba-7cf732877746",
   "metadata": {},
   "outputs": [],
   "source": [
    "def check_sub_marks(maths,marathi):\n",
    "    if(maths>marathi):\n",
    "        print(\"maths is grater than marathi\")\n",
    "    elif(maths==marathi):\n",
    "        print(\"maths is equal to marathi\")\n",
    "    else:\n",
    "        print(\"maths is smaller than marathi\")\n",
    "    \n",
    "    "
   ]
  },
  {
   "cell_type": "code",
   "execution_count": 3,
   "id": "59a48877-62af-4165-80c6-6709514e6b85",
   "metadata": {},
   "outputs": [
    {
     "name": "stdout",
     "output_type": "stream",
     "text": [
      "maths is grater than marathi\n"
     ]
    }
   ],
   "source": [
    "check_sub_marks(30,20)"
   ]
  },
  {
   "cell_type": "code",
   "execution_count": 4,
   "id": "2ca11493-1503-42f4-8dc9-8cb1ea422e40",
   "metadata": {},
   "outputs": [],
   "source": [
    "def check_even_odd(num):\n",
    "    if (num % 2==0):\n",
    "        print(f\"{num} number is even\")\n",
    "    else:\n",
    "        print(f\"{num} number is odd\")\n",
    "        "
   ]
  },
  {
   "cell_type": "code",
   "execution_count": 5,
   "id": "02ac9c52-a819-4921-bb11-92f033d309c9",
   "metadata": {},
   "outputs": [
    {
     "name": "stdout",
     "output_type": "stream",
     "text": [
      "8 number is even\n"
     ]
    }
   ],
   "source": [
    "check_even_odd(8)\n"
   ]
  },
  {
   "cell_type": "code",
   "execution_count": null,
   "id": "ab40bb6f-ff29-4884-9351-614aa02c25c3",
   "metadata": {},
   "outputs": [],
   "source": []
  }
 ],
 "metadata": {
  "kernelspec": {
   "display_name": "Python 3 (ipykernel)",
   "language": "python",
   "name": "python3"
  },
  "language_info": {
   "codemirror_mode": {
    "name": "ipython",
    "version": 3
   },
   "file_extension": ".py",
   "mimetype": "text/x-python",
   "name": "python",
   "nbconvert_exporter": "python",
   "pygments_lexer": "ipython3",
   "version": "3.13.5"
  }
 },
 "nbformat": 4,
 "nbformat_minor": 5
}
